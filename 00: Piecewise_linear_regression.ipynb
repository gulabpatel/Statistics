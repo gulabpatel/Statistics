{
  "nbformat": 4,
  "nbformat_minor": 0,
  "metadata": {
    "kernelspec": {
      "display_name": "Python 3",
      "language": "python",
      "name": "python3"
    },
    "language_info": {
      "codemirror_mode": {
        "name": "ipython",
        "version": 3
      },
      "file_extension": ".py",
      "mimetype": "text/x-python",
      "name": "python",
      "nbconvert_exporter": "python",
      "pygments_lexer": "ipython3",
      "version": "3.6.2"
    },
    "colab": {
      "name": "00: Piecewise_linear_regression.ipynb",
      "provenance": []
    }
  },
  "cells": [
    {
      "cell_type": "markdown",
      "metadata": {
        "id": "bFgQ5zt6hEKy"
      },
      "source": [
        "# Piecewise Linear Regression Demo"
      ]
    },
    {
      "cell_type": "markdown",
      "metadata": {
        "id": "f-HSBR8QhEK5"
      },
      "source": [
        "Note: Piecewise is mostly not used by itself. Most of regression technique assumes independent variables to have linear boundry. Piecewise can be used to break up non-linear features on breakpoint to create linear interpretation or used to segment key features that can further be used to fit individual models\n",
        "\n",
        "Importing required libraries. We will use pwlf python library to demonstrate simple piecewise linear regression"
      ]
    },
    {
      "cell_type": "code",
      "metadata": {
        "colab": {
          "base_uri": "https://localhost:8080/"
        },
        "id": "Qvt3tNXonyho",
        "outputId": "8bf8dec2-ed47-4f62-dde2-5effc7deb30c"
      },
      "source": [
        "!pip install pwlf"
      ],
      "execution_count": 2,
      "outputs": [
        {
          "output_type": "stream",
          "text": [
            "Collecting pwlf\n",
            "  Downloading https://files.pythonhosted.org/packages/25/db/00b3067ce44edbb097571e336f27398ed0187408a0419ac3f947d6ae8c53/pwlf-2.0.4.tar.gz\n",
            "Requirement already satisfied: numpy>=1.14.0 in /usr/local/lib/python3.7/dist-packages (from pwlf) (1.19.5)\n",
            "Requirement already satisfied: scipy>=1.2.0 in /usr/local/lib/python3.7/dist-packages (from pwlf) (1.4.1)\n",
            "Collecting pyDOE>=0.3.8\n",
            "  Downloading https://files.pythonhosted.org/packages/bc/ac/91fe4c039e2744466621343d3b8af4a485193ed0aab53af5b1db03be0989/pyDOE-0.3.8.zip\n",
            "Building wheels for collected packages: pwlf, pyDOE\n",
            "  Building wheel for pwlf (setup.py) ... \u001b[?25l\u001b[?25hdone\n",
            "  Created wheel for pwlf: filename=pwlf-2.0.4-cp37-none-any.whl size=16143 sha256=68eb1711219eccc73ece48fc1ba75e98afb6a9b3a59035f4f03eb8828493347d\n",
            "  Stored in directory: /root/.cache/pip/wheels/aa/b4/ef/2cb67a24a71a0d9dd93a5ba02f46106e9fa34dd2e3d9d8b4a0\n",
            "  Building wheel for pyDOE (setup.py) ... \u001b[?25l\u001b[?25hdone\n",
            "  Created wheel for pyDOE: filename=pyDOE-0.3.8-cp37-none-any.whl size=18178 sha256=4a07b72addb9f62910cd4e72bb3716bfada940ea802c8b948db974b482902cd0\n",
            "  Stored in directory: /root/.cache/pip/wheels/7c/c8/58/a6493bd415e8ba5735082b5e0c096d7c1f2933077a8ce34544\n",
            "Successfully built pwlf pyDOE\n",
            "Installing collected packages: pyDOE, pwlf\n",
            "Successfully installed pwlf-2.0.4 pyDOE-0.3.8\n"
          ],
          "name": "stdout"
        }
      ]
    },
    {
      "cell_type": "code",
      "metadata": {
        "collapsed": true,
        "id": "th0tLHq3hEK6"
      },
      "source": [
        "import pwlf\n",
        "import matplotlib.pyplot as plt\n",
        "import numpy as np"
      ],
      "execution_count": 3,
      "outputs": []
    },
    {
      "cell_type": "markdown",
      "metadata": {
        "id": "SOQoQVVBhEK7"
      },
      "source": [
        "Let us first generate a sample dataset and define ponts with non linear boundry. We will use the data to fit piecewise regression and also linear regression "
      ]
    },
    {
      "cell_type": "code",
      "metadata": {
        "collapsed": true,
        "id": "q4YQXm7MhEK8"
      },
      "source": [
        "y_train = np.array([1.70, 1.45, 1.50, 1.42, 1.39, 1.90, 2.49, 2.21, 2.57, 2.90, 3.55, 3.80, 4.27, 4.10, 4.60, 4.42, 4.30, 4.52, 4.40, 4.50, 4.15,4.30,4.35], order=None)\n",
        "x_train = np.array([478, 525, 580,  650,  700,  720,  780,  825,  850,  900,  930,  980, 1020, 1040, 1050, 1075, 1081, 1100, 1160, 1180, 1200,1220,1240], order=None)  "
      ],
      "execution_count": 4,
      "outputs": []
    },
    {
      "cell_type": "markdown",
      "metadata": {
        "id": "0cLu7MpRhEK8"
      },
      "source": [
        "## Visualize generated dataset"
      ]
    },
    {
      "cell_type": "markdown",
      "metadata": {
        "id": "eaDwjBZrhEK8"
      },
      "source": [
        "From the plot it is very evident that fitting an linear regression line might result in larger standard error. Option is to go to slightly complex algorithm like SVM and Tree that can fit non linear boundry. But for here let us see if we can use piecewise linear regression to better fit the data"
      ]
    },
    {
      "cell_type": "markdown",
      "metadata": {
        "id": "RGGTk8pNhEK9"
      },
      "source": [
        "Simpler models are better interpretable and explainable. Scenario like credit decisioning which are regulated by fair act lending law explainability is key. If we visualize credit approval based on FICO as independent variable and probability of default as dependent, decision will always tend to favor high FICO score customers when using linear regression models"
      ]
    },
    {
      "cell_type": "markdown",
      "metadata": {
        "id": "Di8mFhV2hEK9"
      },
      "source": [
        "One way of solving below decision boundry is to segment users manually (in above case FICO score) and fit linear models for individual segments\n",
        "\n",
        "Piecewise does something similar but uses a global optimization to find breakpoint locations that minimize the sum of squares error."
      ]
    },
    {
      "cell_type": "code",
      "metadata": {
        "id": "1qPxpslshEK9",
        "colab": {
          "base_uri": "https://localhost:8080/",
          "height": 279
        },
        "outputId": "4e26a9c4-7b40-4e5b-dc56-957c3914ff40"
      },
      "source": [
        "plt.plot(x_train, y_train, 'o', color='black')\n",
        "plt.xlabel('x')\n",
        "plt.ylabel('y')\n",
        "plt.show()"
      ],
      "execution_count": 5,
      "outputs": [
        {
          "output_type": "display_data",
          "data": {
            "image/png": "[encoded data removed]",
            "text/plain": [
              "<Figure size 432x288 with 1 Axes>"
            ]
          },
          "metadata": {
            "tags": [],
            "needs_background": "light"
          }
        }
      ]
    },
    {
      "cell_type": "markdown",
      "metadata": {
        "id": "9YiupTPZhEK_"
      },
      "source": [
        "Initialize piecewise linear fit with x_train and y_train data point"
      ]
    },
    {
      "cell_type": "code",
      "metadata": {
        "collapsed": true,
        "id": "j_bBXMlghELA"
      },
      "source": [
        "pwlf = pwlf.PiecewiseLinFit(x_train, y_train)"
      ],
      "execution_count": 6,
      "outputs": []
    },
    {
      "cell_type": "markdown",
      "metadata": {
        "id": "iknQq9yghELA"
      },
      "source": [
        "From the plot above it is evident we can fit the data using 3 regression lines"
      ]
    },
    {
      "cell_type": "code",
      "metadata": {
        "collapsed": true,
        "id": "lCkvcumXhELB"
      },
      "source": [
        "pwise_model = pwlf.fit(3)"
      ],
      "execution_count": 7,
      "outputs": []
    },
    {
      "cell_type": "markdown",
      "metadata": {
        "id": "5LMAFBf2hELB"
      },
      "source": [
        "Generate evenly spaced test dataset to check model fit similar to training interval <br/>\n",
        "Predict on generated test data"
      ]
    },
    {
      "cell_type": "code",
      "metadata": {
        "id": "ns0RgoSAhELB"
      },
      "source": [
        "x_test = np.linspace(min(x_train), max(x_train), num=100)\n",
        "yHat_piecewise = pwlf.predict(x_test)"
      ],
      "execution_count": 8,
      "outputs": []
    },
    {
      "cell_type": "markdown",
      "metadata": {
        "id": "5huPWKQ1hELC"
      },
      "source": [
        "Plot the results of piecewise fitted model"
      ]
    },
    {
      "cell_type": "code",
      "metadata": {
        "id": "DIERiZebhELC",
        "colab": {
          "base_uri": "https://localhost:8080/",
          "height": 265
        },
        "outputId": "89dd531d-02ef-4edb-e450-c8d7b54d0e87"
      },
      "source": [
        "plt.figure()\n",
        "plt.plot(x_train, y_train, 'o')\n",
        "plt.plot(x_test, yHat_piecewise, '-')\n",
        "plt.show()"
      ],
      "execution_count": 10,
      "outputs": [
        {
          "output_type": "display_data",
          "data": {
            "image/png": "[encoded data removed]",
            "text/plain": [
              "<Figure size 432x288 with 1 Axes>"
            ]
          },
          "metadata": {
            "tags": [],
            "needs_background": "light"
          }
        }
      ]
    },
    {
      "cell_type": "markdown",
      "metadata": {
        "id": "VmLRkNHxhELC"
      },
      "source": [
        "## Get details of piecewise breakpoint boundry and model co-efficients "
      ]
    },
    {
      "cell_type": "markdown",
      "metadata": {
        "id": "GeT63Mi8hELD"
      },
      "source": [
        "fit_breaks extracts 3 regression breakpoint model was fitted on"
      ]
    },
    {
      "cell_type": "markdown",
      "metadata": {
        "id": "mtvvIxH_hELD"
      },
      "source": [
        "Each break defines the segment of data individual linear regression line is fitted on <br/>\n",
        "First line is fitted on X data point 0 till 478 <br/>\n",
        "Second line is fitted on X data point between 479 to 681.67 <br/>\n",
        "Third line is fitted on X data point between 681.68 till 1056.53"
      ]
    },
    {
      "cell_type": "code",
      "metadata": {
        "id": "cAf4Xy5rhELD",
        "colab": {
          "base_uri": "https://localhost:8080/"
        },
        "outputId": "ceb6595c-c0c9-4b41-e42f-da6b978e3209"
      },
      "source": [
        "pwlf.fit_breaks[0]"
      ],
      "execution_count": 11,
      "outputs": [
        {
          "output_type": "execute_result",
          "data": {
            "text/plain": [
              "478.0"
            ]
          },
          "metadata": {
            "tags": []
          },
          "execution_count": 11
        }
      ]
    },
    {
      "cell_type": "code",
      "metadata": {
        "id": "5w9xMH8YhELD",
        "colab": {
          "base_uri": "https://localhost:8080/"
        },
        "outputId": "e6e9ae52-253a-4f80-999c-1c8147257c60"
      },
      "source": [
        "pwlf.fit_breaks[1]"
      ],
      "execution_count": 12,
      "outputs": [
        {
          "output_type": "execute_result",
          "data": {
            "text/plain": [
              "681.6034895627508"
            ]
          },
          "metadata": {
            "tags": []
          },
          "execution_count": 12
        }
      ]
    },
    {
      "cell_type": "code",
      "metadata": {
        "id": "v2iJLDLehELE",
        "colab": {
          "base_uri": "https://localhost:8080/"
        },
        "outputId": "d58515f2-be37-47e2-a1e3-705db2483796"
      },
      "source": [
        "pwlf.fit_breaks[2]"
      ],
      "execution_count": 13,
      "outputs": [
        {
          "output_type": "execute_result",
          "data": {
            "text/plain": [
              "1056.5174400920168"
            ]
          },
          "metadata": {
            "tags": []
          },
          "execution_count": 13
        }
      ]
    },
    {
      "cell_type": "markdown",
      "metadata": {
        "id": "q0SEBOonhELE"
      },
      "source": [
        "## Co-efficients and Intercepts of every fitted line. In this case 3"
      ]
    },
    {
      "cell_type": "code",
      "metadata": {
        "id": "onDE0pEuhELE",
        "colab": {
          "base_uri": "https://localhost:8080/"
        },
        "outputId": "d863dfb5-15f4-4d6a-daf0-801d63894fc2"
      },
      "source": [
        "pwlf.slopes"
      ],
      "execution_count": 14,
      "outputs": [
        {
          "output_type": "execute_result",
          "data": {
            "text/plain": [
              "array([-0.00132235,  0.00821918, -0.00068077])"
            ]
          },
          "metadata": {
            "tags": []
          },
          "execution_count": 14
        }
      ]
    },
    {
      "cell_type": "code",
      "metadata": {
        "id": "UoBXaSTLhELF",
        "colab": {
          "base_uri": "https://localhost:8080/"
        },
        "outputId": "8b8afcf5-a9f9-4cdd-f08c-f42b5955b58e"
      },
      "source": [
        "pwlf.intercepts"
      ],
      "execution_count": 15,
      "outputs": [
        {
          "output_type": "execute_result",
          "data": {
            "text/plain": [
              "array([ 2.25568656, -4.24785414,  5.15509778])"
            ]
          },
          "metadata": {
            "tags": []
          },
          "execution_count": 15
        }
      ]
    },
    {
      "cell_type": "markdown",
      "metadata": {
        "id": "YsXSMUlJhELF"
      },
      "source": [
        "That's end of piecewise regression. You can follow below to see what single regression line would have done in this case"
      ]
    },
    {
      "cell_type": "markdown",
      "metadata": {
        "id": "KMb-JDjthELF"
      },
      "source": [
        "## Check for bonus material towards the end on how to deploy piecewise in production"
      ]
    },
    {
      "cell_type": "markdown",
      "metadata": {
        "id": "s0ZyIrDdhELF"
      },
      "source": [
        "# Simple Linear regression Just to compare the fit with piecewise plot above"
      ]
    },
    {
      "cell_type": "code",
      "metadata": {
        "collapsed": true,
        "id": "mgqMcLelhELG"
      },
      "source": [
        "from sklearn.linear_model import LinearRegression"
      ],
      "execution_count": 16,
      "outputs": []
    },
    {
      "cell_type": "code",
      "metadata": {
        "id": "J5JfmIHyhELG"
      },
      "source": [
        "x_train=x_train.reshape((x_train.size,1))\n",
        "y_train=y_train.reshape((y_train.size,1))\n",
        "x_test=x_test.reshape((x_test.size,1))"
      ],
      "execution_count": 17,
      "outputs": []
    },
    {
      "cell_type": "code",
      "metadata": {
        "id": "WTM2ZLuzhELG"
      },
      "source": [
        "reg_model = LinearRegression().fit(x_train, y_train)"
      ],
      "execution_count": 18,
      "outputs": []
    },
    {
      "cell_type": "code",
      "metadata": {
        "id": "UMlaigTlhELG"
      },
      "source": [
        "yHat_reg=reg_model.predict(x_test)"
      ],
      "execution_count": 19,
      "outputs": []
    },
    {
      "cell_type": "markdown",
      "metadata": {
        "id": "1e_-zBFVhELH"
      },
      "source": [
        "Based on plot below we can see single regression line has higher standard error "
      ]
    },
    {
      "cell_type": "code",
      "metadata": {
        "id": "BUPIuP1phELH",
        "colab": {
          "base_uri": "https://localhost:8080/",
          "height": 268
        },
        "outputId": "e59be942-f03e-4d64-9212-d3adebfeb739"
      },
      "source": [
        "plt.figure()\n",
        "plt.plot(x_train, y_train, 'o')\n",
        "plt.plot(x_test, yHat_reg, '-')\n",
        "plt.show()"
      ],
      "execution_count": 20,
      "outputs": [
        {
          "output_type": "display_data",
          "data": {
            "image/png": "[encoded data removed]",
            "text/plain": [
              "<Figure size 432x288 with 1 Axes>"
            ]
          },
          "metadata": {
            "tags": [],
            "needs_background": "light"
          }
        }
      ]
    },
    {
      "cell_type": "code",
      "metadata": {
        "id": "T2Jg8eMThELH",
        "colab": {
          "base_uri": "https://localhost:8080/"
        },
        "outputId": "712aa707-9e74-4cf6-910f-663b66936c5e"
      },
      "source": [
        "reg_model.coef_"
      ],
      "execution_count": 21,
      "outputs": [
        {
          "output_type": "execute_result",
          "data": {
            "text/plain": [
              "array([[0.00501184]])"
            ]
          },
          "metadata": {
            "tags": []
          },
          "execution_count": 21
        }
      ]
    },
    {
      "cell_type": "markdown",
      "metadata": {
        "id": "2tqEhba_hELH"
      },
      "source": [
        "## Bonus  - Deploying piecewise in production"
      ]
    },
    {
      "cell_type": "markdown",
      "metadata": {
        "id": "8OO9u1I4hELI"
      },
      "source": [
        "## While the biggest bonus is this is not overfitting line. Piecewise generalizes very well. Try it out if you dont trust me"
      ]
    },
    {
      "cell_type": "markdown",
      "metadata": {
        "id": "kipcsTYIhELI"
      },
      "source": [
        "Deploying is as simple as building an hirearchical tree of each piecewise fitted regression model <br/>\n",
        "Remember from top the 3 segment the mocel was fitted on <br/>\n",
        "First line is fitted on X data point 0 till 478 <br/>\n",
        "Second line is fitted on X data point between 479 to 681.67 <br/>\n",
        "Third line is fitted on X data point between 681.68 till 1056.53 <br/>"
      ]
    },
    {
      "cell_type": "markdown",
      "metadata": {
        "id": "RRtV0Y50hELI"
      },
      "source": [
        "And the intercepts and co-eeficient for 3 regression line are <br/>\n",
        "Intercepts - array([ 2.25382915, -4.24817018,  5.1564764 ]) <br/>\n",
        "Co-efficients - array([-0.00131881,  0.00821945, -0.00068192])"
      ]
    },
    {
      "cell_type": "markdown",
      "metadata": {
        "id": "px5CHuCjhELI"
      },
      "source": [
        "In application just use the below to deploy it within your business process"
      ]
    },
    {
      "cell_type": "markdown",
      "metadata": {
        "id": "kH1EYjarhELJ"
      },
      "source": [
        "if x < 478  <br/>\n",
        "    y_pred = 2.25382915 + x &#8727; -0.00131881 <br/>\n",
        "else if x > 478 and x <= 681.67 <br/>\n",
        "    y_pred = -4.24817018 + x &#8727; 0.00821945 <br/>\n",
        "else <br/>\n",
        "    y_pred = 5.1564764 + x &#8727; -0.00068192\n"
      ]
    },
    {
      "cell_type": "markdown",
      "metadata": {
        "id": "uA2sgx_ahELJ"
      },
      "source": [
        "Another way is to use below equation but in this case you are assuming you are calculation prediction for all 3 classes\n",
        "\n",
        "pf(x) = y1 &#8727; max(x − breakpoint1, 0) + y2 &#8727; max(x − breakpoint2, 0) + y3 &#8727; max(x − breakpoint3, 0)"
      ]
    }
  ]
}