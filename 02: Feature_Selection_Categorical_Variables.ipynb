{
  "nbformat": 4,
  "nbformat_minor": 0,
  "metadata": {
    "colab": {
      "name": "02: Feature_Selection_Categorical_Variables.ipynb",
      "provenance": [],
      "collapsed_sections": []
    },
    "kernelspec": {
      "name": "python3",
      "display_name": "Python 3"
    }
  },
  "cells": [
    {
      "cell_type": "markdown",
      "metadata": {
        "id": "oJNS-jOQto9S"
      },
      "source": [
        "Video link of code walkthrough below is here - https://www.youtube.com/watch?v=H9AULpvRxgM"
      ]
    },
    {
      "cell_type": "code",
      "metadata": {
        "id": "e9bxlsmdUbGs"
      },
      "source": [
        "import warnings\n",
        "warnings.simplefilter(action='ignore', category=FutureWarning)\n",
        "\n",
        "import pandas as pd\n",
        "import numpy as np\n",
        "\n",
        "import seaborn as sns\n",
        "import matplotlib.pyplot as plt\n",
        "%matplotlib inline\n"
      ],
      "execution_count": 1,
      "outputs": []
    },
    {
      "cell_type": "code",
      "metadata": {
        "id": "Tf-qQhw_UxRY"
      },
      "source": [
        "churn_master_df = pd.read_csv('https://raw.githubusercontent.com/srivatsan88/YouTubeLI/master/dataset/churn_data_st.csv')"
      ],
      "execution_count": 2,
      "outputs": []
    },
    {
      "cell_type": "code",
      "metadata": {
        "id": "YbGZJ0M3Vit-"
      },
      "source": [
        "churn_df = churn_master_df.copy()"
      ],
      "execution_count": 3,
      "outputs": []
    },
    {
      "cell_type": "code",
      "metadata": {
        "id": "3kReN7s4U0Mm",
        "colab": {
          "base_uri": "https://localhost:8080/",
          "height": 202
        },
        "outputId": "d8042a4c-cf03-4d01-917e-acb5dfa367dc"
      },
      "source": [
        "churn_df.head()"
      ],
      "execution_count": 4,
      "outputs": [
        {
          "output_type": "execute_result",
          "data": {
            "text/html": [
              "<div>\n",
              "<style scoped>\n",
              "    .dataframe tbody tr th:only-of-type {\n",
              "        vertical-align: middle;\n",
              "    }\n",
              "\n",
              "    .dataframe tbody tr th {\n",
              "        vertical-align: top;\n",
              "    }\n",
              "\n",
              "    .dataframe thead th {\n",
              "        text-align: right;\n",
              "    }\n",
              "</style>\n",
              "<table border=\"1\" class=\"dataframe\">\n",
              "  <thead>\n",
              "    <tr style=\"text-align: right;\">\n",
              "      <th></th>\n",
              "      <th>customerID</th>\n",
              "      <th>gender</th>\n",
              "      <th>SeniorCitizen</th>\n",
              "      <th>tenure</th>\n",
              "      <th>ServiceCount</th>\n",
              "      <th>Contract</th>\n",
              "      <th>PaperlessBilling</th>\n",
              "      <th>MonthlyCharges</th>\n",
              "      <th>TotalCharges</th>\n",
              "      <th>Churn</th>\n",
              "    </tr>\n",
              "  </thead>\n",
              "  <tbody>\n",
              "    <tr>\n",
              "      <th>0</th>\n",
              "      <td>7590-VHVEG</td>\n",
              "      <td>Female</td>\n",
              "      <td>0</td>\n",
              "      <td>1</td>\n",
              "      <td>2</td>\n",
              "      <td>Month-to-month</td>\n",
              "      <td>Yes</td>\n",
              "      <td>29.85</td>\n",
              "      <td>29.85</td>\n",
              "      <td>No</td>\n",
              "    </tr>\n",
              "    <tr>\n",
              "      <th>1</th>\n",
              "      <td>5575-GNVDE</td>\n",
              "      <td>Male</td>\n",
              "      <td>0</td>\n",
              "      <td>34</td>\n",
              "      <td>4</td>\n",
              "      <td>One year</td>\n",
              "      <td>No</td>\n",
              "      <td>56.95</td>\n",
              "      <td>1889.50</td>\n",
              "      <td>No</td>\n",
              "    </tr>\n",
              "    <tr>\n",
              "      <th>2</th>\n",
              "      <td>3668-QPYBK</td>\n",
              "      <td>Male</td>\n",
              "      <td>0</td>\n",
              "      <td>2</td>\n",
              "      <td>4</td>\n",
              "      <td>Month-to-month</td>\n",
              "      <td>Yes</td>\n",
              "      <td>53.85</td>\n",
              "      <td>108.15</td>\n",
              "      <td>Yes</td>\n",
              "    </tr>\n",
              "    <tr>\n",
              "      <th>3</th>\n",
              "      <td>7795-CFOCW</td>\n",
              "      <td>Male</td>\n",
              "      <td>0</td>\n",
              "      <td>45</td>\n",
              "      <td>4</td>\n",
              "      <td>One year</td>\n",
              "      <td>No</td>\n",
              "      <td>42.30</td>\n",
              "      <td>1840.75</td>\n",
              "      <td>No</td>\n",
              "    </tr>\n",
              "    <tr>\n",
              "      <th>4</th>\n",
              "      <td>9237-HQITU</td>\n",
              "      <td>Female</td>\n",
              "      <td>0</td>\n",
              "      <td>2</td>\n",
              "      <td>2</td>\n",
              "      <td>Month-to-month</td>\n",
              "      <td>Yes</td>\n",
              "      <td>70.70</td>\n",
              "      <td>151.65</td>\n",
              "      <td>Yes</td>\n",
              "    </tr>\n",
              "  </tbody>\n",
              "</table>\n",
              "</div>"
            ],
            "text/plain": [
              "   customerID  gender  SeniorCitizen  ...  MonthlyCharges  TotalCharges Churn\n",
              "0  7590-VHVEG  Female              0  ...           29.85         29.85    No\n",
              "1  5575-GNVDE    Male              0  ...           56.95       1889.50    No\n",
              "2  3668-QPYBK    Male              0  ...           53.85        108.15   Yes\n",
              "3  7795-CFOCW    Male              0  ...           42.30       1840.75    No\n",
              "4  9237-HQITU  Female              0  ...           70.70        151.65   Yes\n",
              "\n",
              "[5 rows x 10 columns]"
            ]
          },
          "metadata": {
            "tags": []
          },
          "execution_count": 4
        }
      ]
    },
    {
      "cell_type": "markdown",
      "metadata": {
        "id": "TDoaCC55PJxo"
      },
      "source": [
        "customerID - Customer ID\n",
        "\n",
        "Gender - Male or Female\n",
        "\n",
        "SeniorCitizen - Whether the customer is a senior citizen or not (1, 0)\n",
        "\n",
        "tenure - Number of months the customer has stayed with the company\n",
        "\n",
        "ServiceCount - Number of services/product customer has availed\n",
        "\n",
        "Contract - The contract term of the customer (Month-to-month, One year, Two year)\n",
        "\n",
        "PaperlessBilling - Whether the customer has paperless billing or not (Yes, No)\n",
        "\n",
        "MonthlyCharges - The amount charged to the customer monthly\n",
        "\n",
        "TotalCharges - The total amount charged to the customer\n",
        "\n",
        "Churn - Whether the customer churned or not (Yes or No)"
      ]
    },
    {
      "cell_type": "code",
      "metadata": {
        "id": "Q6Y8VC-FU2in",
        "colab": {
          "base_uri": "https://localhost:8080/"
        },
        "outputId": "56811318-b1e6-42ff-bc21-6d5940cb9134"
      },
      "source": [
        "churn_df.info()"
      ],
      "execution_count": 5,
      "outputs": [
        {
          "output_type": "stream",
          "text": [
            "<class 'pandas.core.frame.DataFrame'>\n",
            "RangeIndex: 7043 entries, 0 to 7042\n",
            "Data columns (total 10 columns):\n",
            " #   Column            Non-Null Count  Dtype  \n",
            "---  ------            --------------  -----  \n",
            " 0   customerID        7043 non-null   object \n",
            " 1   gender            7043 non-null   object \n",
            " 2   SeniorCitizen     7043 non-null   int64  \n",
            " 3   tenure            7043 non-null   int64  \n",
            " 4   ServiceCount      7043 non-null   int64  \n",
            " 5   Contract          7043 non-null   object \n",
            " 6   PaperlessBilling  7043 non-null   object \n",
            " 7   MonthlyCharges    7043 non-null   float64\n",
            " 8   TotalCharges      7016 non-null   float64\n",
            " 9   Churn             7043 non-null   object \n",
            "dtypes: float64(2), int64(3), object(5)\n",
            "memory usage: 550.4+ KB\n"
          ],
          "name": "stdout"
        }
      ]
    },
    {
      "cell_type": "code",
      "metadata": {
        "id": "d-PlW4EqU7-8",
        "colab": {
          "base_uri": "https://localhost:8080/"
        },
        "outputId": "c2e44359-159e-4ae7-d5a7-620e6ac4bdd3"
      },
      "source": [
        "print (\"Rows     : \" ,churn_df.shape[0])\n",
        "print (\"Columns  : \" ,churn_df.shape[1])\n",
        "print (\"\\nFeatures : \\n\" ,churn_df.columns.tolist())\n",
        "print (\"\\nUnique values :  \\n\",churn_df.nunique())"
      ],
      "execution_count": 6,
      "outputs": [
        {
          "output_type": "stream",
          "text": [
            "Rows     :  7043\n",
            "Columns  :  10\n",
            "\n",
            "Features : \n",
            " ['customerID', 'gender', 'SeniorCitizen', 'tenure', 'ServiceCount', 'Contract', 'PaperlessBilling', 'MonthlyCharges', 'TotalCharges', 'Churn']\n",
            "\n",
            "Unique values :  \n",
            " customerID          7043\n",
            "gender                 2\n",
            "SeniorCitizen          2\n",
            "tenure                73\n",
            "ServiceCount           9\n",
            "Contract               3\n",
            "PaperlessBilling       2\n",
            "MonthlyCharges      1585\n",
            "TotalCharges        6514\n",
            "Churn                  2\n",
            "dtype: int64\n"
          ],
          "name": "stdout"
        }
      ]
    },
    {
      "cell_type": "markdown",
      "metadata": {
        "id": "APXNL_gUpsXs"
      },
      "source": [
        "## Null Hypothesis - There is no relationship between two categorical values\n",
        "\n",
        "## Alternate Hypothesis - There is a relationship between the two categorical values "
      ]
    },
    {
      "cell_type": "markdown",
      "metadata": {
        "id": "uCDUN6wEMoVo"
      },
      "source": [
        "Questions we are going to answer through statistical test\n",
        "\n",
        "Is there any relationship between user who have Churned to Gender of the user?\n",
        "\n",
        "Is there any relationship between users who have opted for paperless billing to user who have churned? "
      ]
    },
    {
      "cell_type": "code",
      "metadata": {
        "id": "xZ9xVZTpdLgS",
        "colab": {
          "base_uri": "https://localhost:8080/"
        },
        "outputId": "4621aded-76a6-44e7-e4ad-5e5787b4b535"
      },
      "source": [
        "churn_df['gender'].value_counts()"
      ],
      "execution_count": 7,
      "outputs": [
        {
          "output_type": "execute_result",
          "data": {
            "text/plain": [
              "Male      3555\n",
              "Female    3488\n",
              "Name: gender, dtype: int64"
            ]
          },
          "metadata": {
            "tags": []
          },
          "execution_count": 7
        }
      ]
    },
    {
      "cell_type": "code",
      "metadata": {
        "id": "wsfhdDU2SdAu",
        "colab": {
          "base_uri": "https://localhost:8080/",
          "height": 332
        },
        "outputId": "a9b08a80-e2fb-47c5-8cc8-5d2a6b6feeb2"
      },
      "source": [
        "sns.set(style=\"darkgrid\")\n",
        "sns.set_palette(\"hls\", 3)\n",
        "fig, ax = plt.subplots(figsize=(20,5))\n",
        "ax = sns.countplot(x=\"gender\", hue=\"Churn\", data=churn_df)\n",
        "\n",
        "for p in ax.patches:\n",
        "    height = p.get_height()\n",
        "    ax.text(p.get_x()+p.get_width()/2.,\n",
        "            height + 3,\n",
        "            '{:1.2f}'.format(height/churn_df.shape[0]),\n",
        "            ha=\"center\") "
      ],
      "execution_count": 8,
      "outputs": [
        {
          "output_type": "display_data",
          "data": {
            "image/png": "[encoded data removed]",
            "text/plain": [
              "<Figure size 1440x360 with 1 Axes>"
            ]
          },
          "metadata": {
            "tags": []
          }
        }
      ]
    },
    {
      "cell_type": "markdown",
      "metadata": {
        "id": "sDmmaLRMh7cu"
      },
      "source": [
        "## Note: Statistics alone cannot prove anything. All the tests we do are based on relative likelihood**"
      ]
    },
    {
      "cell_type": "code",
      "metadata": {
        "id": "0mLjcPRJScu0"
      },
      "source": [
        "gender_churn_ct=pd.crosstab(index=churn_df['gender'],columns=churn_df['Churn'])"
      ],
      "execution_count": 9,
      "outputs": []
    },
    {
      "cell_type": "code",
      "metadata": {
        "id": "sy81f-69yElz",
        "colab": {
          "base_uri": "https://localhost:8080/",
          "height": 141
        },
        "outputId": "35bdf7ed-3bf5-41f6-e66d-8c237b1c6eb3"
      },
      "source": [
        "gender_churn_ct"
      ],
      "execution_count": 10,
      "outputs": [
        {
          "output_type": "execute_result",
          "data": {
            "text/html": [
              "<div>\n",
              "<style scoped>\n",
              "    .dataframe tbody tr th:only-of-type {\n",
              "        vertical-align: middle;\n",
              "    }\n",
              "\n",
              "    .dataframe tbody tr th {\n",
              "        vertical-align: top;\n",
              "    }\n",
              "\n",
              "    .dataframe thead th {\n",
              "        text-align: right;\n",
              "    }\n",
              "</style>\n",
              "<table border=\"1\" class=\"dataframe\">\n",
              "  <thead>\n",
              "    <tr style=\"text-align: right;\">\n",
              "      <th>Churn</th>\n",
              "      <th>No</th>\n",
              "      <th>Yes</th>\n",
              "    </tr>\n",
              "    <tr>\n",
              "      <th>gender</th>\n",
              "      <th></th>\n",
              "      <th></th>\n",
              "    </tr>\n",
              "  </thead>\n",
              "  <tbody>\n",
              "    <tr>\n",
              "      <th>Female</th>\n",
              "      <td>2549</td>\n",
              "      <td>939</td>\n",
              "    </tr>\n",
              "    <tr>\n",
              "      <th>Male</th>\n",
              "      <td>2625</td>\n",
              "      <td>930</td>\n",
              "    </tr>\n",
              "  </tbody>\n",
              "</table>\n",
              "</div>"
            ],
            "text/plain": [
              "Churn     No  Yes\n",
              "gender           \n",
              "Female  2549  939\n",
              "Male    2625  930"
            ]
          },
          "metadata": {
            "tags": []
          },
          "execution_count": 10
        }
      ]
    },
    {
      "cell_type": "code",
      "metadata": {
        "id": "SINtWiVoj75r",
        "colab": {
          "base_uri": "https://localhost:8080/"
        },
        "outputId": "c0cf0f09-d099-4d86-e732-0052b24c3d35"
      },
      "source": [
        "gender_churn_ct.iloc[0].values"
      ],
      "execution_count": 11,
      "outputs": [
        {
          "output_type": "execute_result",
          "data": {
            "text/plain": [
              "array([2549,  939])"
            ]
          },
          "metadata": {
            "tags": []
          },
          "execution_count": 11
        }
      ]
    },
    {
      "cell_type": "markdown",
      "metadata": {
        "id": "EB3vDqAiwOMe"
      },
      "source": [
        "*** scipy.stats.chi2_contingency(observed, correction=True, lambda_=None)[source]\n",
        "\n",
        "> Indented block\n",
        "\n",
        "\n",
        "\n",
        "\n",
        "\n"
      ]
    },
    {
      "cell_type": "code",
      "metadata": {
        "id": "8cm3JXvCScpE"
      },
      "source": [
        "from scipy import stats\n",
        "(chi2, p, dof,_) = stats.chi2_contingency([gender_churn_ct.iloc[0].values,gender_churn_ct.iloc[1].values])"
      ],
      "execution_count": 12,
      "outputs": []
    },
    {
      "cell_type": "code",
      "metadata": {
        "id": "_rCN5lDnwGWQ",
        "colab": {
          "base_uri": "https://localhost:8080/"
        },
        "outputId": "75309d41-b63e-45ba-da8e-73f15af43871"
      },
      "source": [
        "print (\"chi2     : \" ,chi2)\n",
        "print (\"p-value  : \" ,p)\n",
        "print (\"Degree for Freedom : \" ,dof)"
      ],
      "execution_count": 13,
      "outputs": [
        {
          "output_type": "stream",
          "text": [
            "chi2     :  0.4840828822091383\n",
            "p-value  :  0.48657873605618596\n",
            "Degree for Freedom :  1\n"
          ],
          "name": "stdout"
        }
      ]
    },
    {
      "cell_type": "markdown",
      "metadata": {
        "id": "5DWw1tzMFoM3"
      },
      "source": [
        "Df |\t0.5 |\t0.10 |\t0.05 | 0.02 \n",
        "--| -- | -- | -- | --\n",
        "1\t| 0.455 |\t2.706\t| 3.841 |\t5.412\t\n",
        "2\t| 1.386 |\t4.605 |\t5.991\t| 7.824\t\n",
        "3\t| 2.366 |\t6.251\t| 7.815\t| 9.837\t"
      ]
    },
    {
      "cell_type": "markdown",
      "metadata": {
        "id": "co70UAtIwqde"
      },
      "source": [
        "*** chi-square statistics\n",
        "\n",
        "****** X^2 = sum((Observed – Expected)^2 / Expected)"
      ]
    },
    {
      "cell_type": "code",
      "metadata": {
        "id": "YiWl6GWeP-DI",
        "colab": {
          "base_uri": "https://localhost:8080/",
          "height": 171
        },
        "outputId": "b67fbc38-0e1f-4fef-e98c-c92d6a01d3c6"
      },
      "source": [
        "pd.crosstab(index=churn_df['gender'],columns=churn_df['Churn'], margins=True)"
      ],
      "execution_count": 14,
      "outputs": [
        {
          "output_type": "execute_result",
          "data": {
            "text/html": [
              "<div>\n",
              "<style scoped>\n",
              "    .dataframe tbody tr th:only-of-type {\n",
              "        vertical-align: middle;\n",
              "    }\n",
              "\n",
              "    .dataframe tbody tr th {\n",
              "        vertical-align: top;\n",
              "    }\n",
              "\n",
              "    .dataframe thead th {\n",
              "        text-align: right;\n",
              "    }\n",
              "</style>\n",
              "<table border=\"1\" class=\"dataframe\">\n",
              "  <thead>\n",
              "    <tr style=\"text-align: right;\">\n",
              "      <th>Churn</th>\n",
              "      <th>No</th>\n",
              "      <th>Yes</th>\n",
              "      <th>All</th>\n",
              "    </tr>\n",
              "    <tr>\n",
              "      <th>gender</th>\n",
              "      <th></th>\n",
              "      <th></th>\n",
              "      <th></th>\n",
              "    </tr>\n",
              "  </thead>\n",
              "  <tbody>\n",
              "    <tr>\n",
              "      <th>Female</th>\n",
              "      <td>2549</td>\n",
              "      <td>939</td>\n",
              "      <td>3488</td>\n",
              "    </tr>\n",
              "    <tr>\n",
              "      <th>Male</th>\n",
              "      <td>2625</td>\n",
              "      <td>930</td>\n",
              "      <td>3555</td>\n",
              "    </tr>\n",
              "    <tr>\n",
              "      <th>All</th>\n",
              "      <td>5174</td>\n",
              "      <td>1869</td>\n",
              "      <td>7043</td>\n",
              "    </tr>\n",
              "  </tbody>\n",
              "</table>\n",
              "</div>"
            ],
            "text/plain": [
              "Churn     No   Yes   All\n",
              "gender                  \n",
              "Female  2549   939  3488\n",
              "Male    2625   930  3555\n",
              "All     5174  1869  7043"
            ]
          },
          "metadata": {
            "tags": []
          },
          "execution_count": 14
        }
      ]
    },
    {
      "cell_type": "markdown",
      "metadata": {
        "id": "ZTHBECknvK_b"
      },
      "source": [
        "** Is there any relationship between users who have opted for paperless billing to user who have churned? **"
      ]
    },
    {
      "cell_type": "code",
      "metadata": {
        "id": "6UnubQBPisbc",
        "colab": {
          "base_uri": "https://localhost:8080/"
        },
        "outputId": "a5f88771-9a9b-436b-9220-22cbd0959669"
      },
      "source": [
        "churn_df['PaperlessBilling'].value_counts()"
      ],
      "execution_count": 15,
      "outputs": [
        {
          "output_type": "execute_result",
          "data": {
            "text/plain": [
              "Yes    4171\n",
              "No     2872\n",
              "Name: PaperlessBilling, dtype: int64"
            ]
          },
          "metadata": {
            "tags": []
          },
          "execution_count": 15
        }
      ]
    },
    {
      "cell_type": "code",
      "metadata": {
        "id": "cRkTILtMuCIp",
        "colab": {
          "base_uri": "https://localhost:8080/",
          "height": 332
        },
        "outputId": "2dceddca-0f4a-46f6-e6e9-98adb97b32ef"
      },
      "source": [
        "sns.set(style=\"darkgrid\")\n",
        "sns.set_palette(\"hls\", 3)\n",
        "fig, ax = plt.subplots(figsize=(20,5))\n",
        "ax = sns.countplot(x=\"PaperlessBilling\", hue=\"Churn\", data=churn_df)\n",
        "\n",
        "for p in ax.patches:\n",
        "    height = p.get_height()\n",
        "    ax.text(p.get_x()+p.get_width()/2.,\n",
        "            height + 3,\n",
        "            '{:1.2f}'.format(height/churn_df.shape[0]),\n",
        "            ha=\"center\") "
      ],
      "execution_count": 16,
      "outputs": [
        {
          "output_type": "display_data",
          "data": {
            "image/png": "[encoded data removed]",
            "text/plain": [
              "<Figure size 1440x360 with 1 Axes>"
            ]
          },
          "metadata": {
            "tags": []
          }
        }
      ]
    },
    {
      "cell_type": "code",
      "metadata": {
        "id": "vilUt6HhisIu"
      },
      "source": [
        "pb_churn_ct=pd.crosstab(index=churn_df['PaperlessBilling'],columns=churn_df['Churn'])"
      ],
      "execution_count": 17,
      "outputs": []
    },
    {
      "cell_type": "code",
      "metadata": {
        "id": "PcjZ9coAsMrA",
        "colab": {
          "base_uri": "https://localhost:8080/",
          "height": 141
        },
        "outputId": "b6db4309-f70b-46fa-d213-57357a2e66d6"
      },
      "source": [
        "pb_churn_ct"
      ],
      "execution_count": 18,
      "outputs": [
        {
          "output_type": "execute_result",
          "data": {
            "text/html": [
              "<div>\n",
              "<style scoped>\n",
              "    .dataframe tbody tr th:only-of-type {\n",
              "        vertical-align: middle;\n",
              "    }\n",
              "\n",
              "    .dataframe tbody tr th {\n",
              "        vertical-align: top;\n",
              "    }\n",
              "\n",
              "    .dataframe thead th {\n",
              "        text-align: right;\n",
              "    }\n",
              "</style>\n",
              "<table border=\"1\" class=\"dataframe\">\n",
              "  <thead>\n",
              "    <tr style=\"text-align: right;\">\n",
              "      <th>Churn</th>\n",
              "      <th>No</th>\n",
              "      <th>Yes</th>\n",
              "    </tr>\n",
              "    <tr>\n",
              "      <th>PaperlessBilling</th>\n",
              "      <th></th>\n",
              "      <th></th>\n",
              "    </tr>\n",
              "  </thead>\n",
              "  <tbody>\n",
              "    <tr>\n",
              "      <th>No</th>\n",
              "      <td>2403</td>\n",
              "      <td>469</td>\n",
              "    </tr>\n",
              "    <tr>\n",
              "      <th>Yes</th>\n",
              "      <td>2771</td>\n",
              "      <td>1400</td>\n",
              "    </tr>\n",
              "  </tbody>\n",
              "</table>\n",
              "</div>"
            ],
            "text/plain": [
              "Churn               No   Yes\n",
              "PaperlessBilling            \n",
              "No                2403   469\n",
              "Yes               2771  1400"
            ]
          },
          "metadata": {
            "tags": []
          },
          "execution_count": 18
        }
      ]
    },
    {
      "cell_type": "code",
      "metadata": {
        "id": "NEdXJKpGsOaS",
        "colab": {
          "base_uri": "https://localhost:8080/"
        },
        "outputId": "4a689729-0759-4121-dc68-9ec12e694d8a"
      },
      "source": [
        "pb_churn_ct.iloc[0].values"
      ],
      "execution_count": 19,
      "outputs": [
        {
          "output_type": "execute_result",
          "data": {
            "text/plain": [
              "array([2403,  469])"
            ]
          },
          "metadata": {
            "tags": []
          },
          "execution_count": 19
        }
      ]
    },
    {
      "cell_type": "code",
      "metadata": {
        "id": "CeqZMuNAsds9"
      },
      "source": [
        "(chi2, p, dof,_) = stats.chi2_contingency([pb_churn_ct.iloc[0].values,pb_churn_ct.iloc[1].values])"
      ],
      "execution_count": 20,
      "outputs": []
    },
    {
      "cell_type": "code",
      "metadata": {
        "id": "flWIcT7XstK9",
        "colab": {
          "base_uri": "https://localhost:8080/"
        },
        "outputId": "0866ed88-30ce-4cd1-fe49-0979a63c7aee"
      },
      "source": [
        "print (\"chi2     : \" ,chi2)\n",
        "print (\"p-value  : \" ,p)\n",
        "print (\"Degree for Freedom : \" ,dof)"
      ],
      "execution_count": 21,
      "outputs": [
        {
          "output_type": "stream",
          "text": [
            "chi2     :  258.27764906707307\n",
            "p-value  :  4.073354668665985e-58\n",
            "Degree for Freedom :  1\n"
          ],
          "name": "stdout"
        }
      ]
    }
  ]
}