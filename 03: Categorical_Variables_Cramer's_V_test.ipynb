{
  "nbformat": 4,
  "nbformat_minor": 0,
  "metadata": {
    "colab": {
      "name": "03: Categorical_Variables_Cramer's V_test.ipynb",
      "provenance": [],
      "collapsed_sections": [],
      "include_colab_link": true
    },
    "kernelspec": {
      "name": "python3",
      "display_name": "Python 3"
    }
  },
  "cells": [
    {
      "cell_type": "markdown",
      "metadata": {
        "id": "view-in-github",
        "colab_type": "text"
      },
      "source": [
        "<a href=\"https://colab.research.google.com/github/gulabpatel/Statistics/blob/main/03%3A%20Categorical_Variables_Cramer's_V_test.ipynb\" target=\"_parent\"><img src=\"https://colab.research.google.com/assets/colab-badge.svg\" alt=\"Open In Colab\"/></a>"
      ]
    },
    {
      "cell_type": "markdown",
      "metadata": {
        "id": "oJNS-jOQto9S"
      },
      "source": [
        "Video link of code walkthrough below is here - https://www.youtube.com/watch?v=W8ELro02w5c\n",
        "\n",
        "Cramer's V test documentation(SPSS) : https://www.spss-tutorials.com/cramers-v-what-and-why/"
      ]
    },
    {
      "cell_type": "code",
      "metadata": {
        "id": "e9bxlsmdUbGs"
      },
      "source": [
        "import warnings\n",
        "warnings.simplefilter(action='ignore', category=FutureWarning)\n",
        "\n",
        "import pandas as pd\n",
        "import numpy as np\n",
        "\n",
        "import seaborn as sns\n",
        "import matplotlib.pyplot as plt\n",
        "%matplotlib inline\n"
      ],
      "execution_count": 1,
      "outputs": []
    },
    {
      "cell_type": "code",
      "metadata": {
        "id": "Tf-qQhw_UxRY"
      },
      "source": [
        "churn_master_df = pd.read_csv('https://raw.githubusercontent.com/gulabpatel/ML_Data_and_Resources/master/churn_data_st.csv')"
      ],
      "execution_count": 2,
      "outputs": []
    },
    {
      "cell_type": "code",
      "metadata": {
        "id": "YbGZJ0M3Vit-"
      },
      "source": [
        "churn_df = churn_master_df.copy()"
      ],
      "execution_count": 3,
      "outputs": []
    },
    {
      "cell_type": "code",
      "metadata": {
        "id": "3kReN7s4U0Mm",
        "colab": {
          "base_uri": "https://localhost:8080/",
          "height": 509
        },
        "outputId": "a389fe18-8650-40bc-9fd8-f61f901363ce"
      },
      "source": [
        "churn_df.sample(15)"
      ],
      "execution_count": 4,
      "outputs": [
        {
          "output_type": "execute_result",
          "data": {
            "text/html": [
              "<div>\n",
              "<style scoped>\n",
              "    .dataframe tbody tr th:only-of-type {\n",
              "        vertical-align: middle;\n",
              "    }\n",
              "\n",
              "    .dataframe tbody tr th {\n",
              "        vertical-align: top;\n",
              "    }\n",
              "\n",
              "    .dataframe thead th {\n",
              "        text-align: right;\n",
              "    }\n",
              "</style>\n",
              "<table border=\"1\" class=\"dataframe\">\n",
              "  <thead>\n",
              "    <tr style=\"text-align: right;\">\n",
              "      <th></th>\n",
              "      <th>customerID</th>\n",
              "      <th>gender</th>\n",
              "      <th>SeniorCitizen</th>\n",
              "      <th>tenure</th>\n",
              "      <th>ServiceCount</th>\n",
              "      <th>Contract</th>\n",
              "      <th>PaperlessBilling</th>\n",
              "      <th>MonthlyCharges</th>\n",
              "      <th>TotalCharges</th>\n",
              "      <th>Churn</th>\n",
              "    </tr>\n",
              "  </thead>\n",
              "  <tbody>\n",
              "    <tr>\n",
              "      <th>3791</th>\n",
              "      <td>3453-RTHJQ</td>\n",
              "      <td>Male</td>\n",
              "      <td>0</td>\n",
              "      <td>6</td>\n",
              "      <td>2</td>\n",
              "      <td>Month-to-month</td>\n",
              "      <td>Yes</td>\n",
              "      <td>69.10</td>\n",
              "      <td>435.00</td>\n",
              "      <td>No</td>\n",
              "    </tr>\n",
              "    <tr>\n",
              "      <th>6823</th>\n",
              "      <td>7009-LGECI</td>\n",
              "      <td>Female</td>\n",
              "      <td>0</td>\n",
              "      <td>4</td>\n",
              "      <td>3</td>\n",
              "      <td>Month-to-month</td>\n",
              "      <td>Yes</td>\n",
              "      <td>50.55</td>\n",
              "      <td>235.65</td>\n",
              "      <td>No</td>\n",
              "    </tr>\n",
              "    <tr>\n",
              "      <th>4533</th>\n",
              "      <td>5360-LJCNJ</td>\n",
              "      <td>Female</td>\n",
              "      <td>0</td>\n",
              "      <td>71</td>\n",
              "      <td>7</td>\n",
              "      <td>Two year</td>\n",
              "      <td>Yes</td>\n",
              "      <td>105.15</td>\n",
              "      <td>7555.00</td>\n",
              "      <td>No</td>\n",
              "    </tr>\n",
              "    <tr>\n",
              "      <th>6368</th>\n",
              "      <td>2720-WGKHP</td>\n",
              "      <td>Male</td>\n",
              "      <td>1</td>\n",
              "      <td>2</td>\n",
              "      <td>5</td>\n",
              "      <td>Month-to-month</td>\n",
              "      <td>Yes</td>\n",
              "      <td>94.00</td>\n",
              "      <td>181.70</td>\n",
              "      <td>Yes</td>\n",
              "    </tr>\n",
              "    <tr>\n",
              "      <th>129</th>\n",
              "      <td>2639-UGMAZ</td>\n",
              "      <td>Male</td>\n",
              "      <td>1</td>\n",
              "      <td>71</td>\n",
              "      <td>5</td>\n",
              "      <td>One year</td>\n",
              "      <td>Yes</td>\n",
              "      <td>56.45</td>\n",
              "      <td>3985.35</td>\n",
              "      <td>No</td>\n",
              "    </tr>\n",
              "    <tr>\n",
              "      <th>2053</th>\n",
              "      <td>6173-ITPWD</td>\n",
              "      <td>Male</td>\n",
              "      <td>0</td>\n",
              "      <td>47</td>\n",
              "      <td>5</td>\n",
              "      <td>Month-to-month</td>\n",
              "      <td>Yes</td>\n",
              "      <td>83.35</td>\n",
              "      <td>4065.00</td>\n",
              "      <td>Yes</td>\n",
              "    </tr>\n",
              "    <tr>\n",
              "      <th>2177</th>\n",
              "      <td>2878-RMWXY</td>\n",
              "      <td>Male</td>\n",
              "      <td>1</td>\n",
              "      <td>72</td>\n",
              "      <td>7</td>\n",
              "      <td>Two year</td>\n",
              "      <td>Yes</td>\n",
              "      <td>102.65</td>\n",
              "      <td>7550.30</td>\n",
              "      <td>No</td>\n",
              "    </tr>\n",
              "    <tr>\n",
              "      <th>4994</th>\n",
              "      <td>9692-TUSXH</td>\n",
              "      <td>Female</td>\n",
              "      <td>0</td>\n",
              "      <td>18</td>\n",
              "      <td>5</td>\n",
              "      <td>Month-to-month</td>\n",
              "      <td>Yes</td>\n",
              "      <td>96.05</td>\n",
              "      <td>1740.70</td>\n",
              "      <td>Yes</td>\n",
              "    </tr>\n",
              "    <tr>\n",
              "      <th>799</th>\n",
              "      <td>3009-JWMPU</td>\n",
              "      <td>Male</td>\n",
              "      <td>0</td>\n",
              "      <td>62</td>\n",
              "      <td>6</td>\n",
              "      <td>One year</td>\n",
              "      <td>Yes</td>\n",
              "      <td>96.75</td>\n",
              "      <td>6125.40</td>\n",
              "      <td>Yes</td>\n",
              "    </tr>\n",
              "    <tr>\n",
              "      <th>930</th>\n",
              "      <td>5146-CBVOE</td>\n",
              "      <td>Female</td>\n",
              "      <td>0</td>\n",
              "      <td>16</td>\n",
              "      <td>3</td>\n",
              "      <td>Month-to-month</td>\n",
              "      <td>No</td>\n",
              "      <td>75.10</td>\n",
              "      <td>1212.85</td>\n",
              "      <td>No</td>\n",
              "    </tr>\n",
              "    <tr>\n",
              "      <th>91</th>\n",
              "      <td>2424-WVHPL</td>\n",
              "      <td>Male</td>\n",
              "      <td>1</td>\n",
              "      <td>1</td>\n",
              "      <td>3</td>\n",
              "      <td>Month-to-month</td>\n",
              "      <td>No</td>\n",
              "      <td>74.70</td>\n",
              "      <td>74.70</td>\n",
              "      <td>No</td>\n",
              "    </tr>\n",
              "    <tr>\n",
              "      <th>3305</th>\n",
              "      <td>5144-TVGLP</td>\n",
              "      <td>Male</td>\n",
              "      <td>1</td>\n",
              "      <td>38</td>\n",
              "      <td>5</td>\n",
              "      <td>Month-to-month</td>\n",
              "      <td>No</td>\n",
              "      <td>94.75</td>\n",
              "      <td>3653.00</td>\n",
              "      <td>No</td>\n",
              "    </tr>\n",
              "    <tr>\n",
              "      <th>591</th>\n",
              "      <td>5512-IDZEI</td>\n",
              "      <td>Male</td>\n",
              "      <td>0</td>\n",
              "      <td>46</td>\n",
              "      <td>8</td>\n",
              "      <td>One year</td>\n",
              "      <td>No</td>\n",
              "      <td>24.90</td>\n",
              "      <td>1174.80</td>\n",
              "      <td>No</td>\n",
              "    </tr>\n",
              "    <tr>\n",
              "      <th>6731</th>\n",
              "      <td>0164-XAIRP</td>\n",
              "      <td>Female</td>\n",
              "      <td>0</td>\n",
              "      <td>24</td>\n",
              "      <td>7</td>\n",
              "      <td>Two year</td>\n",
              "      <td>Yes</td>\n",
              "      <td>19.55</td>\n",
              "      <td>470.20</td>\n",
              "      <td>No</td>\n",
              "    </tr>\n",
              "    <tr>\n",
              "      <th>3522</th>\n",
              "      <td>0969-RGKCU</td>\n",
              "      <td>Male</td>\n",
              "      <td>0</td>\n",
              "      <td>37</td>\n",
              "      <td>7</td>\n",
              "      <td>One year</td>\n",
              "      <td>No</td>\n",
              "      <td>19.80</td>\n",
              "      <td>677.05</td>\n",
              "      <td>No</td>\n",
              "    </tr>\n",
              "  </tbody>\n",
              "</table>\n",
              "</div>"
            ],
            "text/plain": [
              "      customerID  gender  SeniorCitizen  ...  MonthlyCharges  TotalCharges Churn\n",
              "3791  3453-RTHJQ    Male              0  ...           69.10        435.00    No\n",
              "6823  7009-LGECI  Female              0  ...           50.55        235.65    No\n",
              "4533  5360-LJCNJ  Female              0  ...          105.15       7555.00    No\n",
              "6368  2720-WGKHP    Male              1  ...           94.00        181.70   Yes\n",
              "129   2639-UGMAZ    Male              1  ...           56.45       3985.35    No\n",
              "2053  6173-ITPWD    Male              0  ...           83.35       4065.00   Yes\n",
              "2177  2878-RMWXY    Male              1  ...          102.65       7550.30    No\n",
              "4994  9692-TUSXH  Female              0  ...           96.05       1740.70   Yes\n",
              "799   3009-JWMPU    Male              0  ...           96.75       6125.40   Yes\n",
              "930   5146-CBVOE  Female              0  ...           75.10       1212.85    No\n",
              "91    2424-WVHPL    Male              1  ...           74.70         74.70    No\n",
              "3305  5144-TVGLP    Male              1  ...           94.75       3653.00    No\n",
              "591   5512-IDZEI    Male              0  ...           24.90       1174.80    No\n",
              "6731  0164-XAIRP  Female              0  ...           19.55        470.20    No\n",
              "3522  0969-RGKCU    Male              0  ...           19.80        677.05    No\n",
              "\n",
              "[15 rows x 10 columns]"
            ]
          },
          "metadata": {
            "tags": []
          },
          "execution_count": 4
        }
      ]
    },
    {
      "cell_type": "markdown",
      "metadata": {
        "id": "TDoaCC55PJxo"
      },
      "source": [
        "customerID - Customer ID\n",
        "\n",
        "Gender - Male or Female\n",
        "\n",
        "SeniorCitizen - Whether the customer is a senior citizen or not (1, 0)\n",
        "\n",
        "tenure - Number of months the customer has stayed with the company\n",
        "\n",
        "ServiceCount - Number of services/product customer has availed\n",
        "\n",
        "Contract - The contract term of the customer (Month-to-month, One year, Two year)\n",
        "\n",
        "PaperlessBilling - Whether the customer has paperless billing or not (Yes, No)\n",
        "\n",
        "MonthlyCharges - The amount charged to the customer monthly\n",
        "\n",
        "TotalCharges - The total amount charged to the customer\n",
        "\n",
        "Churn - Whether the customer churned or not (Yes or No)"
      ]
    },
    {
      "cell_type": "code",
      "metadata": {
        "id": "Q6Y8VC-FU2in",
        "colab": {
          "base_uri": "https://localhost:8080/"
        },
        "outputId": "0e79f90d-534d-4484-f6f0-ecfbd17630a0"
      },
      "source": [
        "churn_df.info()"
      ],
      "execution_count": 5,
      "outputs": [
        {
          "output_type": "stream",
          "text": [
            "<class 'pandas.core.frame.DataFrame'>\n",
            "RangeIndex: 7043 entries, 0 to 7042\n",
            "Data columns (total 10 columns):\n",
            " #   Column            Non-Null Count  Dtype  \n",
            "---  ------            --------------  -----  \n",
            " 0   customerID        7043 non-null   object \n",
            " 1   gender            7043 non-null   object \n",
            " 2   SeniorCitizen     7043 non-null   int64  \n",
            " 3   tenure            7043 non-null   int64  \n",
            " 4   ServiceCount      7043 non-null   int64  \n",
            " 5   Contract          7043 non-null   object \n",
            " 6   PaperlessBilling  7043 non-null   object \n",
            " 7   MonthlyCharges    7043 non-null   float64\n",
            " 8   TotalCharges      7016 non-null   float64\n",
            " 9   Churn             7043 non-null   object \n",
            "dtypes: float64(2), int64(3), object(5)\n",
            "memory usage: 550.4+ KB\n"
          ],
          "name": "stdout"
        }
      ]
    },
    {
      "cell_type": "code",
      "metadata": {
        "id": "d-PlW4EqU7-8",
        "colab": {
          "base_uri": "https://localhost:8080/"
        },
        "outputId": "2a3b40cc-dea2-49de-d47f-84f315d17dde"
      },
      "source": [
        "print (\"Rows     : \" ,churn_df.shape[0])\n",
        "print (\"Columns  : \" ,churn_df.shape[1])\n",
        "print (\"\\nFeatures : \\n\" ,churn_df.columns.tolist())\n",
        "print (\"\\nUnique values :  \\n\",churn_df.nunique())"
      ],
      "execution_count": 6,
      "outputs": [
        {
          "output_type": "stream",
          "text": [
            "Rows     :  7043\n",
            "Columns  :  10\n",
            "\n",
            "Features : \n",
            " ['customerID', 'gender', 'SeniorCitizen', 'tenure', 'ServiceCount', 'Contract', 'PaperlessBilling', 'MonthlyCharges', 'TotalCharges', 'Churn']\n",
            "\n",
            "Unique values :  \n",
            " customerID          7043\n",
            "gender                 2\n",
            "SeniorCitizen          2\n",
            "tenure                73\n",
            "ServiceCount           9\n",
            "Contract               3\n",
            "PaperlessBilling       2\n",
            "MonthlyCharges      1585\n",
            "TotalCharges        6514\n",
            "Churn                  2\n",
            "dtype: int64\n"
          ],
          "name": "stdout"
        }
      ]
    },
    {
      "cell_type": "code",
      "metadata": {
        "colab": {
          "base_uri": "https://localhost:8080/",
          "height": 202
        },
        "id": "hXrSWAKv8gCQ",
        "outputId": "45c5f7a7-099b-4ff4-b637-e63983626700"
      },
      "source": [
        "churn_df.corr() ##will show the correlation(pearson) betweens numerical columns only"
      ],
      "execution_count": 7,
      "outputs": [
        {
          "output_type": "execute_result",
          "data": {
            "text/html": [
              "<div>\n",
              "<style scoped>\n",
              "    .dataframe tbody tr th:only-of-type {\n",
              "        vertical-align: middle;\n",
              "    }\n",
              "\n",
              "    .dataframe tbody tr th {\n",
              "        vertical-align: top;\n",
              "    }\n",
              "\n",
              "    .dataframe thead th {\n",
              "        text-align: right;\n",
              "    }\n",
              "</style>\n",
              "<table border=\"1\" class=\"dataframe\">\n",
              "  <thead>\n",
              "    <tr style=\"text-align: right;\">\n",
              "      <th></th>\n",
              "      <th>SeniorCitizen</th>\n",
              "      <th>tenure</th>\n",
              "      <th>ServiceCount</th>\n",
              "      <th>MonthlyCharges</th>\n",
              "      <th>TotalCharges</th>\n",
              "    </tr>\n",
              "  </thead>\n",
              "  <tbody>\n",
              "    <tr>\n",
              "      <th>SeniorCitizen</th>\n",
              "      <td>1.000000</td>\n",
              "      <td>0.016567</td>\n",
              "      <td>-0.090899</td>\n",
              "      <td>0.220173</td>\n",
              "      <td>0.100795</td>\n",
              "    </tr>\n",
              "    <tr>\n",
              "      <th>tenure</th>\n",
              "      <td>0.016567</td>\n",
              "      <td>1.000000</td>\n",
              "      <td>0.508526</td>\n",
              "      <td>0.247900</td>\n",
              "      <td>0.826066</td>\n",
              "    </tr>\n",
              "    <tr>\n",
              "      <th>ServiceCount</th>\n",
              "      <td>-0.090899</td>\n",
              "      <td>0.508526</td>\n",
              "      <td>1.000000</td>\n",
              "      <td>0.041463</td>\n",
              "      <td>0.443768</td>\n",
              "    </tr>\n",
              "    <tr>\n",
              "      <th>MonthlyCharges</th>\n",
              "      <td>0.220173</td>\n",
              "      <td>0.247900</td>\n",
              "      <td>0.041463</td>\n",
              "      <td>1.000000</td>\n",
              "      <td>0.650964</td>\n",
              "    </tr>\n",
              "    <tr>\n",
              "      <th>TotalCharges</th>\n",
              "      <td>0.100795</td>\n",
              "      <td>0.826066</td>\n",
              "      <td>0.443768</td>\n",
              "      <td>0.650964</td>\n",
              "      <td>1.000000</td>\n",
              "    </tr>\n",
              "  </tbody>\n",
              "</table>\n",
              "</div>"
            ],
            "text/plain": [
              "                SeniorCitizen    tenure  ...  MonthlyCharges  TotalCharges\n",
              "SeniorCitizen        1.000000  0.016567  ...        0.220173      0.100795\n",
              "tenure               0.016567  1.000000  ...        0.247900      0.826066\n",
              "ServiceCount        -0.090899  0.508526  ...        0.041463      0.443768\n",
              "MonthlyCharges       0.220173  0.247900  ...        1.000000      0.650964\n",
              "TotalCharges         0.100795  0.826066  ...        0.650964      1.000000\n",
              "\n",
              "[5 rows x 5 columns]"
            ]
          },
          "metadata": {
            "tags": []
          },
          "execution_count": 7
        }
      ]
    },
    {
      "cell_type": "markdown",
      "metadata": {
        "id": "12lD6ne69A5g"
      },
      "source": [
        "To find out the correlation between categorical column"
      ]
    },
    {
      "cell_type": "code",
      "metadata": {
        "colab": {
          "base_uri": "https://localhost:8080/"
        },
        "id": "NU68OE268f_r",
        "outputId": "6b308ba8-e120-4977-e144-a997f048176b"
      },
      "source": [
        "churn_df['Contract'].value_counts()"
      ],
      "execution_count": 8,
      "outputs": [
        {
          "output_type": "execute_result",
          "data": {
            "text/plain": [
              "Month-to-month    3875\n",
              "Two year          1695\n",
              "One year          1473\n",
              "Name: Contract, dtype: int64"
            ]
          },
          "metadata": {
            "tags": []
          },
          "execution_count": 8
        }
      ]
    },
    {
      "cell_type": "code",
      "metadata": {
        "id": "wsfhdDU2SdAu",
        "colab": {
          "base_uri": "https://localhost:8080/",
          "height": 309
        },
        "outputId": "92fb4c6b-9ded-43a6-d72e-61f3a820fc07"
      },
      "source": [
        "sns.set(style=\"darkgrid\")\n",
        "sns.set_palette(\"hls\", 3)\n",
        "fig, ax = plt.subplots(figsize=(20,5))\n",
        "ax = sns.countplot(x=\"Contract\", hue=\"Churn\", data=churn_df)\n",
        "\n",
        "for p in ax.patches:\n",
        "    height = p.get_height()\n",
        "    ax.text(p.get_x()+p.get_width()/2.,\n",
        "            height + 3,\n",
        "            '{:1.2f}'.format(height/churn_df.shape[0]),\n",
        "            ha=\"center\") "
      ],
      "execution_count": 9,
      "outputs": [
        {
          "output_type": "display_data",
          "data": {
            "image/png": "[encoded data removed]",
            "text/plain": [
              "<Figure size 1440x360 with 1 Axes>"
            ]
          },
          "metadata": {
            "tags": []
          }
        }
      ]
    },
    {
      "cell_type": "markdown",
      "metadata": {
        "id": "co70UAtIwqde"
      },
      "source": [
        "*** chi-square statistics:\n",
        "\n",
        "****** **X^2 = sum((Observed – Expected)^2 / Expected)**\n",
        "\n",
        "Chi2 chest shows the significance of the relationship but doesn't show the strength of the coreelation\n",
        "\n",
        "Cramer V Test:\n",
        "\n",
        "**V = SQRT(chi2/(n*(min(C,R)-1))**\n",
        "\n",
        "Cramers V test shows the strength of the relationship"
      ]
    },
    {
      "cell_type": "code",
      "metadata": {
        "colab": {
          "base_uri": "https://localhost:8080/",
          "height": 202
        },
        "id": "G_jOCIiR8f8e",
        "outputId": "9c6cc8c8-6f87-4c6e-955c-d2cbb80f7199"
      },
      "source": [
        "pd.crosstab(index=churn_df['Contract'], columns=churn_df['Churn'], margins=True)"
      ],
      "execution_count": 10,
      "outputs": [
        {
          "output_type": "execute_result",
          "data": {
            "text/html": [
              "<div>\n",
              "<style scoped>\n",
              "    .dataframe tbody tr th:only-of-type {\n",
              "        vertical-align: middle;\n",
              "    }\n",
              "\n",
              "    .dataframe tbody tr th {\n",
              "        vertical-align: top;\n",
              "    }\n",
              "\n",
              "    .dataframe thead th {\n",
              "        text-align: right;\n",
              "    }\n",
              "</style>\n",
              "<table border=\"1\" class=\"dataframe\">\n",
              "  <thead>\n",
              "    <tr style=\"text-align: right;\">\n",
              "      <th>Churn</th>\n",
              "      <th>No</th>\n",
              "      <th>Yes</th>\n",
              "      <th>All</th>\n",
              "    </tr>\n",
              "    <tr>\n",
              "      <th>Contract</th>\n",
              "      <th></th>\n",
              "      <th></th>\n",
              "      <th></th>\n",
              "    </tr>\n",
              "  </thead>\n",
              "  <tbody>\n",
              "    <tr>\n",
              "      <th>Month-to-month</th>\n",
              "      <td>2220</td>\n",
              "      <td>1655</td>\n",
              "      <td>3875</td>\n",
              "    </tr>\n",
              "    <tr>\n",
              "      <th>One year</th>\n",
              "      <td>1307</td>\n",
              "      <td>166</td>\n",
              "      <td>1473</td>\n",
              "    </tr>\n",
              "    <tr>\n",
              "      <th>Two year</th>\n",
              "      <td>1647</td>\n",
              "      <td>48</td>\n",
              "      <td>1695</td>\n",
              "    </tr>\n",
              "    <tr>\n",
              "      <th>All</th>\n",
              "      <td>5174</td>\n",
              "      <td>1869</td>\n",
              "      <td>7043</td>\n",
              "    </tr>\n",
              "  </tbody>\n",
              "</table>\n",
              "</div>"
            ],
            "text/plain": [
              "Churn             No   Yes   All\n",
              "Contract                        \n",
              "Month-to-month  2220  1655  3875\n",
              "One year        1307   166  1473\n",
              "Two year        1647    48  1695\n",
              "All             5174  1869  7043"
            ]
          },
          "metadata": {
            "tags": []
          },
          "execution_count": 10
        }
      ]
    },
    {
      "cell_type": "code",
      "metadata": {
        "id": "qQRo4P868f5e"
      },
      "source": [
        "contract_churn_ct = pd.crosstab(index=churn_df['Contract'], columns=churn_df['Churn'], margins=True)"
      ],
      "execution_count": 11,
      "outputs": []
    },
    {
      "cell_type": "code",
      "metadata": {
        "colab": {
          "base_uri": "https://localhost:8080/"
        },
        "id": "sY6Nr-Ha8f2h",
        "outputId": "b5da83f1-4948-439c-fe0c-214d78e7da18"
      },
      "source": [
        "contract_churn_ct.iloc[0].values"
      ],
      "execution_count": 12,
      "outputs": [
        {
          "output_type": "execute_result",
          "data": {
            "text/plain": [
              "array([2220, 1655, 3875])"
            ]
          },
          "metadata": {
            "tags": []
          },
          "execution_count": 12
        }
      ]
    },
    {
      "cell_type": "markdown",
      "metadata": {
        "id": "EB3vDqAiwOMe"
      },
      "source": [
        "*** scipy.stats.chi2_contingency(observed, correction=True, lambda_=None)[source]\n",
        "\n",
        "> Indented block\n",
        "\n",
        "\n",
        "\n",
        "\n",
        "\n"
      ]
    },
    {
      "cell_type": "code",
      "metadata": {
        "id": "8cm3JXvCScpE"
      },
      "source": [
        "from scipy import stats\n",
        "(chi2, p, dof,_) = stats.chi2_contingency([contract_churn_ct.iloc[0].values,contract_churn_ct.iloc[1].values])"
      ],
      "execution_count": 13,
      "outputs": []
    },
    {
      "cell_type": "code",
      "metadata": {
        "id": "_rCN5lDnwGWQ",
        "colab": {
          "base_uri": "https://localhost:8080/"
        },
        "outputId": "b2aa93f2-6b72-4250-a297-2f488f890c33"
      },
      "source": [
        "print (\"chi2     : \" ,chi2)\n",
        "print (\"p-value  : \" ,p)\n",
        "print (\"Degree for Freedom : \" ,dof)"
      ],
      "execution_count": 14,
      "outputs": [
        {
          "output_type": "stream",
          "text": [
            "chi2     :  469.8074788942832\n",
            "p-value  :  9.607318302643863e-103\n",
            "Degree for Freedom :  2\n"
          ],
          "name": "stdout"
        }
      ]
    },
    {
      "cell_type": "markdown",
      "metadata": {
        "id": "JphD71e7AoTW"
      },
      "source": [
        "p < 0.05, there is a significant correlation"
      ]
    },
    {
      "cell_type": "markdown",
      "metadata": {
        "id": "As3QT2GlA3Ir"
      },
      "source": [
        "Cramer's V Test:\n",
        "\n",
        "**V = SQRT(chi2/(n*(min(C,R)-1))**"
      ]
    },
    {
      "cell_type": "code",
      "metadata": {
        "id": "cAhgcRogAHK7"
      },
      "source": [
        "import numpy as np"
      ],
      "execution_count": 15,
      "outputs": []
    },
    {
      "cell_type": "code",
      "metadata": {
        "colab": {
          "base_uri": "https://localhost:8080/"
        },
        "id": "Zxb7mRB3AHH-",
        "outputId": "b26f0448-4974-44a3-f6b7-7561923224d9"
      },
      "source": [
        "np.sqrt(chi2/(churn_df.shape[0]))"
      ],
      "execution_count": 16,
      "outputs": [
        {
          "output_type": "execute_result",
          "data": {
            "text/plain": [
              "0.25827425580247043"
            ]
          },
          "metadata": {
            "tags": []
          },
          "execution_count": 16
        }
      ]
    },
    {
      "cell_type": "markdown",
      "metadata": {
        "id": "UwcRWs5uCbRz"
      },
      "source": [
        "Now let's check correlation between \"PaperlessBilling\" and \"Churn\""
      ]
    },
    {
      "cell_type": "code",
      "metadata": {
        "colab": {
          "base_uri": "https://localhost:8080/"
        },
        "id": "-AutNemg8fze",
        "outputId": "3736250c-dd0f-45ec-f6bc-03a01d454134"
      },
      "source": [
        "churn_df['PaperlessBilling'].value_counts()"
      ],
      "execution_count": 17,
      "outputs": [
        {
          "output_type": "execute_result",
          "data": {
            "text/plain": [
              "Yes    4171\n",
              "No     2872\n",
              "Name: PaperlessBilling, dtype: int64"
            ]
          },
          "metadata": {
            "tags": []
          },
          "execution_count": 17
        }
      ]
    },
    {
      "cell_type": "code",
      "metadata": {
        "colab": {
          "base_uri": "https://localhost:8080/",
          "height": 309
        },
        "id": "GGjSIzT9BglU",
        "outputId": "9744ccff-696c-4b49-863a-f47a111a4f14"
      },
      "source": [
        "sns.set(style=\"darkgrid\")\n",
        "sns.set_palette(\"hls\", 3)\n",
        "fig, ax = plt.subplots(figsize=(20,5))\n",
        "ax = sns.countplot(x=\"PaperlessBilling\", hue=\"Churn\", data=churn_df)\n",
        "\n",
        "for p in ax.patches:\n",
        "    height = p.get_height()\n",
        "    ax.text(p.get_x()+p.get_width()/2.,\n",
        "            height + 3,\n",
        "            '{:1.2f}'.format(height/churn_df.shape[0]),\n",
        "            ha=\"center\") "
      ],
      "execution_count": 18,
      "outputs": [
        {
          "output_type": "display_data",
          "data": {
            "image/png": "[encoded data removed]",
            "text/plain": [
              "<Figure size 1440x360 with 1 Axes>"
            ]
          },
          "metadata": {
            "tags": []
          }
        }
      ]
    },
    {
      "cell_type": "code",
      "metadata": {
        "id": "i5wjrKAZBgfC"
      },
      "source": [
        "pb_churn_ct=pd.crosstab(index=churn_df['PaperlessBilling'],columns=churn_df['Churn'])"
      ],
      "execution_count": 19,
      "outputs": []
    },
    {
      "cell_type": "code",
      "metadata": {
        "colab": {
          "base_uri": "https://localhost:8080/",
          "height": 141
        },
        "id": "amzHiHI_B6bJ",
        "outputId": "7eddca34-893e-4ebe-8ce1-b851d4cfcbd3"
      },
      "source": [
        "pb_churn_ct"
      ],
      "execution_count": 20,
      "outputs": [
        {
          "output_type": "execute_result",
          "data": {
            "text/html": [
              "<div>\n",
              "<style scoped>\n",
              "    .dataframe tbody tr th:only-of-type {\n",
              "        vertical-align: middle;\n",
              "    }\n",
              "\n",
              "    .dataframe tbody tr th {\n",
              "        vertical-align: top;\n",
              "    }\n",
              "\n",
              "    .dataframe thead th {\n",
              "        text-align: right;\n",
              "    }\n",
              "</style>\n",
              "<table border=\"1\" class=\"dataframe\">\n",
              "  <thead>\n",
              "    <tr style=\"text-align: right;\">\n",
              "      <th>Churn</th>\n",
              "      <th>No</th>\n",
              "      <th>Yes</th>\n",
              "    </tr>\n",
              "    <tr>\n",
              "      <th>PaperlessBilling</th>\n",
              "      <th></th>\n",
              "      <th></th>\n",
              "    </tr>\n",
              "  </thead>\n",
              "  <tbody>\n",
              "    <tr>\n",
              "      <th>No</th>\n",
              "      <td>2403</td>\n",
              "      <td>469</td>\n",
              "    </tr>\n",
              "    <tr>\n",
              "      <th>Yes</th>\n",
              "      <td>2771</td>\n",
              "      <td>1400</td>\n",
              "    </tr>\n",
              "  </tbody>\n",
              "</table>\n",
              "</div>"
            ],
            "text/plain": [
              "Churn               No   Yes\n",
              "PaperlessBilling            \n",
              "No                2403   469\n",
              "Yes               2771  1400"
            ]
          },
          "metadata": {
            "tags": []
          },
          "execution_count": 20
        }
      ]
    },
    {
      "cell_type": "code",
      "metadata": {
        "id": "sE6nYVCTB6YG"
      },
      "source": [
        "(chi2, p, dof,_) = stats.chi2_contingency([pb_churn_ct.iloc[0].values,pb_churn_ct.iloc[1].values])"
      ],
      "execution_count": 21,
      "outputs": []
    },
    {
      "cell_type": "code",
      "metadata": {
        "colab": {
          "base_uri": "https://localhost:8080/"
        },
        "id": "EkOlp86aDJIa",
        "outputId": "bcf96765-d053-4b50-b272-8b4de782c465"
      },
      "source": [
        "print (\"chi2     : \" ,chi2)\n",
        "print (\"p-value  : \" ,p)\n",
        "print (\"Degree for Freedom : \" ,dof)"
      ],
      "execution_count": 22,
      "outputs": [
        {
          "output_type": "stream",
          "text": [
            "chi2     :  258.27764906707307\n",
            "p-value  :  4.073354668665985e-58\n",
            "Degree for Freedom :  1\n"
          ],
          "name": "stdout"
        }
      ]
    },
    {
      "cell_type": "markdown",
      "metadata": {
        "id": "DLaFSjRADafh"
      },
      "source": [
        "P values not as small as previous value for Contratc, less check the Cramer's V Test, and we see that relationship strenght is not as strong as for Contract"
      ]
    },
    {
      "cell_type": "code",
      "metadata": {
        "colab": {
          "base_uri": "https://localhost:8080/"
        },
        "id": "2YdPtjMpDIms",
        "outputId": "64314bc2-8007-4ecb-ecf2-739efc0be1dd"
      },
      "source": [
        "np.sqrt(chi2/(churn_df.shape[0]))"
      ],
      "execution_count": 23,
      "outputs": [
        {
          "output_type": "execute_result",
          "data": {
            "text/plain": [
              "0.19149814355338285"
            ]
          },
          "metadata": {
            "tags": []
          },
          "execution_count": 23
        }
      ]
    },
    {
      "cell_type": "markdown",
      "metadata": {
        "id": "Qm6-pCobDXd_"
      },
      "source": [
        "Now Let's check for \"gender\" and \"Churn\""
      ]
    },
    {
      "cell_type": "code",
      "metadata": {
        "colab": {
          "base_uri": "https://localhost:8080/",
          "height": 309
        },
        "id": "OOGI9V7RDVQI",
        "outputId": "30dd25a2-b34f-4d25-e108-ddfe6917c38a"
      },
      "source": [
        "sns.set(style=\"darkgrid\")\n",
        "sns.set_palette(\"hls\", 3)\n",
        "fig, ax = plt.subplots(figsize=(20,5))\n",
        "ax = sns.countplot(x=\"gender\", hue=\"Churn\", data=churn_df)\n",
        "\n",
        "for p in ax.patches:\n",
        "    height = p.get_height()\n",
        "    ax.text(p.get_x()+p.get_width()/2.,\n",
        "            height + 3,\n",
        "            '{:1.2f}'.format(height/churn_df.shape[0]),\n",
        "            ha=\"center\") "
      ],
      "execution_count": 24,
      "outputs": [
        {
          "output_type": "display_data",
          "data": {
            "image/png": "[encoded data removed]",
            "text/plain": [
              "<Figure size 1440x360 with 1 Axes>"
            ]
          },
          "metadata": {
            "tags": []
          }
        }
      ]
    },
    {
      "cell_type": "code",
      "metadata": {
        "id": "d88V0P-WEBf7"
      },
      "source": [
        "gender_churn_ct=pd.crosstab(index=churn_df['gender'],columns=churn_df['Churn'])"
      ],
      "execution_count": 25,
      "outputs": []
    },
    {
      "cell_type": "code",
      "metadata": {
        "colab": {
          "base_uri": "https://localhost:8080/",
          "height": 141
        },
        "id": "Kmn4TtB8EBgw",
        "outputId": "bd53d560-3810-4578-d897-8a0a18b80e5a"
      },
      "source": [
        "gender_churn_ct"
      ],
      "execution_count": 26,
      "outputs": [
        {
          "output_type": "execute_result",
          "data": {
            "text/html": [
              "<div>\n",
              "<style scoped>\n",
              "    .dataframe tbody tr th:only-of-type {\n",
              "        vertical-align: middle;\n",
              "    }\n",
              "\n",
              "    .dataframe tbody tr th {\n",
              "        vertical-align: top;\n",
              "    }\n",
              "\n",
              "    .dataframe thead th {\n",
              "        text-align: right;\n",
              "    }\n",
              "</style>\n",
              "<table border=\"1\" class=\"dataframe\">\n",
              "  <thead>\n",
              "    <tr style=\"text-align: right;\">\n",
              "      <th>Churn</th>\n",
              "      <th>No</th>\n",
              "      <th>Yes</th>\n",
              "    </tr>\n",
              "    <tr>\n",
              "      <th>gender</th>\n",
              "      <th></th>\n",
              "      <th></th>\n",
              "    </tr>\n",
              "  </thead>\n",
              "  <tbody>\n",
              "    <tr>\n",
              "      <th>Female</th>\n",
              "      <td>2549</td>\n",
              "      <td>939</td>\n",
              "    </tr>\n",
              "    <tr>\n",
              "      <th>Male</th>\n",
              "      <td>2625</td>\n",
              "      <td>930</td>\n",
              "    </tr>\n",
              "  </tbody>\n",
              "</table>\n",
              "</div>"
            ],
            "text/plain": [
              "Churn     No  Yes\n",
              "gender           \n",
              "Female  2549  939\n",
              "Male    2625  930"
            ]
          },
          "metadata": {
            "tags": []
          },
          "execution_count": 26
        }
      ]
    },
    {
      "cell_type": "code",
      "metadata": {
        "id": "ratbtLrDEBgy"
      },
      "source": [
        "(chi2, p, dof,_) = stats.chi2_contingency([gender_churn_ct.iloc[0].values,gender_churn_ct.iloc[1].values])"
      ],
      "execution_count": 27,
      "outputs": []
    },
    {
      "cell_type": "code",
      "metadata": {
        "colab": {
          "base_uri": "https://localhost:8080/"
        },
        "id": "X6kgW0BPEBgz",
        "outputId": "80bcc8e5-df3d-48d8-8c03-87e0c0d7516e"
      },
      "source": [
        "print (\"chi2     : \" ,chi2)\n",
        "print (\"p-value  : \" ,p)\n",
        "print (\"Degree for Freedom : \" ,dof)"
      ],
      "execution_count": 28,
      "outputs": [
        {
          "output_type": "stream",
          "text": [
            "chi2     :  0.4840828822091383\n",
            "p-value  :  0.48657873605618596\n",
            "Degree for Freedom :  1\n"
          ],
          "name": "stdout"
        }
      ]
    },
    {
      "cell_type": "markdown",
      "metadata": {
        "id": "sotAKqnlEnXk"
      },
      "source": [
        "Here p > 0.05 so there is no correlation, let's check the V test:"
      ]
    },
    {
      "cell_type": "code",
      "metadata": {
        "colab": {
          "base_uri": "https://localhost:8080/"
        },
        "id": "KH2tWi6IEhoW",
        "outputId": "221093e7-4b14-4dd4-dff5-7921c5a3002c"
      },
      "source": [
        "np.sqrt(chi2/(churn_df.shape[0]))"
      ],
      "execution_count": 29,
      "outputs": [
        {
          "output_type": "execute_result",
          "data": {
            "text/plain": [
              "0.008290505631771371"
            ]
          },
          "metadata": {
            "tags": []
          },
          "execution_count": 29
        }
      ]
    },
    {
      "cell_type": "markdown",
      "metadata": {
        "id": "xrmGP5ooEwnQ"
      },
      "source": [
        "Strength value ois very small so there is almost no relationship between \"gender\" and \"churn\""
      ]
    },
    {
      "cell_type": "markdown",
      "metadata": {
        "id": "Tsgw2mgQEiAh"
      },
      "source": [
        "---------------------"
      ]
    }
  ]
}