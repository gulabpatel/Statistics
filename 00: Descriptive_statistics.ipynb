{
  "nbformat": 4,
  "nbformat_minor": 0,
  "metadata": {
    "colab": {
      "name": "00: Descriptive_statistics.ipynb",
      "provenance": [],
      "collapsed_sections": [],
      "include_colab_link": true
    },
    "kernelspec": {
      "name": "python3",
      "display_name": "Python 3"
    }
  },
  "cells": [
    {
      "cell_type": "markdown",
      "metadata": {
        "id": "view-in-github",
        "colab_type": "text"
      },
      "source": [
        "<a href=\"https://colab.research.google.com/github/gulabpatel/Statistics/blob/main/00%3A%20Descriptive_statistics.ipynb\" target=\"_parent\"><img src=\"https://colab.research.google.com/assets/colab-badge.svg\" alt=\"Open In Colab\"/></a>"
      ]
    },
    {
      "cell_type": "markdown",
      "metadata": {
        "id": "IfaFN9sNJI_t"
      },
      "source": [
        "#Descriptive Statistics for Data-driven Decision Making with Python\n",
        "\n",
        "This Jupyter notebook accompanies our book on descriptive statistics.\n",
        "\n",
        "* Support us by buying our book: https://news.towardsai.net/descriptive-statistics\n",
        "* Book Sample: https://news.towardsai.net/descriptive-statistics-book-sample  \n",
        "* Github repository: https://github.com/towardsai/tutorials/tree/master/descriptive-statistics\n",
        "\n",
        "\n"
      ]
    },
    {
      "cell_type": "code",
      "metadata": {
        "id": "nai5znkElMP-",
        "colab": {
          "base_uri": "https://localhost:8080/"
        },
        "outputId": "e61dfbb1-001f-4729-89ee-752eda08674f"
      },
      "source": [
        "#Calculating the Mean (Page 33):\n",
        "\n",
        "#Import required libraries:\n",
        "from statistics import mean\n",
        "\n",
        "#Data:\n",
        "X = [5,8,15,18,25]\n",
        "\n",
        "#Finding mean:\n",
        "print(\"Mean = \",mean(X))"
      ],
      "execution_count": 1,
      "outputs": [
        {
          "output_type": "stream",
          "name": "stdout",
          "text": [
            "Mean =  14.2\n"
          ]
        }
      ]
    },
    {
      "cell_type": "code",
      "metadata": {
        "id": "jR0Jpz05lUC8",
        "colab": {
          "base_uri": "https://localhost:8080/"
        },
        "outputId": "9409c1d0-eaf1-4fe8-f105-29239dcf7b62"
      },
      "source": [
        "#Calculating the Weighted Mean (Page 34):\n",
        "\n",
        "#Import required libraries:\n",
        "import  numpy as np\n",
        "\n",
        "#Data:\n",
        "X = [5,10,15,20,25]\n",
        "\n",
        "#Weight:\n",
        "Y = [1,2,2,1,1]\n",
        "\n",
        "#Finding weighted mean:\n",
        "print(\"Weighted Mean = \",np.average(X,weights=Y))"
      ],
      "execution_count": 2,
      "outputs": [
        {
          "output_type": "stream",
          "name": "stdout",
          "text": [
            "Weighted Mean =  14.285714285714286\n"
          ]
        }
      ]
    },
    {
      "cell_type": "code",
      "metadata": {
        "id": "F2gOlmE6lWno",
        "colab": {
          "base_uri": "https://localhost:8080/"
        },
        "outputId": "ab447325-ebeb-4a64-9ff5-48a09e86dec2"
      },
      "source": [
        "#Calculating the Geometric Mean (Page 36):\n",
        "\n",
        "#Import required libraries:\n",
        "from scipy import stats\n",
        "\n",
        "#Data:\n",
        "X = [20,30,40]\n",
        "\n",
        "#Finding Geometric Mean:\n",
        "print(\"Geometric Mean =\",stats.gmean(X))"
      ],
      "execution_count": 3,
      "outputs": [
        {
          "output_type": "stream",
          "name": "stdout",
          "text": [
            "Geometric Mean = 28.844991406148168\n"
          ]
        }
      ]
    },
    {
      "cell_type": "code",
      "metadata": {
        "id": "MNu3M61OlZr4",
        "colab": {
          "base_uri": "https://localhost:8080/"
        },
        "outputId": "2dc3e35b-5e01-4cb0-9824-e43ce65a4a7f"
      },
      "source": [
        "#Calculating the Harmonic Mean (Page 37):\n",
        "\n",
        "#Import required libraries:\n",
        "from statistics import harmonic_mean\n",
        "\n",
        "#Data:\n",
        "X = [20,30,15]\n",
        "\n",
        "#Finding harmonic mean:\n",
        "print(\"Harmonic Mean =\",harmonic_mean([20,30,15]))"
      ],
      "execution_count": 4,
      "outputs": [
        {
          "output_type": "stream",
          "name": "stdout",
          "text": [
            "Harmonic Mean = 20.0\n"
          ]
        }
      ]
    },
    {
      "cell_type": "code",
      "metadata": {
        "id": "7kj2STfdlbGg",
        "colab": {
          "base_uri": "https://localhost:8080/"
        },
        "outputId": "7bf64266-cd8c-4504-c3f4-8bbade3b5767"
      },
      "source": [
        "#Median (Page 39):\n",
        "#Odd number of observations:\n",
        "\n",
        "#Import required libraries:\n",
        "from statistics import median\n",
        "\n",
        "#Data:\n",
        "X =[3,4,11,56,93]\n",
        "\n",
        "#Finding median:\n",
        "print(\"Median =\",median(X))"
      ],
      "execution_count": 5,
      "outputs": [
        {
          "output_type": "stream",
          "name": "stdout",
          "text": [
            "Median = 11\n"
          ]
        }
      ]
    },
    {
      "cell_type": "code",
      "metadata": {
        "id": "cIRQ6pODlcII",
        "colab": {
          "base_uri": "https://localhost:8080/"
        },
        "outputId": "ba3441e5-5044-4e6a-ba0a-93d7c143f5b4"
      },
      "source": [
        "#Median (Page 40):\n",
        "#Even number of observations:\n",
        "\n",
        "#Import required libraries:\n",
        "from statistics import median\n",
        "\n",
        "#Data:\n",
        "X = [3,4,11,56,93,100]\n",
        "\n",
        "#Finding median:\n",
        "print(\"Median =\",median(X))"
      ],
      "execution_count": 6,
      "outputs": [
        {
          "output_type": "stream",
          "name": "stdout",
          "text": [
            "Median = 33.5\n"
          ]
        }
      ]
    },
    {
      "cell_type": "code",
      "metadata": {
        "id": "xvSh1k-wlewJ",
        "colab": {
          "base_uri": "https://localhost:8080/"
        },
        "outputId": "7ef9a765-501e-4ac9-8166-bad68eb99d9d"
      },
      "source": [
        "#Mode (Page 43):\n",
        "\n",
        "#Import required libraries:\n",
        "from statistics import mode\n",
        "\n",
        "#Data:\n",
        "X = [2,7,18,32,32,45,78]\n",
        "\n",
        "#We have to use try-except in case there is no mode or more than one modes:\n",
        "try:\n",
        "    print(\"Mode =\",mode(X))\n",
        "except:\n",
        "    print(\"Mode not found!\")"
      ],
      "execution_count": 7,
      "outputs": [
        {
          "output_type": "stream",
          "name": "stdout",
          "text": [
            "Mode = 32\n"
          ]
        }
      ]
    },
    {
      "cell_type": "code",
      "metadata": {
        "id": "R8nGmJg_lfth",
        "colab": {
          "base_uri": "https://localhost:8080/"
        },
        "outputId": "82ef416c-7ff3-4ee6-d86b-08239a75b64a"
      },
      "source": [
        "#Mode (Page 44):\n",
        "\n",
        "#Import required libraries:\n",
        "from statistics import mode\n",
        "\n",
        "#Data:\n",
        "X = [2,7,18,32,46,54]\n",
        "\n",
        "#We have to use try-except in case there is no mode or more than one modes:\n",
        "try:\n",
        "    print(\"Mode =\",mode(X))\n",
        "except:\n",
        "    print(\"Mode not found!\")\n",
        "    \n",
        "#An error is thrown when there are no mode."
      ],
      "execution_count": 8,
      "outputs": [
        {
          "output_type": "stream",
          "name": "stdout",
          "text": [
            "Mode not found!\n"
          ]
        }
      ]
    },
    {
      "cell_type": "code",
      "metadata": {
        "id": "sSB62a_VlgfQ",
        "colab": {
          "base_uri": "https://localhost:8080/"
        },
        "outputId": "ef49226d-29b6-4c99-9e4f-1f3d4e205721"
      },
      "source": [
        "#Mode (Page 45):\n",
        "\n",
        "#Import required libraries:\n",
        "from statistics import mode\n",
        "\n",
        "#Data:\n",
        "X = [2,7,18,18,34,57,57,89]\n",
        "\n",
        "#We have to use try-except in case there is no mode or more than one modes:\n",
        "try:\n",
        "    print(\"Mode =\",mode(X))\n",
        "except:\n",
        "    print(\"Mode not found!\")\n",
        "      \n",
        "#An error is thrown in there are more than one mode."
      ],
      "execution_count": 9,
      "outputs": [
        {
          "output_type": "stream",
          "name": "stdout",
          "text": [
            "Mode not found!\n"
          ]
        }
      ]
    },
    {
      "cell_type": "code",
      "metadata": {
        "id": "-_XfyjDGlhYB",
        "colab": {
          "base_uri": "https://localhost:8080/"
        },
        "outputId": "e604d673-a54f-4b9a-f9b8-56617c001574"
      },
      "source": [
        "#Quantiles (Page 52):\n",
        "#Odd number of observations:\n",
        "\n",
        "#Import required libraries:\n",
        "import numpy as np\n",
        "X = [2,3,7,11,29,56,57,78,82,89,95]\n",
        "\n",
        "#Print the values:\n",
        "print(\"Min =\",np.quantile(X,0))\n",
        "print(\"Q1 =\",np.quantile(X,0.25))\n",
        "print(\"Q2 =\",np.quantile(X,0.50))\n",
        "print(\"Q3 =\",np.quantile(X,0.75))\n",
        "print(\"Max =\",np.quantile(X,1))"
      ],
      "execution_count": 10,
      "outputs": [
        {
          "output_type": "stream",
          "name": "stdout",
          "text": [
            "Min = 2\n",
            "Q1 = 9.0\n",
            "Q2 = 56.0\n",
            "Q3 = 80.0\n",
            "Max = 95\n"
          ]
        }
      ]
    },
    {
      "cell_type": "code",
      "metadata": {
        "id": "fIbYgWDqliUF",
        "colab": {
          "base_uri": "https://localhost:8080/"
        },
        "outputId": "d09a266a-4b57-4651-f6b6-a83ac9bfd107"
      },
      "source": [
        "#Quantiles (Page 52):\n",
        "#Even number of observations:\n",
        "\n",
        "#Import required libraries:\n",
        "import numpy as np\n",
        "X = [2,3,7,11,29,56,57,78,82,89]\n",
        "\n",
        "#Print the values:\n",
        "print(\"Min =\",np.quantile(X,0))\n",
        "print(\"Q1 =\",np.quantile(X,0.25))\n",
        "print(\"Q2 =\",np.quantile(X,0.50))\n",
        "print(\"Q3 =\",np.quantile(X,0.75))\n",
        "print(\"Max =\",np.quantile(X,1))"
      ],
      "execution_count": 11,
      "outputs": [
        {
          "output_type": "stream",
          "name": "stdout",
          "text": [
            "Min = 2\n",
            "Q1 = 8.0\n",
            "Q2 = 42.5\n",
            "Q3 = 72.75\n",
            "Max = 89\n"
          ]
        }
      ]
    },
    {
      "cell_type": "code",
      "metadata": {
        "id": "_RqjAwLGljLY",
        "colab": {
          "base_uri": "https://localhost:8080/"
        },
        "outputId": "d7d89601-7e04-42f1-d14d-49d1bb47976a"
      },
      "source": [
        "#Import required libraries (Page 55):\n",
        "from scipy import stats\n",
        "\n",
        "#Data:\n",
        "X= [1,2,3,4,5,6,7,8,9,10]\n",
        "\n",
        "#Find the percentile rank:\n",
        "print(\"Percentile Rank for 7 =\",stats.percentileofscore(X,7,kind=\"strict\"))\n",
        "print(\"Percentile Rank for 9 =\",stats.percentileofscore(X,9,kind=\"strict\"))"
      ],
      "execution_count": 12,
      "outputs": [
        {
          "output_type": "stream",
          "name": "stdout",
          "text": [
            "Percentile Rank for 7 = 60.0\n",
            "Percentile Rank for 9 = 80.0\n"
          ]
        }
      ]
    },
    {
      "cell_type": "code",
      "metadata": {
        "id": "sPTSMrWZlkEA",
        "colab": {
          "base_uri": "https://localhost:8080/"
        },
        "outputId": "04ef5554-ebe0-41da-f964-2db9ca8e96aa"
      },
      "source": [
        "#Import required libraries (Page 55):\n",
        "from scipy import stats\n",
        "\n",
        "#Data:\n",
        "X= [1,2,2,3,4,5,5,6,7,8]\n",
        "\n",
        "#Find the percentile rank:\n",
        "print(\"Percentile Rank for 5 =\",stats.percentileofscore(X,5,kind=\"strict\"))"
      ],
      "execution_count": 13,
      "outputs": [
        {
          "output_type": "stream",
          "name": "stdout",
          "text": [
            "Percentile Rank for 5 = 50.0\n"
          ]
        }
      ]
    },
    {
      "cell_type": "code",
      "metadata": {
        "id": "5N8KoMRNlk3x",
        "colab": {
          "base_uri": "https://localhost:8080/"
        },
        "outputId": "f509872c-44d8-44a5-8983-bdc22dd0cd6d"
      },
      "source": [
        "#Percentile values (Page 57):\n",
        "\n",
        "#Import required libraries:\n",
        "import numpy as np\n",
        "\n",
        "#Data:\n",
        "X = [2,5,6,8,11,45,64,71,77,89,93]\n",
        "\n",
        "#Print the values:\n",
        "print(\"75th =\",np.percentile(X,75))\n",
        "print(\"70th =\",np.percentile(X,70))\n",
        "print(\"40th =\",np.percentile(X,40))"
      ],
      "execution_count": 14,
      "outputs": [
        {
          "output_type": "stream",
          "name": "stdout",
          "text": [
            "75th = 74.0\n",
            "70th = 71.0\n",
            "40th = 11.0\n"
          ]
        }
      ]
    },
    {
      "cell_type": "code",
      "metadata": {
        "id": "fJF_VQVIllvg",
        "colab": {
          "base_uri": "https://localhost:8080/"
        },
        "outputId": "e8250bc0-85fb-427e-c5a2-1379f6992953"
      },
      "source": [
        "#Percentile values (Page 59):\n",
        "\n",
        "#Import required libraries:\n",
        "import numpy as np\n",
        "\n",
        "#Data:\n",
        "X = [2,5,6,8,11,45,64,71,77,89,93]\n",
        "\n",
        "#Print the values:\n",
        "print(\"10th =\",np.percentile(X,10))\n",
        "print(\"25th =\",np.percentile(X,25))\n",
        "print(\"75th =\",np.percentile(X,75))"
      ],
      "execution_count": 15,
      "outputs": [
        {
          "output_type": "stream",
          "name": "stdout",
          "text": [
            "10th = 5.0\n",
            "25th = 7.0\n",
            "75th = 74.0\n"
          ]
        }
      ]
    },
    {
      "cell_type": "code",
      "metadata": {
        "id": "1Ll88k5nlmjv",
        "colab": {
          "base_uri": "https://localhost:8080/"
        },
        "outputId": "1a003fad-1b0e-4dc2-e9d1-1c9db5cd1f25"
      },
      "source": [
        "#Range (Page 61):\n",
        "\n",
        "#Data:\n",
        "X = [2,5,6,8,11,15,19,21,25,28,31]\n",
        "\n",
        "#Print values:\n",
        "print(\"Range =\",(max(X)-min(X)))"
      ],
      "execution_count": 16,
      "outputs": [
        {
          "output_type": "stream",
          "name": "stdout",
          "text": [
            "Range = 29\n"
          ]
        }
      ]
    },
    {
      "cell_type": "code",
      "metadata": {
        "id": "vsWADGN0lnll",
        "colab": {
          "base_uri": "https://localhost:8080/"
        },
        "outputId": "ba0859f0-9d28-4e29-ef3b-867e40a35bf3"
      },
      "source": [
        "#Inter Quartile Range(IQR) (Page 62): \n",
        "\n",
        "#Import required libraries:\n",
        "from scipy import stats\n",
        "\n",
        "#Data:\n",
        "X = [2,5,6,8,11,15,19,21,25,28,31]\n",
        "\n",
        "#Interquartile Range:\n",
        "print(\"Interquartile Range =\",stats.iqr(X,interpolation=\"nearest\"))"
      ],
      "execution_count": 17,
      "outputs": [
        {
          "output_type": "stream",
          "name": "stdout",
          "text": [
            "Interquartile Range = 19\n"
          ]
        }
      ]
    },
    {
      "cell_type": "code",
      "metadata": {
        "id": "_sc6pVWnlo3Y",
        "colab": {
          "base_uri": "https://localhost:8080/"
        },
        "outputId": "06791b53-52df-462b-ce08-bfe5669e39e7"
      },
      "source": [
        "#Inter Quartile Range(IQR) (Page 64):\n",
        "\n",
        "#Import required libraries:\n",
        "from scipy import stats\n",
        "\n",
        "#Data:\n",
        "X = [2,5,6,8,11,15,19,21,25,28,500]\n",
        "\n",
        "#Range:\n",
        "print(\"Range =\",(max(X)-min(X)))\n",
        "\n",
        "#Interquartile Range:\n",
        "print(\"Interquartile Range =\",stats.iqr(X,interpolation=\"nearest\"))"
      ],
      "execution_count": 18,
      "outputs": [
        {
          "output_type": "stream",
          "name": "stdout",
          "text": [
            "Range = 498\n",
            "Interquartile Range = 19\n"
          ]
        }
      ]
    },
    {
      "cell_type": "code",
      "metadata": {
        "id": "A0FGIY0-lvSx",
        "colab": {
          "base_uri": "https://localhost:8080/"
        },
        "outputId": "89c04cb4-5ab3-4938-876a-1f0d96594949"
      },
      "source": [
        "#Sample variance (Page 68):\n",
        "\n",
        "#Import required libraries:\n",
        "from statistics import variance\n",
        "\n",
        "#Data:\n",
        "X = [20,30,25,50,70,45,75]\n",
        "\n",
        "#Print variance:\n",
        "print(\"Variance =\",variance(X))"
      ],
      "execution_count": 19,
      "outputs": [
        {
          "output_type": "stream",
          "name": "stdout",
          "text": [
            "Variance = 466.6666666666667\n"
          ]
        }
      ]
    },
    {
      "cell_type": "code",
      "metadata": {
        "id": "gWGNtot4lwV2",
        "colab": {
          "base_uri": "https://localhost:8080/"
        },
        "outputId": "f2d7ddb7-beb7-4af7-edfe-d2737e1c764b"
      },
      "source": [
        "#Sample Standard Deviation (Page 68):\n",
        "\n",
        "#Import required libraries:\n",
        "from statistics import stdev\n",
        "\n",
        "#Data:\n",
        "X = [20,30,25,50,70,45,75]\n",
        "\n",
        "#Print Standard Deviation:\n",
        "print(\"Standard Deviation =\",stdev(X))"
      ],
      "execution_count": 20,
      "outputs": [
        {
          "output_type": "stream",
          "name": "stdout",
          "text": [
            "Standard Deviation = 21.602468994692867\n"
          ]
        }
      ]
    },
    {
      "cell_type": "code",
      "metadata": {
        "id": "85OQLR2Gl43C",
        "colab": {
          "base_uri": "https://localhost:8080/"
        },
        "outputId": "20fdfab0-816e-4447-ee08-e5b7020a618d"
      },
      "source": [
        "#Population variance:\n",
        "\n",
        "#Import required libraries:\n",
        "from statistics import pvariance\n",
        "\n",
        "#Data:\n",
        "X = [20,30,25,50,70,45,75]\n",
        "\n",
        "#Print variance:\n",
        "print(\"Variance =\",pvariance(X))"
      ],
      "execution_count": 21,
      "outputs": [
        {
          "output_type": "stream",
          "name": "stdout",
          "text": [
            "Variance = 400\n"
          ]
        }
      ]
    },
    {
      "cell_type": "code",
      "metadata": {
        "id": "mQHftIall5uw",
        "colab": {
          "base_uri": "https://localhost:8080/"
        },
        "outputId": "ddcbe3f6-b0d6-43dd-ce8e-68f293ba70d3"
      },
      "source": [
        "#Population Standard Deviation (Page 68):\n",
        "\n",
        "#Import required libraries:\n",
        "from statistics import pstdev\n",
        "\n",
        "#Data:\n",
        "X = [20,30,25,50,70,45,75]\n",
        "\n",
        "#Print Standard Deviation:\n",
        "print(\"Standard Deviation =\",pstdev(X))"
      ],
      "execution_count": 22,
      "outputs": [
        {
          "output_type": "stream",
          "name": "stdout",
          "text": [
            "Standard Deviation = 20.0\n"
          ]
        }
      ]
    },
    {
      "cell_type": "code",
      "metadata": {
        "id": "bMGFqwfCl6oD",
        "colab": {
          "base_uri": "https://localhost:8080/"
        },
        "outputId": "d0600e95-af3b-48e8-879a-1e4cf08274c9"
      },
      "source": [
        "#Mean Absolute Deviation (Page 74):\n",
        "\n",
        "#Import required libraries:\n",
        "from numpy import mean, absolute\n",
        "\n",
        "#Data:\n",
        "X = [18,20,34]\n",
        "\n",
        "#Print Mean Absolute Deviation:\n",
        "print(\"Mean Absolute Deviation = \",mean(absolute(X - mean(X))) )"
      ],
      "execution_count": 23,
      "outputs": [
        {
          "output_type": "stream",
          "name": "stdout",
          "text": [
            "Mean Absolute Deviation =  6.666666666666667\n"
          ]
        }
      ]
    },
    {
      "cell_type": "code",
      "metadata": {
        "id": "ZAAs3T8Wl7j3",
        "colab": {
          "base_uri": "https://localhost:8080/"
        },
        "outputId": "e5a8185b-4a8a-4242-b469-5416f1391b57"
      },
      "source": [
        "#Coefficient of variation (Page 78):\n",
        "\n",
        "#Import required libraries:\n",
        "from statistics import mean,stdev\n",
        "\n",
        "#Data:\n",
        "X = [51710,51350,51400,51450,51460]\n",
        "Y = [62.009,61.962,62.797,61.996,63.158]\n",
        "\n",
        "#Standard Deviation:\n",
        "std_X = stdev(X)\n",
        "std_Y = stdev(Y)\n",
        "\n",
        "#Mean:\n",
        "mean_X = mean(X)\n",
        "mean_Y = mean(Y)\n",
        "\n",
        "#Print coefficient of varition:\n",
        "print(\"Coefficient of variation for X =\",std_X/mean_X)\n",
        "print(\"Coefficient of variation for Y =\",std_Y/mean_Y)"
      ],
      "execution_count": 24,
      "outputs": [
        {
          "output_type": "stream",
          "name": "stdout",
          "text": [
            "Coefficient of variation for X = 0.002701021298743379\n",
            "Coefficient of variation for Y = 0.008920960934171577\n"
          ]
        }
      ]
    },
    {
      "cell_type": "code",
      "metadata": {
        "id": "ka7F7Zrel8ZQ",
        "colab": {
          "base_uri": "https://localhost:8080/"
        },
        "outputId": "5f9142c7-44c2-4ed9-d73f-b4f50e18e862"
      },
      "source": [
        "#Skewness for normally distributed data (Page 86):\n",
        "\n",
        "#Import required libraries:\n",
        "from statistics import mean,median,mode\n",
        "from scipy.stats import skew\n",
        "import numpy as np\n",
        "\n",
        "#Get normally distributed data:\n",
        "X = np.random.normal(0,2,10000)\n",
        "\n",
        "#Print the data:\n",
        "print(X,\"\\n\")\n",
        "\n",
        "#Print Mean:\n",
        "print(\"Mean =\",mean(X))\n",
        "\n",
        "#Print Median:\n",
        "print(\"Median = \",median(X))\n",
        "\n",
        "#Print Mode if available:\n",
        "try:\n",
        "    print(\"Mode = \",mode(X))\n",
        "except:\n",
        "    print(\"Mode not found!\")\n",
        "    \n",
        "#Find the skewness:\n",
        "print(\"Skewness =\",skew(X))"
      ],
      "execution_count": 25,
      "outputs": [
        {
          "output_type": "stream",
          "name": "stdout",
          "text": [
            "[-1.47398605 -4.06919581  0.84237134 ...  1.31127064  1.32414743\n",
            " -1.24599817] \n",
            "\n",
            "Mean = 0.017510159330974762\n",
            "Median =  0.009966508823062749\n",
            "Mode not found!\n",
            "Skewness = 0.015276222933748692\n"
          ]
        }
      ]
    },
    {
      "cell_type": "code",
      "metadata": {
        "id": "e1F_AXZdl9Wx",
        "colab": {
          "base_uri": "https://localhost:8080/"
        },
        "outputId": "12f1e7c8-353c-44b1-8261-43e54e6257f8"
      },
      "source": [
        "#Skewness for normally distributed data (Page 87):\n",
        "\n",
        "#Import required libraries:\n",
        "from statistics import mean,median,mode\n",
        "from scipy.stats import skew\n",
        "import numpy as np\n",
        "\n",
        "\n",
        "#Get normally distributed data:\n",
        "X = [1,2,3,4,5]\n",
        "\n",
        "#Print the data:\n",
        "print(X,\"\\n\")\n",
        "\n",
        "#Print Mean:\n",
        "print(\"Mean =\",mean(X))\n",
        "\n",
        "#Print Median:\n",
        "print(\"Median = \",median(X))\n",
        "\n",
        "#Print Mode if available:\n",
        "try:\n",
        "    print(\"Mode = \",mode(X))\n",
        "except:\n",
        "    print(\"Mode not found!\")\n",
        "    \n",
        "#Find the skewness:\n",
        "print(\"Skewness =\",skew(X))"
      ],
      "execution_count": 26,
      "outputs": [
        {
          "output_type": "stream",
          "name": "stdout",
          "text": [
            "[1, 2, 3, 4, 5] \n",
            "\n",
            "Mean = 3\n",
            "Median =  3\n",
            "Mode not found!\n",
            "Skewness = 0.0\n"
          ]
        }
      ]
    },
    {
      "cell_type": "code",
      "metadata": {
        "id": "H-zDfThBl-W3",
        "colab": {
          "base_uri": "https://localhost:8080/"
        },
        "outputId": "23d86e80-2af9-449f-d381-2175c3ed434f"
      },
      "source": [
        "#Moderately Positive Skewed Data (Page 88):\n",
        "\n",
        "#Import required libraries:\n",
        "from statistics import mean,median,mode\n",
        "from scipy.stats import skew\n",
        "import numpy as np\n",
        "\n",
        "\n",
        "#Get normally distributed data:\n",
        "X = [1,1,1,2,3,4,5]\n",
        "\n",
        "#Print the data:\n",
        "print(X,\"\\n\")\n",
        "\n",
        "#Print Mean:\n",
        "print(\"Mean =\",mean(X))\n",
        "\n",
        "#Print Median:\n",
        "print(\"Median = \",median(X))\n",
        "\n",
        "#Print Mode if available:\n",
        "try:\n",
        "    print(\"Mode = \",mode(X))\n",
        "except:\n",
        "    print(\"Mode not found!\")\n",
        "    \n",
        "#Find the skewness:\n",
        "print(\"Skewness =\",skew(X))"
      ],
      "execution_count": 27,
      "outputs": [
        {
          "output_type": "stream",
          "name": "stdout",
          "text": [
            "[1, 1, 1, 2, 3, 4, 5] \n",
            "\n",
            "Mean = 2.4285714285714284\n",
            "Median =  2\n",
            "Mode =  1\n",
            "Skewness = 0.5200705032248689\n"
          ]
        }
      ]
    },
    {
      "cell_type": "code",
      "metadata": {
        "id": "ehoE3RS-mATY",
        "colab": {
          "base_uri": "https://localhost:8080/"
        },
        "outputId": "5f67a272-1c63-4527-cc52-1c39ecc9adba"
      },
      "source": [
        "#Moderately Negative Skewed Data (Page 89):\n",
        "\n",
        "#Import required libraries:\n",
        "from statistics import mean,median,mode\n",
        "from scipy.stats import skew\n",
        "import numpy as np\n",
        "\n",
        "\n",
        "#Get normally distributed data:\n",
        "X = [1,2,3,4,5,5,5]\n",
        "\n",
        "#Print the data:\n",
        "print(X,\"\\n\")\n",
        "\n",
        "#Print Mean:\n",
        "print(\"Mean =\",mean(X))\n",
        "\n",
        "#Print Median:\n",
        "print(\"Median = \",median(X))\n",
        "\n",
        "#Print Mode if available:\n",
        "try:\n",
        "    print(\"Mode = \",mode(X))\n",
        "except:\n",
        "    print(\"Mode not found!\")\n",
        "    \n",
        "#Find the skewness:\n",
        "print(\"Skewness =\",skew(X))"
      ],
      "execution_count": 28,
      "outputs": [
        {
          "output_type": "stream",
          "name": "stdout",
          "text": [
            "[1, 2, 3, 4, 5, 5, 5] \n",
            "\n",
            "Mean = 3.5714285714285716\n",
            "Median =  4\n",
            "Mode =  5\n",
            "Skewness = -0.5200705032248687\n"
          ]
        }
      ]
    },
    {
      "cell_type": "code",
      "metadata": {
        "id": "qCQGamREl_Vz",
        "colab": {
          "base_uri": "https://localhost:8080/"
        },
        "outputId": "8f502f34-bbea-4cfd-bbec-77644c1c9a44"
      },
      "source": [
        "#Highly Positive Skewed Data (Page 90):\n",
        "\n",
        "#Import required libraries:\n",
        "from statistics import mean,median,mode\n",
        "from scipy.stats import skew\n",
        "import numpy as np\n",
        "\n",
        "\n",
        "#Get normally distributed data:\n",
        "X = [1,1,1,1,1,1,1,1,1,2,3,4,5]\n",
        "\n",
        "#Print the data:\n",
        "print(X,\"\\n\")\n",
        "\n",
        "#Print Mean:\n",
        "print(\"Mean =\",mean(X))\n",
        "\n",
        "#Print Median:\n",
        "print(\"Median = \",median(X))\n",
        "\n",
        "#Print Mode if available:\n",
        "try:\n",
        "    print(\"Mode = \",mode(X))\n",
        "except:\n",
        "    print(\"Mode not found!\")\n",
        "    \n",
        "#Find the skewness:\n",
        "print(\"Skewness =\",skew(X))"
      ],
      "execution_count": 29,
      "outputs": [
        {
          "output_type": "stream",
          "name": "stdout",
          "text": [
            "[1, 1, 1, 1, 1, 1, 1, 1, 1, 2, 3, 4, 5] \n",
            "\n",
            "Mean = 1.7692307692307692\n",
            "Median =  1\n",
            "Mode =  1\n",
            "Skewness = 1.4579260622434016\n"
          ]
        }
      ]
    },
    {
      "cell_type": "code",
      "metadata": {
        "id": "7jlo1easmBPv",
        "colab": {
          "base_uri": "https://localhost:8080/"
        },
        "outputId": "b5135550-9ec3-4412-f362-74abbab232b3"
      },
      "source": [
        "#Highly Negative Skewed Data (Page 91):\n",
        "\n",
        "#Import required libraries:\n",
        "from statistics import mean,median,mode\n",
        "from scipy.stats import skew\n",
        "import numpy as np\n",
        "\n",
        "\n",
        "#Get normally distributed data:\n",
        "X = [1,2,3,4,5,5,5,5,5,5,5,5,5]\n",
        "\n",
        "#Print the data:\n",
        "print(X,\"\\n\")\n",
        "\n",
        "#Print Mean:\n",
        "print(\"Mean =\",mean(X))\n",
        "\n",
        "#Print Median:\n",
        "print(\"Median = \",median(X))\n",
        "\n",
        "#Print Mode if available:\n",
        "try:\n",
        "    print(\"Mode = \",mode(X))\n",
        "except:\n",
        "    print(\"Mode not found!\")\n",
        "    \n",
        "#Find the skewness:\n",
        "print(\"Skewness =\",skew(X))"
      ],
      "execution_count": 30,
      "outputs": [
        {
          "output_type": "stream",
          "name": "stdout",
          "text": [
            "[1, 2, 3, 4, 5, 5, 5, 5, 5, 5, 5, 5, 5] \n",
            "\n",
            "Mean = 4.230769230769231\n",
            "Median =  5\n",
            "Mode =  5\n",
            "Skewness = -1.4579260622434014\n"
          ]
        }
      ]
    },
    {
      "cell_type": "code",
      "metadata": {
        "id": "2cCThQ4zmCgQ",
        "colab": {
          "base_uri": "https://localhost:8080/"
        },
        "outputId": "a0de3ac6-ab7b-499a-c927-1e039a454d55"
      },
      "source": [
        "#Mesokurtic (Page 95):\n",
        "#Fisher=False\n",
        "\n",
        "#Import required libraries:\n",
        "from scipy.stats import kurtosis\n",
        "import numpy as np\n",
        "\n",
        "#Generating normally distributed data:\n",
        "X=np.random.normal(0,1,100000)\n",
        "\n",
        "#Get the kurtosis value:\n",
        "print(\"Kurtosis = \",kurtosis(X,fisher=False))"
      ],
      "execution_count": 31,
      "outputs": [
        {
          "output_type": "stream",
          "name": "stdout",
          "text": [
            "Kurtosis =  3.0229811771303496\n"
          ]
        }
      ]
    },
    {
      "cell_type": "code",
      "metadata": {
        "id": "g7Ztf_C8mDkP",
        "colab": {
          "base_uri": "https://localhost:8080/"
        },
        "outputId": "c1ce6588-c4e7-43fd-a63b-9f0bb350fcef"
      },
      "source": [
        "#Mesokurtic (Page 95):\n",
        "#Fisher=True\n",
        "\n",
        "#Import required libraries:\n",
        "from scipy.stats import kurtosis\n",
        "import numpy as np\n",
        "\n",
        "#Generating normally distributed data:\n",
        "X=np.random.normal(0,1,100000)\n",
        "\n",
        "#Get the kurtosis value:\n",
        "print(\"Kurtosis = \",kurtosis(X,fisher=True))"
      ],
      "execution_count": 32,
      "outputs": [
        {
          "output_type": "stream",
          "name": "stdout",
          "text": [
            "Kurtosis =  0.003005149450947542\n"
          ]
        }
      ]
    },
    {
      "cell_type": "code",
      "metadata": {
        "id": "1AYR11JpmElY",
        "colab": {
          "base_uri": "https://localhost:8080/"
        },
        "outputId": "2951c459-888d-4d0d-b5b1-7494c492e8cf"
      },
      "source": [
        "#Leptokurtic (Page 95):\n",
        "#Fisher=False\n",
        "\n",
        "#Import required libraries:\n",
        "from scipy.stats import kurtosis\n",
        "import numpy as np\n",
        "\n",
        "#Generating normally distributed data:\n",
        "X = [1,2,3,4,4,4,5,5,5,5,5,5,5,5,5]\n",
        "\n",
        "#Get the kurtosis value:\n",
        "print(\"Kurtosis = \",kurtosis(X,fisher=False))"
      ],
      "execution_count": 33,
      "outputs": [
        {
          "output_type": "stream",
          "name": "stdout",
          "text": [
            "Kurtosis =  4.007334183673471\n"
          ]
        }
      ]
    },
    {
      "cell_type": "code",
      "metadata": {
        "id": "t9HnMqn4mGI4",
        "colab": {
          "base_uri": "https://localhost:8080/"
        },
        "outputId": "ae25c1e7-8e2e-4068-d8d9-15a76cfe10f9"
      },
      "source": [
        "#Leptokurtic (Page 96):\n",
        "#Fisher=True\n",
        "\n",
        "#Import required libraries:\n",
        "from scipy.stats import kurtosis\n",
        "import numpy as np\n",
        "\n",
        "#Generating normally distributed data:\n",
        "X = [1,2,3,4,4,4,5,5,5,5,5,5,5,5,5]\n",
        "\n",
        "#Get the kurtosis value:\n",
        "print(\"Kurtosis = \",kurtosis(X,fisher=True))"
      ],
      "execution_count": 34,
      "outputs": [
        {
          "output_type": "stream",
          "name": "stdout",
          "text": [
            "Kurtosis =  1.0073341836734713\n"
          ]
        }
      ]
    },
    {
      "cell_type": "code",
      "metadata": {
        "id": "XkCz5dKkmIQg",
        "colab": {
          "base_uri": "https://localhost:8080/"
        },
        "outputId": "d64454c2-1ab8-474a-afab-333e452aefdf"
      },
      "source": [
        "#Platykurtic (Page 96):\n",
        "#Fisher=False\n",
        "\n",
        "#Import required libraries:\n",
        "from scipy.stats import kurtosis\n",
        "import numpy as np\n",
        "\n",
        "#Generating normally distributed data:\n",
        "X = [1,2,3,4,5,6]\n",
        "\n",
        "#Get the kurtosis value:\n",
        "print(\"Kurtosis = \",kurtosis(X,fisher=False))"
      ],
      "execution_count": 35,
      "outputs": [
        {
          "output_type": "stream",
          "name": "stdout",
          "text": [
            "Kurtosis =  1.7314285714285718\n"
          ]
        }
      ]
    },
    {
      "cell_type": "code",
      "metadata": {
        "id": "XelZszBVmLxf",
        "colab": {
          "base_uri": "https://localhost:8080/"
        },
        "outputId": "75ec7340-08a6-42b0-dd17-d41b960602ce"
      },
      "source": [
        "#Platykurtic (Page 96):\n",
        "#Fisher=True\n",
        "\n",
        "#Import required libraries:\n",
        "from scipy.stats import kurtosis\n",
        "import numpy as np\n",
        "\n",
        "#Generating normally distributed data:\n",
        "X = [1,2,3,4,5,6]\n",
        "\n",
        "#Get the kurtosis value:\n",
        "print(\"Kurtosis = \",kurtosis(X,fisher=True))"
      ],
      "execution_count": 36,
      "outputs": [
        {
          "output_type": "stream",
          "name": "stdout",
          "text": [
            "Kurtosis =  -1.2685714285714282\n"
          ]
        }
      ]
    },
    {
      "cell_type": "code",
      "metadata": {
        "id": "mVSBDoyVmMyQ",
        "colab": {
          "base_uri": "https://localhost:8080/"
        },
        "outputId": "4f046d4e-9af4-4244-b8ef-5b7c8c40e01c"
      },
      "source": [
        "#Covarience (Page 103):\n",
        "\n",
        "#Import required libraries:\n",
        "import numpy as np\n",
        "\n",
        "#Data:\n",
        "X = [100,103,110,115,119]\n",
        "Y = [1,7,15,20,22]\n",
        "\n",
        "#Print the covarience matrix:\n",
        "print(\"Covariance\\n\")\n",
        "print(np.cov(X,Y))"
      ],
      "execution_count": 37,
      "outputs": [
        {
          "output_type": "stream",
          "name": "stdout",
          "text": [
            "Covariance\n",
            "\n",
            "[[63.3 69.5]\n",
            " [69.5 78.5]]\n"
          ]
        }
      ]
    },
    {
      "cell_type": "code",
      "metadata": {
        "id": "oR-WbuhLmO1V",
        "colab": {
          "base_uri": "https://localhost:8080/"
        },
        "outputId": "899050a1-74d5-4d8e-945c-1fb6b8eea1bc"
      },
      "source": [
        "#Correlation (Page 104):\n",
        "\n",
        "#Import required libraries:\n",
        "import numpy as np\n",
        "\n",
        "#Data:\n",
        "X = [100,103,110,115,119]\n",
        "Y = [1,7,15,20,22]\n",
        "\n",
        "#Print the correlation matrix:\n",
        "print(\"Correlation\\n\")\n",
        "print(np.corrcoef(X,Y))"
      ],
      "execution_count": 38,
      "outputs": [
        {
          "output_type": "stream",
          "name": "stdout",
          "text": [
            "Correlation\n",
            "\n",
            "[[1.         0.98593463]\n",
            " [0.98593463 1.        ]]\n"
          ]
        }
      ]
    },
    {
      "cell_type": "code",
      "metadata": {
        "colab": {
          "base_uri": "https://localhost:8080/"
        },
        "id": "aP98LIsIqyI0",
        "outputId": "82033510-0968-42a0-c9af-9356a468e30b"
      },
      "source": [
        "#1-Dimensional Data (Page 119):\n",
        "\n",
        "#Import required libraries:\n",
        "from scipy import stats\n",
        "\n",
        "#Dataset:\n",
        "d = [1,2,3,4,5]\n",
        "\n",
        "#Finding 0th moment:\n",
        "print(\"0th Moment = \",stats.moment(d,moment=0))\n",
        "\n",
        "#Finding 1st moment:\n",
        "print(\"1st Moment = \",stats.moment(d,moment=1))\n",
        "\n",
        "#Finding 2nd moment:\n",
        "print(\"2nd Moment = \",stats.moment(d,moment=2))\n",
        "\n",
        "#Finding 3nd moment:\n",
        "print(\"3nd Moment = \",stats.moment(d,moment=3))\n",
        "\n",
        "#Finding 4th moment:\n",
        "print(\"4th Moment = \",stats.moment(d,moment=4))"
      ],
      "execution_count": 39,
      "outputs": [
        {
          "output_type": "stream",
          "name": "stdout",
          "text": [
            "0th Moment =  1.0\n",
            "1st Moment =  0.0\n",
            "2nd Moment =  2.0\n",
            "3nd Moment =  0.0\n",
            "4th Moment =  6.8\n"
          ]
        }
      ]
    },
    {
      "cell_type": "code",
      "metadata": {
        "colab": {
          "base_uri": "https://localhost:8080/"
        },
        "id": "OYTishVaq-Q8",
        "outputId": "9a58ac52-a272-47a3-b01d-5ebe4c894a6b"
      },
      "source": [
        "#2-Dimensional Data (Page 119):\n",
        "\n",
        "#Import required libraries:\n",
        "from scipy import stats\n",
        "\n",
        "#Dataset:\n",
        "d = [[5,6,9,11,3],[21,4,8,15,2]]\n",
        "\n",
        "#Finding 0th moment:\n",
        "print(\"0th Moment = \",stats.moment(d,moment=0))\n",
        "\n",
        "#Finding 1st moment:\n",
        "print(\"1st Moment = \",stats.moment(d,moment=1))\n",
        "\n",
        "#Finding 2nd moment:\n",
        "print(\"2nd Moment = \",stats.moment(d,moment=2))\n",
        "\n",
        "#Finding 3nd moment:\n",
        "print(\"3nd Moment = \",stats.moment(d,moment=3))\n",
        "\n",
        "#Finding 4th moment:\n",
        "print(\"4th Moment = \",stats.moment(d,moment=4))"
      ],
      "execution_count": 40,
      "outputs": [
        {
          "output_type": "stream",
          "name": "stdout",
          "text": [
            "0th Moment =  [1. 1. 1. 1. 1.]\n",
            "1st Moment =  [0. 0. 0. 0. 0.]\n",
            "2nd Moment =  [64.    1.    0.25  4.    0.25]\n",
            "3nd Moment =  [0. 0. 0. 0. 0.]\n",
            "4th Moment =  [4.096e+03 1.000e+00 6.250e-02 1.600e+01 6.250e-02]\n"
          ]
        }
      ]
    },
    {
      "cell_type": "code",
      "metadata": {
        "colab": {
          "base_uri": "https://localhost:8080/"
        },
        "id": "vBymVv03rB3D",
        "outputId": "2ef12cfb-4cb7-4969-be7d-e99a27e1281b"
      },
      "source": [
        "#2-Dimensional Data (Page 120):\n",
        "#Set axis=1 (Horizonatal):\n",
        "\n",
        "#Import required libraries:\n",
        "from scipy import stats\n",
        "\n",
        "#Dataset:\n",
        "d = [[5,6,9,11,3],[21,4,8,15,2]]\n",
        "\n",
        "#Finding 0th moment:\n",
        "print(\"0th Moment = \",stats.moment(d,moment=0,axis=1))\n",
        "\n",
        "#Finding 1st moment:\n",
        "print(\"1st Moment = \",stats.moment(d,moment=1,axis=1))\n",
        "\n",
        "#Finding 2nd moment:\n",
        "print(\"2nd Moment = \",stats.moment(d,moment=2,axis=1))\n",
        "\n",
        "#Finding 3nd moment:\n",
        "print(\"3nd Moment = \",stats.moment(d,moment=3,axis=1))\n",
        "\n",
        "#Finding 4th moment:\n",
        "print(\"4th Moment = \",stats.moment(d,moment=4,axis=1))"
      ],
      "execution_count": 41,
      "outputs": [
        {
          "output_type": "stream",
          "name": "stdout",
          "text": [
            "0th Moment =  [1. 1.]\n",
            "1st Moment =  [0. 0.]\n",
            "2nd Moment =  [ 8.16 50.  ]\n",
            "3nd Moment =  [  4.704 144.   ]\n",
            "4th Moment =  [ 110.8032 4134.8   ]\n"
          ]
        }
      ]
    },
    {
      "cell_type": "code",
      "metadata": {
        "colab": {
          "base_uri": "https://localhost:8080/"
        },
        "id": "zGrvyzh1rFoe",
        "outputId": "01830866-f7d5-4af6-b3ec-c8944ca6721c"
      },
      "source": [
        "#Multi-Dimensional Data (Page 120):\n",
        "\n",
        "#Import required libraries:\n",
        "from scipy import stats\n",
        "\n",
        "#Dataset:\n",
        "d = [[5,6,9,11,3],\n",
        "     [21,4,8,15,2],\n",
        "    [15,23,42,1,36]]\n",
        "\n",
        "#Finding 0th moment:\n",
        "print(\"0th Moment = \",stats.moment(d,moment=0))\n",
        "\n",
        "#Finding 1st moment:\n",
        "print(\"1st Moment = \",stats.moment(d,moment=1))\n",
        "\n",
        "#Finding 2nd moment:\n",
        "print(\"2nd Moment = \",stats.moment(d,moment=2))\n",
        "\n",
        "#Finding 3nd moment:\n",
        "print(\"3nd Moment = \",stats.moment(d,moment=3))\n",
        "\n",
        "#Finding 4th moment:\n",
        "print(\"4th Moment = \",stats.moment(d,moment=4))"
      ],
      "execution_count": 42,
      "outputs": [
        {
          "output_type": "stream",
          "name": "stdout",
          "text": [
            "0th Moment =  [1. 1. 1. 1. 1.]\n",
            "1st Moment =  [0. 0. 0. 0. 0.]\n",
            "2nd Moment =  [ 43.55555556  72.66666667 249.55555556  34.66666667 249.55555556]\n",
            "3nd Moment =  [ -84.74074074  420.         2779.25925926  -96.         2779.25925926]\n",
            "4th Moment =  [ 2845.62962963  7920.66666667 93416.96296296  1802.66666667\n",
            " 93416.96296296]\n"
          ]
        }
      ]
    },
    {
      "cell_type": "code",
      "metadata": {
        "colab": {
          "base_uri": "https://localhost:8080/"
        },
        "id": "206SuyPDrGvT",
        "outputId": "01b51fa9-7c6d-45fe-b647-2199edb3a00d"
      },
      "source": [
        "#2-Dimensional Data (Page 121):\n",
        "#Set axis=1 (Horizonatal):\n",
        "#Higher Order Moments:\n",
        "\n",
        "#Import required libraries:\n",
        "from scipy import stats\n",
        "\n",
        "#Dataset:\n",
        "d = [[5,6,9,11,3],[21,4,8,15,2]]\n",
        "\n",
        "#Finding 10th moment:\n",
        "print(\"10th Moment = \",stats.moment(d,moment=10,axis=1))\n",
        "\n",
        "#Finding 12th moment:\n",
        "print(\"12th Moment = \",stats.moment(d,moment=12,axis=1))"
      ],
      "execution_count": 43,
      "outputs": [
        {
          "output_type": "stream",
          "name": "stdout",
          "text": [
            "10th Moment =  [4.67770829e+05 5.41627985e+09]\n",
            "12th Moment =  [7.84184386e+06 6.41913756e+11]\n"
          ]
        }
      ]
    },
    {
      "cell_type": "code",
      "metadata": {
        "id": "ulGaelb9mQKX",
        "colab": {
          "base_uri": "https://localhost:8080/"
        },
        "outputId": "50cd9df4-8e08-4676-c41a-5478dac0d029"
      },
      "source": [
        "#Sample 1 (Page 131):\n",
        "\n",
        "#Import required libraries:\n",
        "from statistics import mean,stdev\n",
        "from scipy import stats\n",
        "\n",
        "#Data:\n",
        "X = [20,30,50,40,60]\n",
        "\n",
        "#Print Stats:\n",
        "print(\"Mean =\",mean(X))\n",
        "print(\"Standard Deviation =\",stdev(X))\n",
        "print(\"Standard Error From Mean =\",stats.sem(X))"
      ],
      "execution_count": 44,
      "outputs": [
        {
          "output_type": "stream",
          "name": "stdout",
          "text": [
            "Mean = 40\n",
            "Standard Deviation = 15.811388300841896\n",
            "Standard Error From Mean = 7.071067811865475\n"
          ]
        }
      ]
    },
    {
      "cell_type": "code",
      "metadata": {
        "id": "l9sXncXDmRGF",
        "colab": {
          "base_uri": "https://localhost:8080/"
        },
        "outputId": "b6ebb7e6-cfcc-43c1-9f62-ebb2f1d14841"
      },
      "source": [
        "#Sample 2 (Page 131):\n",
        "\n",
        "#Import required libraries:\n",
        "from statistics import mean,stdev\n",
        "from scipy import stats\n",
        "\n",
        "#Data:\n",
        "X = [50,60,100,20,10]\n",
        "\n",
        "#Print Stats:\n",
        "print(\"Mean =\",mean(X))\n",
        "print(\"Standard Deviation =\",stdev(X))\n",
        "print(\"Standard Error From Mean =\",stats.sem(X))"
      ],
      "execution_count": 45,
      "outputs": [
        {
          "output_type": "stream",
          "name": "stdout",
          "text": [
            "Mean = 48\n",
            "Standard Deviation = 35.63705936241092\n",
            "Standard Error From Mean = 15.937377450509226\n"
          ]
        }
      ]
    },
    {
      "cell_type": "code",
      "metadata": {
        "id": "Crj_sg-xmR35",
        "colab": {
          "base_uri": "https://localhost:8080/"
        },
        "outputId": "e6911fd2-4c59-4f81-908d-46b832a4bec9"
      },
      "source": [
        "#Sample 3 (Page 132):\n",
        "\n",
        "#Import required libraries:\n",
        "from statistics import mean,stdev\n",
        "from scipy import stats\n",
        "\n",
        "#Data:\n",
        "X = [20,30,50,80,10]\n",
        "\n",
        "#Print Stats:\n",
        "print(\"Mean =\",mean(X))\n",
        "print(\"Standard Deviation =\",stdev(X))\n",
        "print(\"Standard Error From Mean =\",stats.sem(X))"
      ],
      "execution_count": 46,
      "outputs": [
        {
          "output_type": "stream",
          "name": "stdout",
          "text": [
            "Mean = 38\n",
            "Standard Deviation = 27.748873851023216\n",
            "Standard Error From Mean = 12.409673645990855\n"
          ]
        }
      ]
    },
    {
      "cell_type": "code",
      "metadata": {
        "id": "k1wEKC6VmTh3",
        "colab": {
          "base_uri": "https://localhost:8080/"
        },
        "outputId": "cc95b630-1f72-4a08-e78d-688c4c03cebb"
      },
      "source": [
        "#Confidence level = 68.3% (Page 135):\n",
        "\n",
        "#Import required libraries:\n",
        "from scipy import stats\n",
        "from statistics import mean\n",
        "\n",
        "#Data:\n",
        "X = [38,40,48]\n",
        "confidence_level = 0.683\n",
        "degree_free = len(X)-1\n",
        "sample_mean = mean(X)\n",
        "SEM = stats.sem(X)\n",
        "confidence_interval = stats.t.interval(confidence_level, degree_free, sample_mean, SEM)\n",
        "\n",
        "#Print the data:\n",
        "print(\"Confidence Interval =\",confidence_interval)                                                        "
      ],
      "execution_count": 47,
      "outputs": [
        {
          "output_type": "stream",
          "name": "stdout",
          "text": [
            "Confidence Interval = (37.959990366215784, 46.040009633784216)\n"
          ]
        }
      ]
    },
    {
      "cell_type": "code",
      "metadata": {
        "id": "l_JdzsBomSnh",
        "colab": {
          "base_uri": "https://localhost:8080/"
        },
        "outputId": "ac096985-1c7a-4b16-f2af-e3fc97fc2702"
      },
      "source": [
        "#Confidence level = 95% (Page 136):\n",
        "\n",
        "#Import required libraries:\n",
        "from scipy import stats\n",
        "from statistics import mean\n",
        "\n",
        "#Data:\n",
        "X = [38,40,48]\n",
        "confidence_level = 0.95\n",
        "degree_free = len(X)-1\n",
        "sample_mean = mean(X)\n",
        "SEM = stats.sem(X)\n",
        "confidence_interval = stats.t.interval(confidence_level, degree_free, sample_mean, SEM)\n",
        "\n",
        "#Print the data:\n",
        "print(\"Confidence Interval =\",confidence_interval)                                                        "
      ],
      "execution_count": 48,
      "outputs": [
        {
          "output_type": "stream",
          "name": "stdout",
          "text": [
            "Confidence Interval = (28.855178784048796, 55.144821215951204)\n"
          ]
        }
      ]
    }
  ]
}