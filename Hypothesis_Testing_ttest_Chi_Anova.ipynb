{
  "nbformat": 4,
  "nbformat_minor": 0,
  "metadata": {
    "kernelspec": {
      "display_name": "Python 3",
      "language": "python",
      "name": "python3"
    },
    "colab": {
      "name": "Hypothesis_Testing.ipynb",
      "provenance": [],
      "collapsed_sections": [
        "upZ8sr35Z8wZ",
        "XdR2H2CHZ8wa"
      ]
    }
  },
  "cells": [
    {
      "cell_type": "markdown",
      "metadata": {
        "id": "daiTF4CbZ8wC"
      },
      "source": [
        "## T Test\n",
        "\n",
        "A t-test is a type of inferential statistic which is used to determine if there is a significant difference between the means of two groups which may be related in certain features\n",
        "\n",
        "T-test has 2 types : 1. one sampled t-test 2. two-sampled t-test."
      ]
    },
    {
      "cell_type": "markdown",
      "metadata": {
        "id": "3XMSsCY0Z8wD"
      },
      "source": [
        "##  One-sample T-test with Python\n",
        "\n",
        "The test will tell us whether means of the sample and the population are different\n",
        "\n"
      ]
    },
    {
      "cell_type": "code",
      "metadata": {
        "id": "wJsuT5PdZ8wE"
      },
      "source": [
        "ages=[10,20,35,50,28,40,55,18,16,55,30,25,43,18,30,28,14,24,16,17,32,35,26,27,65,18,43,23,21,20,19,70]"
      ],
      "execution_count": 7,
      "outputs": []
    },
    {
      "cell_type": "code",
      "metadata": {
        "id": "a_6GAdoAZ8wE",
        "colab": {
          "base_uri": "https://localhost:8080/"
        },
        "outputId": "e94cc183-b56a-4f4b-c016-0fe63c025efa"
      },
      "source": [
        "len(ages)"
      ],
      "execution_count": 8,
      "outputs": [
        {
          "output_type": "execute_result",
          "data": {
            "text/plain": [
              "32"
            ]
          },
          "metadata": {
            "tags": []
          },
          "execution_count": 8
        }
      ]
    },
    {
      "cell_type": "code",
      "metadata": {
        "id": "Uh2paiPMZ8wF",
        "colab": {
          "base_uri": "https://localhost:8080/"
        },
        "outputId": "7a994ba3-8040-42ef-e30f-d198387ae16a"
      },
      "source": [
        "import numpy as np\n",
        "ages_mean=np.mean(ages)\n",
        "print(ages_mean)"
      ],
      "execution_count": 9,
      "outputs": [
        {
          "output_type": "stream",
          "text": [
            "30.34375\n"
          ],
          "name": "stdout"
        }
      ]
    },
    {
      "cell_type": "code",
      "metadata": {
        "id": "qhx5xRxgZ8wF"
      },
      "source": [
        "## Lets take sample\n",
        "\n",
        "sample_size=10\n",
        "age_sample=np.random.choice(ages,sample_size)"
      ],
      "execution_count": 10,
      "outputs": []
    },
    {
      "cell_type": "code",
      "metadata": {
        "id": "x-mPN91FZ8wG",
        "colab": {
          "base_uri": "https://localhost:8080/"
        },
        "outputId": "50607e14-b848-4736-a80d-8ad10726518d"
      },
      "source": [
        "age_sample, np.mean(age_sample)"
      ],
      "execution_count": 17,
      "outputs": [
        {
          "output_type": "execute_result",
          "data": {
            "text/plain": [
              "(array([43, 50, 43, 35, 24, 28, 35, 24, 25, 10]), 31.7)"
            ]
          },
          "metadata": {
            "tags": []
          },
          "execution_count": 17
        }
      ]
    },
    {
      "cell_type": "code",
      "metadata": {
        "id": "f8lJEGFrZ8wH"
      },
      "source": [
        "from scipy.stats import ttest_1samp"
      ],
      "execution_count": 12,
      "outputs": []
    },
    {
      "cell_type": "code",
      "metadata": {
        "id": "vyzMEbW-Z8wH"
      },
      "source": [
        "ttest,p_value=ttest_1samp(age_sample,30)"
      ],
      "execution_count": 13,
      "outputs": []
    },
    {
      "cell_type": "code",
      "metadata": {
        "colab": {
          "base_uri": "https://localhost:8080/"
        },
        "id": "SiYmOn0GhxKa",
        "outputId": "8d61b89c-88f4-4edc-bff9-c36e1033db17"
      },
      "source": [
        "ttest"
      ],
      "execution_count": 14,
      "outputs": [
        {
          "output_type": "execute_result",
          "data": {
            "text/plain": [
              "0.4543260827960123"
            ]
          },
          "metadata": {
            "tags": []
          },
          "execution_count": 14
        }
      ]
    },
    {
      "cell_type": "code",
      "metadata": {
        "id": "LGamImRrZ8wI",
        "colab": {
          "base_uri": "https://localhost:8080/"
        },
        "outputId": "19bf9929-890e-411d-95bf-28756273e5db"
      },
      "source": [
        "print(p_value)"
      ],
      "execution_count": 15,
      "outputs": [
        {
          "output_type": "stream",
          "text": [
            "0.6603529102274395\n"
          ],
          "name": "stdout"
        }
      ]
    },
    {
      "cell_type": "code",
      "metadata": {
        "id": "41G8o1ykZ8wI",
        "colab": {
          "base_uri": "https://localhost:8080/"
        },
        "outputId": "77c0e867-e982-4cea-da5e-1accfa5b257f"
      },
      "source": [
        "if p_value < 0.05:    # alpha value is 0.05 or 5%\n",
        "    print(\" we are rejecting null hypothesis\")\n",
        "else:\n",
        "    print(\"we are accepting null hypothesis\")"
      ],
      "execution_count": 16,
      "outputs": [
        {
          "output_type": "stream",
          "text": [
            "we are accepting null hypothesis\n"
          ],
          "name": "stdout"
        }
      ]
    },
    {
      "cell_type": "markdown",
      "metadata": {
        "id": "x8WJws16Z8wI"
      },
      "source": [
        "## Some More Examples\n",
        "Consider the age of students in a college and in Class A"
      ]
    },
    {
      "cell_type": "code",
      "metadata": {
        "id": "_hAOABesZ8wK"
      },
      "source": [
        "import numpy as np\n",
        "import pandas as pd\n",
        "import scipy.stats as stats\n",
        "import math\n",
        "np.random.seed(6)\n",
        "school_ages=stats.poisson.rvs(loc=18,mu=35,size=1500)\n",
        "classA_ages=stats.poisson.rvs(loc=18,mu=30,size=60)"
      ],
      "execution_count": 26,
      "outputs": []
    },
    {
      "cell_type": "code",
      "metadata": {
        "colab": {
          "base_uri": "https://localhost:8080/"
        },
        "id": "ppWITukpi1WI",
        "outputId": "a5f8e9b0-7704-4ab4-8f12-9bb4bd323d17"
      },
      "source": [
        "school_ages"
      ],
      "execution_count": 27,
      "outputs": [
        {
          "output_type": "execute_result",
          "data": {
            "text/plain": [
              "array([62, 59, 44, ..., 45, 52, 50])"
            ]
          },
          "metadata": {
            "tags": []
          },
          "execution_count": 27
        }
      ]
    },
    {
      "cell_type": "code",
      "metadata": {
        "colab": {
          "base_uri": "https://localhost:8080/"
        },
        "id": "Arrffxbhjqhm",
        "outputId": "ab92c1c6-a1d1-4b4b-9737-e1bc781fb703"
      },
      "source": [
        "school_ages.mean()"
      ],
      "execution_count": 30,
      "outputs": [
        {
          "output_type": "execute_result",
          "data": {
            "text/plain": [
              "53.303333333333335"
            ]
          },
          "metadata": {
            "tags": []
          },
          "execution_count": 30
        }
      ]
    },
    {
      "cell_type": "code",
      "metadata": {
        "colab": {
          "base_uri": "https://localhost:8080/"
        },
        "id": "yPkvMFAxi3FL",
        "outputId": "c7d26351-f4ee-4f3a-9f67-b880889bbd94"
      },
      "source": [
        "classA_ages"
      ],
      "execution_count": 28,
      "outputs": [
        {
          "output_type": "execute_result",
          "data": {
            "text/plain": [
              "array([52, 46, 40, 40, 47, 50, 51, 45, 44, 52, 46, 53, 43, 44, 51, 50, 54,\n",
              "       42, 54, 45, 61, 53, 49, 46, 47, 41, 45, 51, 43, 45, 48, 50, 40, 52,\n",
              "       44, 55, 54, 40, 45, 46, 54, 42, 46, 35, 51, 51, 46, 48, 47, 35, 52,\n",
              "       52, 39, 44, 48, 40, 42, 46, 47, 45])"
            ]
          },
          "metadata": {
            "tags": []
          },
          "execution_count": 28
        }
      ]
    },
    {
      "cell_type": "code",
      "metadata": {
        "id": "ed_5acqMZ8wK",
        "colab": {
          "base_uri": "https://localhost:8080/"
        },
        "outputId": "ca08d8d0-6ff8-407f-fba6-b9456c50a026"
      },
      "source": [
        "classA_ages.mean()"
      ],
      "execution_count": 29,
      "outputs": [
        {
          "output_type": "execute_result",
          "data": {
            "text/plain": [
              "46.9"
            ]
          },
          "metadata": {
            "tags": []
          },
          "execution_count": 29
        }
      ]
    },
    {
      "cell_type": "code",
      "metadata": {
        "id": "LxfJ_jzpZ8wM"
      },
      "source": [
        "_,p_value=stats.ttest_1samp(a=classA_ages,popmean=school_ages.mean())"
      ],
      "execution_count": 31,
      "outputs": []
    },
    {
      "cell_type": "code",
      "metadata": {
        "id": "9C19XuhsZ8wM",
        "colab": {
          "base_uri": "https://localhost:8080/"
        },
        "outputId": "5b0c72e8-54dc-4411-9166-facdf5890ba7"
      },
      "source": [
        "p_value"
      ],
      "execution_count": 32,
      "outputs": [
        {
          "output_type": "execute_result",
          "data": {
            "text/plain": [
              "1.139027071016194e-13"
            ]
          },
          "metadata": {
            "tags": []
          },
          "execution_count": 32
        }
      ]
    },
    {
      "cell_type": "code",
      "metadata": {
        "id": "NCVzPiKhZ8wN",
        "colab": {
          "base_uri": "https://localhost:8080/"
        },
        "outputId": "b2599753-afd9-4e7a-e3b8-567b37419575"
      },
      "source": [
        "school_ages.mean()"
      ],
      "execution_count": 33,
      "outputs": [
        {
          "output_type": "execute_result",
          "data": {
            "text/plain": [
              "53.303333333333335"
            ]
          },
          "metadata": {
            "tags": []
          },
          "execution_count": 33
        }
      ]
    },
    {
      "cell_type": "code",
      "metadata": {
        "id": "GcPon11dZ8wO",
        "colab": {
          "base_uri": "https://localhost:8080/"
        },
        "outputId": "e138ee4b-648d-46f7-f5b9-cd2048ebf179"
      },
      "source": [
        "if p_value < 0.05:    # alpha value is 0.05 or 5%\n",
        "    print(\" we are rejecting null hypothesis\")\n",
        "else:\n",
        "    print(\"we are accepting null hypothesis\")"
      ],
      "execution_count": 34,
      "outputs": [
        {
          "output_type": "stream",
          "text": [
            " we are rejecting null hypothesis\n"
          ],
          "name": "stdout"
        }
      ]
    },
    {
      "cell_type": "markdown",
      "metadata": {
        "id": "PQRO4uVKZ8wO"
      },
      "source": [
        "## Two-sample T-test With Python\n",
        "The Independent Samples t Test or 2-sample t-test compares the means of two independent groups in order to determine whether there is statistical evidence that the associated population means are significantly different. The Independent Samples t Test is a parametric test. This test is also known as: Independent t Test\n",
        "\n",
        "![image.png](attachment:image.png)"
      ]
    },
    {
      "cell_type": "code",
      "metadata": {
        "id": "N29wQE6EZ8wP",
        "colab": {
          "base_uri": "https://localhost:8080/"
        },
        "outputId": "4bf66ee1-e1ff-4f46-e6db-ab088dde3751"
      },
      "source": [
        "np.random.seed(12)\n",
        "ClassB_ages=stats.poisson.rvs(loc=18,mu=33,size=60)\n",
        "ClassB_ages.mean()"
      ],
      "execution_count": 35,
      "outputs": [
        {
          "output_type": "execute_result",
          "data": {
            "text/plain": [
              "50.63333333333333"
            ]
          },
          "metadata": {
            "tags": []
          },
          "execution_count": 35
        }
      ]
    },
    {
      "cell_type": "code",
      "metadata": {
        "id": "BUPscjdvZ8wP"
      },
      "source": [
        "_,p_value=stats.ttest_ind(a=classA_ages,b=ClassB_ages,equal_var=False)"
      ],
      "execution_count": 36,
      "outputs": []
    },
    {
      "cell_type": "code",
      "metadata": {
        "colab": {
          "base_uri": "https://localhost:8080/"
        },
        "id": "7SNJoJKmkd1j",
        "outputId": "7a6c41f9-4b2c-400e-ac99-150cd7717004"
      },
      "source": [
        "p_value"
      ],
      "execution_count": 39,
      "outputs": [
        {
          "output_type": "execute_result",
          "data": {
            "text/plain": [
              "0.00039942095100859375"
            ]
          },
          "metadata": {
            "tags": []
          },
          "execution_count": 39
        }
      ]
    },
    {
      "cell_type": "code",
      "metadata": {
        "id": "4KtDaNV7Z8wQ",
        "colab": {
          "base_uri": "https://localhost:8080/"
        },
        "outputId": "173be9bc-72d4-4e04-cdb7-d897785100c4"
      },
      "source": [
        "if p_value < 0.05:    # alpha value is 0.05 or 5%\n",
        "    print(\" we are rejecting null hypothesis\")\n",
        "else:\n",
        "    print(\"we are accepting null hypothesis\")"
      ],
      "execution_count": 37,
      "outputs": [
        {
          "output_type": "stream",
          "text": [
            " we are rejecting null hypothesis\n"
          ],
          "name": "stdout"
        }
      ]
    },
    {
      "cell_type": "markdown",
      "metadata": {
        "id": "2PGk2WvlZ8wQ"
      },
      "source": [
        "## Paired T-test With Python\n",
        "When you want to check how different samples from the same group are, you can go for a paired T-test"
      ]
    },
    {
      "cell_type": "code",
      "metadata": {
        "id": "bUI1IOgPZ8wR"
      },
      "source": [
        "weight1=[25,30,28,35,28,34,26,29,30,26,28,32,31,30,45]\n",
        "weight2=weight1+stats.norm.rvs(scale=5,loc=-1.25,size=15)"
      ],
      "execution_count": 40,
      "outputs": []
    },
    {
      "cell_type": "code",
      "metadata": {
        "id": "7-kkqr6IZ8wR",
        "colab": {
          "base_uri": "https://localhost:8080/"
        },
        "outputId": "a33b2cf4-bf78-43b5-b7dd-d2b7c8b0f060"
      },
      "source": [
        "print(weight1)\n",
        "print(weight2)"
      ],
      "execution_count": 41,
      "outputs": [
        {
          "output_type": "stream",
          "text": [
            "[25, 30, 28, 35, 28, 34, 26, 29, 30, 26, 28, 32, 31, 30, 45]\n",
            "[30.57926457 34.91022437 29.00444617 30.54295091 19.86201983 37.57873174\n",
            " 18.3299827  21.3771395  36.36420881 32.05941216 26.93827982 29.519014\n",
            " 26.42851213 30.50667769 41.32984284]\n"
          ],
          "name": "stdout"
        }
      ]
    },
    {
      "cell_type": "code",
      "metadata": {
        "id": "kWiaoA-JZ8wU"
      },
      "source": [
        "weight_df=pd.DataFrame({\"weight_10\":np.array(weight1),\n",
        "                         \"weight_20\":np.array(weight2),\n",
        "                       \"weight_change\":np.array(weight2)-np.array(weight1)})"
      ],
      "execution_count": 42,
      "outputs": []
    },
    {
      "cell_type": "code",
      "metadata": {
        "id": "O7niZ273Z8wV",
        "colab": {
          "base_uri": "https://localhost:8080/",
          "height": 514
        },
        "outputId": "7114b44c-ba80-49e0-e403-a3e1e5a32c53"
      },
      "source": [
        "weight_df"
      ],
      "execution_count": 43,
      "outputs": [
        {
          "output_type": "execute_result",
          "data": {
            "text/html": [
              "<div>\n",
              "<style scoped>\n",
              "    .dataframe tbody tr th:only-of-type {\n",
              "        vertical-align: middle;\n",
              "    }\n",
              "\n",
              "    .dataframe tbody tr th {\n",
              "        vertical-align: top;\n",
              "    }\n",
              "\n",
              "    .dataframe thead th {\n",
              "        text-align: right;\n",
              "    }\n",
              "</style>\n",
              "<table border=\"1\" class=\"dataframe\">\n",
              "  <thead>\n",
              "    <tr style=\"text-align: right;\">\n",
              "      <th></th>\n",
              "      <th>weight_10</th>\n",
              "      <th>weight_20</th>\n",
              "      <th>weight_change</th>\n",
              "    </tr>\n",
              "  </thead>\n",
              "  <tbody>\n",
              "    <tr>\n",
              "      <th>0</th>\n",
              "      <td>25</td>\n",
              "      <td>30.579265</td>\n",
              "      <td>5.579265</td>\n",
              "    </tr>\n",
              "    <tr>\n",
              "      <th>1</th>\n",
              "      <td>30</td>\n",
              "      <td>34.910224</td>\n",
              "      <td>4.910224</td>\n",
              "    </tr>\n",
              "    <tr>\n",
              "      <th>2</th>\n",
              "      <td>28</td>\n",
              "      <td>29.004446</td>\n",
              "      <td>1.004446</td>\n",
              "    </tr>\n",
              "    <tr>\n",
              "      <th>3</th>\n",
              "      <td>35</td>\n",
              "      <td>30.542951</td>\n",
              "      <td>-4.457049</td>\n",
              "    </tr>\n",
              "    <tr>\n",
              "      <th>4</th>\n",
              "      <td>28</td>\n",
              "      <td>19.862020</td>\n",
              "      <td>-8.137980</td>\n",
              "    </tr>\n",
              "    <tr>\n",
              "      <th>5</th>\n",
              "      <td>34</td>\n",
              "      <td>37.578732</td>\n",
              "      <td>3.578732</td>\n",
              "    </tr>\n",
              "    <tr>\n",
              "      <th>6</th>\n",
              "      <td>26</td>\n",
              "      <td>18.329983</td>\n",
              "      <td>-7.670017</td>\n",
              "    </tr>\n",
              "    <tr>\n",
              "      <th>7</th>\n",
              "      <td>29</td>\n",
              "      <td>21.377139</td>\n",
              "      <td>-7.622861</td>\n",
              "    </tr>\n",
              "    <tr>\n",
              "      <th>8</th>\n",
              "      <td>30</td>\n",
              "      <td>36.364209</td>\n",
              "      <td>6.364209</td>\n",
              "    </tr>\n",
              "    <tr>\n",
              "      <th>9</th>\n",
              "      <td>26</td>\n",
              "      <td>32.059412</td>\n",
              "      <td>6.059412</td>\n",
              "    </tr>\n",
              "    <tr>\n",
              "      <th>10</th>\n",
              "      <td>28</td>\n",
              "      <td>26.938280</td>\n",
              "      <td>-1.061720</td>\n",
              "    </tr>\n",
              "    <tr>\n",
              "      <th>11</th>\n",
              "      <td>32</td>\n",
              "      <td>29.519014</td>\n",
              "      <td>-2.480986</td>\n",
              "    </tr>\n",
              "    <tr>\n",
              "      <th>12</th>\n",
              "      <td>31</td>\n",
              "      <td>26.428512</td>\n",
              "      <td>-4.571488</td>\n",
              "    </tr>\n",
              "    <tr>\n",
              "      <th>13</th>\n",
              "      <td>30</td>\n",
              "      <td>30.506678</td>\n",
              "      <td>0.506678</td>\n",
              "    </tr>\n",
              "    <tr>\n",
              "      <th>14</th>\n",
              "      <td>45</td>\n",
              "      <td>41.329843</td>\n",
              "      <td>-3.670157</td>\n",
              "    </tr>\n",
              "  </tbody>\n",
              "</table>\n",
              "</div>"
            ],
            "text/plain": [
              "    weight_10  weight_20  weight_change\n",
              "0          25  30.579265       5.579265\n",
              "1          30  34.910224       4.910224\n",
              "2          28  29.004446       1.004446\n",
              "3          35  30.542951      -4.457049\n",
              "4          28  19.862020      -8.137980\n",
              "5          34  37.578732       3.578732\n",
              "6          26  18.329983      -7.670017\n",
              "7          29  21.377139      -7.622861\n",
              "8          30  36.364209       6.364209\n",
              "9          26  32.059412       6.059412\n",
              "10         28  26.938280      -1.061720\n",
              "11         32  29.519014      -2.480986\n",
              "12         31  26.428512      -4.571488\n",
              "13         30  30.506678       0.506678\n",
              "14         45  41.329843      -3.670157"
            ]
          },
          "metadata": {
            "tags": []
          },
          "execution_count": 43
        }
      ]
    },
    {
      "cell_type": "code",
      "metadata": {
        "id": "25HOx35jZ8wW"
      },
      "source": [
        "_,p_value=stats.ttest_rel(a=weight1,b=weight2)"
      ],
      "execution_count": 44,
      "outputs": []
    },
    {
      "cell_type": "code",
      "metadata": {
        "id": "oR4ZjGWkZ8wW",
        "colab": {
          "base_uri": "https://localhost:8080/"
        },
        "outputId": "fdce3f9b-7087-4b12-957c-58300a0724e4"
      },
      "source": [
        "print(p_value)"
      ],
      "execution_count": 45,
      "outputs": [
        {
          "output_type": "stream",
          "text": [
            "0.5732936534411279\n"
          ],
          "name": "stdout"
        }
      ]
    },
    {
      "cell_type": "code",
      "metadata": {
        "id": "Z_k6c61VZ8wW",
        "colab": {
          "base_uri": "https://localhost:8080/"
        },
        "outputId": "47bf5315-6488-4660-e69a-a091e4448461"
      },
      "source": [
        "if p_value < 0.05:    # alpha value is 0.05 or 5%\n",
        "    print(\" we are rejecting null hypothesis\")\n",
        "else:\n",
        "    print(\"we are accepting null hypothesis\")"
      ],
      "execution_count": 46,
      "outputs": [
        {
          "output_type": "stream",
          "text": [
            "we are accepting null hypothesis\n"
          ],
          "name": "stdout"
        }
      ]
    },
    {
      "cell_type": "markdown",
      "metadata": {
        "id": "w6uaY7ROZ8wX"
      },
      "source": [
        "## Correlation"
      ]
    },
    {
      "cell_type": "code",
      "metadata": {
        "id": "L9pvFq1dZ8wX"
      },
      "source": [
        "import seaborn as sns\n",
        "df=sns.load_dataset('iris')"
      ],
      "execution_count": 47,
      "outputs": []
    },
    {
      "cell_type": "code",
      "metadata": {
        "id": "qDCPQ-5aZ8wY",
        "colab": {
          "base_uri": "https://localhost:8080/"
        },
        "outputId": "426c1362-3a86-46dc-c02e-6af0670a8aae"
      },
      "source": [
        "df.shape"
      ],
      "execution_count": 48,
      "outputs": [
        {
          "output_type": "execute_result",
          "data": {
            "text/plain": [
              "(150, 5)"
            ]
          },
          "metadata": {
            "tags": []
          },
          "execution_count": 48
        }
      ]
    },
    {
      "cell_type": "code",
      "metadata": {
        "id": "QGGUqinVZ8wY",
        "colab": {
          "base_uri": "https://localhost:8080/",
          "height": 173
        },
        "outputId": "0efaf6db-1c94-4444-ce4a-e2dc1fed75a7"
      },
      "source": [
        "df.corr()"
      ],
      "execution_count": 49,
      "outputs": [
        {
          "output_type": "execute_result",
          "data": {
            "text/html": [
              "<div>\n",
              "<style scoped>\n",
              "    .dataframe tbody tr th:only-of-type {\n",
              "        vertical-align: middle;\n",
              "    }\n",
              "\n",
              "    .dataframe tbody tr th {\n",
              "        vertical-align: top;\n",
              "    }\n",
              "\n",
              "    .dataframe thead th {\n",
              "        text-align: right;\n",
              "    }\n",
              "</style>\n",
              "<table border=\"1\" class=\"dataframe\">\n",
              "  <thead>\n",
              "    <tr style=\"text-align: right;\">\n",
              "      <th></th>\n",
              "      <th>sepal_length</th>\n",
              "      <th>sepal_width</th>\n",
              "      <th>petal_length</th>\n",
              "      <th>petal_width</th>\n",
              "    </tr>\n",
              "  </thead>\n",
              "  <tbody>\n",
              "    <tr>\n",
              "      <th>sepal_length</th>\n",
              "      <td>1.000000</td>\n",
              "      <td>-0.117570</td>\n",
              "      <td>0.871754</td>\n",
              "      <td>0.817941</td>\n",
              "    </tr>\n",
              "    <tr>\n",
              "      <th>sepal_width</th>\n",
              "      <td>-0.117570</td>\n",
              "      <td>1.000000</td>\n",
              "      <td>-0.428440</td>\n",
              "      <td>-0.366126</td>\n",
              "    </tr>\n",
              "    <tr>\n",
              "      <th>petal_length</th>\n",
              "      <td>0.871754</td>\n",
              "      <td>-0.428440</td>\n",
              "      <td>1.000000</td>\n",
              "      <td>0.962865</td>\n",
              "    </tr>\n",
              "    <tr>\n",
              "      <th>petal_width</th>\n",
              "      <td>0.817941</td>\n",
              "      <td>-0.366126</td>\n",
              "      <td>0.962865</td>\n",
              "      <td>1.000000</td>\n",
              "    </tr>\n",
              "  </tbody>\n",
              "</table>\n",
              "</div>"
            ],
            "text/plain": [
              "              sepal_length  sepal_width  petal_length  petal_width\n",
              "sepal_length      1.000000    -0.117570      0.871754     0.817941\n",
              "sepal_width      -0.117570     1.000000     -0.428440    -0.366126\n",
              "petal_length      0.871754    -0.428440      1.000000     0.962865\n",
              "petal_width       0.817941    -0.366126      0.962865     1.000000"
            ]
          },
          "metadata": {
            "tags": []
          },
          "execution_count": 49
        }
      ]
    },
    {
      "cell_type": "code",
      "metadata": {
        "id": "-6RW2fhPZ8wZ",
        "colab": {
          "base_uri": "https://localhost:8080/",
          "height": 763
        },
        "outputId": "c23a5236-0eb3-4556-9d82-6dbf2a453b43"
      },
      "source": [
        "sns.pairplot(df)"
      ],
      "execution_count": 50,
      "outputs": [
        {
          "output_type": "execute_result",
          "data": {
            "text/plain": [
              "<seaborn.axisgrid.PairGrid at 0x7f4700974e48>"
            ]
          },
          "metadata": {
            "tags": []
          },
          "execution_count": 50
        },
        {
          "output_type": "display_data",
          "data": {
            "image/png": "[encoded data removed]",
            "text/plain": [
              "<Figure size 720x720 with 20 Axes>"
            ]
          },
          "metadata": {
            "tags": [],
            "needs_background": "light"
          }
        }
      ]
    },
    {
      "cell_type": "markdown",
      "metadata": {
        "id": "sAklfUFpZ8vw"
      },
      "source": [
        "## Chi-Square Test- \n",
        "\n",
        "The test is applied when you have two categorical variables from a single population. It is used to determine whether there is a significant association between the two variables."
      ]
    },
    {
      "cell_type": "code",
      "metadata": {
        "id": "dHjGTwQKZ8vy"
      },
      "source": [
        "import scipy.stats as stats"
      ],
      "execution_count": 1,
      "outputs": []
    },
    {
      "cell_type": "code",
      "metadata": {
        "id": "0X-cCjTZZ8v0"
      },
      "source": [
        "import seaborn as sns\n",
        "import pandas as pd\n",
        "import numpy as np\n",
        "dataset=sns.load_dataset('tips')"
      ],
      "execution_count": 2,
      "outputs": []
    },
    {
      "cell_type": "code",
      "metadata": {
        "id": "TdnZ8Sh1Z8v0",
        "colab": {
          "base_uri": "https://localhost:8080/",
          "height": 204
        },
        "outputId": "f3bb1f2b-e345-4f9a-f998-bff5b365e473"
      },
      "source": [
        "dataset.head()"
      ],
      "execution_count": 3,
      "outputs": [
        {
          "output_type": "execute_result",
          "data": {
            "text/html": [
              "<div>\n",
              "<style scoped>\n",
              "    .dataframe tbody tr th:only-of-type {\n",
              "        vertical-align: middle;\n",
              "    }\n",
              "\n",
              "    .dataframe tbody tr th {\n",
              "        vertical-align: top;\n",
              "    }\n",
              "\n",
              "    .dataframe thead th {\n",
              "        text-align: right;\n",
              "    }\n",
              "</style>\n",
              "<table border=\"1\" class=\"dataframe\">\n",
              "  <thead>\n",
              "    <tr style=\"text-align: right;\">\n",
              "      <th></th>\n",
              "      <th>total_bill</th>\n",
              "      <th>tip</th>\n",
              "      <th>sex</th>\n",
              "      <th>smoker</th>\n",
              "      <th>day</th>\n",
              "      <th>time</th>\n",
              "      <th>size</th>\n",
              "    </tr>\n",
              "  </thead>\n",
              "  <tbody>\n",
              "    <tr>\n",
              "      <th>0</th>\n",
              "      <td>16.99</td>\n",
              "      <td>1.01</td>\n",
              "      <td>Female</td>\n",
              "      <td>No</td>\n",
              "      <td>Sun</td>\n",
              "      <td>Dinner</td>\n",
              "      <td>2</td>\n",
              "    </tr>\n",
              "    <tr>\n",
              "      <th>1</th>\n",
              "      <td>10.34</td>\n",
              "      <td>1.66</td>\n",
              "      <td>Male</td>\n",
              "      <td>No</td>\n",
              "      <td>Sun</td>\n",
              "      <td>Dinner</td>\n",
              "      <td>3</td>\n",
              "    </tr>\n",
              "    <tr>\n",
              "      <th>2</th>\n",
              "      <td>21.01</td>\n",
              "      <td>3.50</td>\n",
              "      <td>Male</td>\n",
              "      <td>No</td>\n",
              "      <td>Sun</td>\n",
              "      <td>Dinner</td>\n",
              "      <td>3</td>\n",
              "    </tr>\n",
              "    <tr>\n",
              "      <th>3</th>\n",
              "      <td>23.68</td>\n",
              "      <td>3.31</td>\n",
              "      <td>Male</td>\n",
              "      <td>No</td>\n",
              "      <td>Sun</td>\n",
              "      <td>Dinner</td>\n",
              "      <td>2</td>\n",
              "    </tr>\n",
              "    <tr>\n",
              "      <th>4</th>\n",
              "      <td>24.59</td>\n",
              "      <td>3.61</td>\n",
              "      <td>Female</td>\n",
              "      <td>No</td>\n",
              "      <td>Sun</td>\n",
              "      <td>Dinner</td>\n",
              "      <td>4</td>\n",
              "    </tr>\n",
              "  </tbody>\n",
              "</table>\n",
              "</div>"
            ],
            "text/plain": [
              "   total_bill   tip     sex smoker  day    time  size\n",
              "0       16.99  1.01  Female     No  Sun  Dinner     2\n",
              "1       10.34  1.66    Male     No  Sun  Dinner     3\n",
              "2       21.01  3.50    Male     No  Sun  Dinner     3\n",
              "3       23.68  3.31    Male     No  Sun  Dinner     2\n",
              "4       24.59  3.61  Female     No  Sun  Dinner     4"
            ]
          },
          "metadata": {
            "tags": []
          },
          "execution_count": 3
        }
      ]
    },
    {
      "cell_type": "code",
      "metadata": {
        "id": "Ib6i_n6rZ8v3",
        "colab": {
          "base_uri": "https://localhost:8080/"
        },
        "outputId": "9a6f4f48-e3f3-4846-fbba-a216ad8e9d56"
      },
      "source": [
        "dataset_table=pd.crosstab(dataset['sex'],dataset['smoker'])\n",
        "print(dataset_table)"
      ],
      "execution_count": 4,
      "outputs": [
        {
          "output_type": "stream",
          "text": [
            "smoker  Yes  No\n",
            "sex            \n",
            "Male     60  97\n",
            "Female   33  54\n"
          ],
          "name": "stdout"
        }
      ]
    },
    {
      "cell_type": "code",
      "metadata": {
        "id": "EN_3C87LZ8v7",
        "colab": {
          "base_uri": "https://localhost:8080/"
        },
        "outputId": "47600f87-3ae8-42b5-d8bc-7ecf72bafbc5"
      },
      "source": [
        "dataset_table.values "
      ],
      "execution_count": 5,
      "outputs": [
        {
          "output_type": "execute_result",
          "data": {
            "text/plain": [
              "array([[60, 97],\n",
              "       [33, 54]])"
            ]
          },
          "metadata": {
            "tags": []
          },
          "execution_count": 5
        }
      ]
    },
    {
      "cell_type": "code",
      "metadata": {
        "id": "NCP4ALmMZ8v7",
        "colab": {
          "base_uri": "https://localhost:8080/"
        },
        "outputId": "1e2cdfc0-eda9-4278-ae16-a80b8d9f4dd8"
      },
      "source": [
        "#Observed Values\n",
        "Observed_Values = dataset_table.values \n",
        "print(\"Observed Values :-\\n\",Observed_Values)"
      ],
      "execution_count": 6,
      "outputs": [
        {
          "output_type": "stream",
          "text": [
            "Observed Values :-\n",
            " [[60 97]\n",
            " [33 54]]\n"
          ],
          "name": "stdout"
        }
      ]
    },
    {
      "cell_type": "code",
      "metadata": {
        "id": "4UOJAcVpZ8v8"
      },
      "source": [
        "val=stats.chi2_contingency(dataset_table)"
      ],
      "execution_count": 7,
      "outputs": []
    },
    {
      "cell_type": "code",
      "metadata": {
        "id": "1pZIxEK9Z8v9",
        "colab": {
          "base_uri": "https://localhost:8080/"
        },
        "outputId": "00ba4a48-ce23-4d94-d206-1433da03a465"
      },
      "source": [
        "val"
      ],
      "execution_count": 8,
      "outputs": [
        {
          "output_type": "execute_result",
          "data": {
            "text/plain": [
              "(0.008763290531773594, 0.925417020494423, 1, array([[59.84016393, 97.15983607],\n",
              "        [33.15983607, 53.84016393]]))"
            ]
          },
          "metadata": {
            "tags": []
          },
          "execution_count": 8
        }
      ]
    },
    {
      "cell_type": "code",
      "metadata": {
        "id": "nf8s999DZ8v-",
        "colab": {
          "base_uri": "https://localhost:8080/"
        },
        "outputId": "59f5b1a8-1f8b-4007-8510-7c9168f10fca"
      },
      "source": [
        "Expected_Values=val[3]\r\n",
        "Expected_Values"
      ],
      "execution_count": 9,
      "outputs": [
        {
          "output_type": "execute_result",
          "data": {
            "text/plain": [
              "array([[59.84016393, 97.15983607],\n",
              "       [33.15983607, 53.84016393]])"
            ]
          },
          "metadata": {
            "tags": []
          },
          "execution_count": 9
        }
      ]
    },
    {
      "cell_type": "code",
      "metadata": {
        "id": "iGMSJRFnZ8v-",
        "colab": {
          "base_uri": "https://localhost:8080/"
        },
        "outputId": "f2bac1b0-94f3-433b-b9cf-bcdd6b3cc6be"
      },
      "source": [
        "no_of_rows=len(dataset_table.iloc[0:2,0])\n",
        "no_of_columns=len(dataset_table.iloc[0,0:2])\n",
        "ddof=(no_of_rows-1)*(no_of_columns-1)\n",
        "print(\"Degree of Freedom:-\",ddof)\n",
        "alpha = 0.05"
      ],
      "execution_count": 10,
      "outputs": [
        {
          "output_type": "stream",
          "text": [
            "Degree of Freedom:- 1\n"
          ],
          "name": "stdout"
        }
      ]
    },
    {
      "cell_type": "markdown",
      "metadata": {
        "id": "rBea9vtYH_Fm"
      },
      "source": [
        "![Chi_squre.png](data:image/png;base64,iVBORw0KGgoAAAANSUhEUgAAANkAAACECAYAAAAdro5fAAATo0lEQVR4Ae1a/2ob17bOK/QZ+gp9hz6B6GXAMAQEbUzBFI4pNoWagDglIkQUjgMVpSRQ54/6QEwaHKgCuSoH9xJ0W3wgKNdVeo1KkK8vupgJ4QyG7/LNzIq3x6MfI83Ys0drg5jRaGbttb+1vrXWXqNr0KEIKAK5InAtV+kqXBFQBKAkUydQBHJGQEmWM8AqXhFQkqkPKAI5I6AkyxlgFa8IKMnUBxSBnBFQkuUMsIpXBJRk6gOKQM4IKMlyBljFKwJKMvUBRSBnBJRkOQOs4hUBJZn6gCKQMwJKspwBVvGKgJJMfUARyBkBJVnOAKt4RUBJpj6gCOSMgJIsZ4CzFP/777/jq6++yuyztraGDz/88N2H33Vkj4CSLHtMc5N4fHyM9957D9euXcvt0263c9PfNsHE++7du/jggw/e4f3RRx/h119/TbUUJVkquK7+5q2trXcGF7IxA82a4fjs+++//06mkiy0MQlGXEgyDiEcMWegSzOUZGnQKsi9ZmSl0ect8+hAQtiCLPHK1WDQIibxwfKa19MEo4tS4lL1e+EQoIGFFHLkfm2eIc4zj4wyPfvjjz8GGYuVgzmIk2YyE5ESn3/yySfniMa9wjxDSTYZPQYyBjUpISc/Ed5R+EzGqE2HMvcNLJcYaRZ50ODxJkiaEiaOHUnGzyyDjQCSfN6ydZa5Z3mGJOFa0+DFkpp+R19MOwpLMi5KDE9CERAezf1IPJWnXbzt98u+QUpGYjPrEKzTPk8dSHbbbEF/YuCehjRCsLQZTLAsLMlodDoPFxgfQrS0tXFcju3fiY2Z4YnXrM5OvNOWnMxctEHalnZRcBfyjCMa10Z/S5P14usrLMkkOieRjBFFfo8vaNG+k1SCBY8kXRJmWeNCp+N8s5I6a31mlUcScR1JWYpZmoGHv/Fcsj2PaUhXWJIxSnLxXFx8iGPRoXQgMD6xkk8SZlnjREcrC/7MZMzIZnAiuQTPpOO47BfHurAkiytqfucCufDLcCZz3qKeS1YRZ4g7TNZ6j4v+SXOxScPASHsxK8z7uiFpjqRr3MNzTn7GNcr4G7FLymZJctNes45k0kbN25HSAnnV90vgEaKlibRpdZcqY5qSiQ5OnZj5eM4jv+dZZlI2/UPmlD38uO6n6JgWi2nut4pkslElILZutqcxyiz3JLX088oYQpRJegrx44QSp89DPwkAJLQM+g19hsQbNUSnUb/Pcz0VyQgKAeNCCLREilkVkMhGOUzVZk2cJHOU0ZLuXcRrkjXoULlG5gkOS+xFl6SOpfzGY5ZDyr74nPRb4kEijRoSOPIg/lQkIxjxVrEYksdZwBKgRQ6jzKgFknwEgfdoBhvlJuGfWImRYMrjNCXdaInJv1Au7TFq0F6iR5K9xPZxv+H3NJ/42sRHTT/iuWSpcfsyIVlc5qg1prk+FcmkhSkAyGLEmAR0UhYylTKNQBnjyMN7CRI/JnimPD0/Q4CVhtiFx3HR++ypdGeUO45kklFGdR/FoeMkM/We5tx8nuTgM/QlXmfVI+TicRzBuHrR6cpIlmSCeIszTWdGyj4BMl6zy3xcMEGLb1h5nR8lnSB1/ijONQnf809N/41yx5GMTs57aOekIUE67vh8Ls3HJITMSb1ERhofKSTJ6OBiRB5HRa04yNL+lWfjBJL7BTT+LntAecY88j4d5xGgc5kYTWub81JGfxPZo+4Q2yXZRnRj8ExT/YyaS66Pm1PuGXcUkuURuKcqF0cpN21GMp+XxdBQPE8a8ZJHjJp0HEXSJLnjrsWjf9Jcs14btc5x+sz7m4kz9U5y+FnnENmjnh/n8PJslvpQj3Fz8vdJ5BH7j1rTPNfnIlk8m01yJqnVafSsI9k8IPDZWQk07XPz6pf2+bhtssSbgY3rNss1Uz/JVnRcc0jwjF8375n1XGTHfZA4cL74dXMeZlSuZ9w95v1pz+ciGSeLZ7NRwPNeqcXHGSjtArK6XyLZtKRJc19expu0diGD6JpV9hASjasiZG6unfPySD14Pcsy0cRAfJH9As7J7/S5SeuW4J+mr2DOO+l8bpIJ4GJILixpcAFyz6RFJz2v19IjQGdmBhPc4++P0ks8e4LOO2mvx/03bc0PM82kku1M+uxnJIzMyfNpCE1cssz0ce3nJhkFSpQSY8bBNI2dR6kQX5R+P0NAojttk/TO6uzOdGcSXPOK/um0mf1uWUeegT8Tkkk9LCSLlxFSOjBaZGno2aFdjCcZ7CST5eFEtKvNNmXwZzbOMsMneVYmJKNgKiskM1Ov2bK3PeolAVjka1Jh0DbTlE2zrIXkpb1tsy0zGPVmps8LG8EzM5LFs5mALobmUcflISCbeQY+OlSeg/KZDeIVTJ5zziObvkl/zBsX0TEzkpn7LhqW0VOIx4gR36eJAnrMHgHTFnmXQtlrXz6JmZGM0LB0kJLRPEpWKx98xVyRNDvMsr2Ymi6GVpmSjBHUJBfPtUy8XEdiCSQ20OB2udiPmi1TknESiaJiaJaMNoyyvIyWBlQewU1sugjHLH02c5LFS0Zb9gR5O06WRhsly8Q+j1cleWNUJPmjMJ7leqYkM9v1JmA2ND1sz2R5vxObxbn0mRCBTEkmjspSxSQZS0gd+SLAioGY5/lOLN8VlFd6ZiSTUkU6WkI4IVveL/zKa6LJKzObHXw/pqNYCGRCMtPI0uiQd2RCMpJQRz4ISLPDlv1vPigUV+rcJGOGEiPHO1pynUSTDFdcKOzUzKwgbNj72onyfFrPTTL58y+JFO9oiQNINpMsN5/K+rQgoM0OQaLYx7lIZv4/Lqm5Yf69h0RjZtORHQJmsyMrqaxG4hVJVrIXVc7MJDMJNK4UjL+c1o15Nq5m7oOzxJQNKyVZNjYSKTOTjIaQMnBcU4MljdzHoxpQoJ/vKPvdLPFk4KSNbPk3/XwIXt7TM5GM/4kT4kxTAkpZI88wCuuYHQFzr5tls0M6wuOC5uxaL+6TqUkW/1fHNM0Ms7TRbDafs5nNjqR98KzSaVeW/bSP/rF4VhSTn0tFMrNdn5Ys8ZfT8U5ksnp6NY6AWRWwrGPWYck47YfP8xnzY8qkXdU2cdTn+56KZHFjpCn7pBShEdMSdL4llufpeEUgWGZ5nKb8vyxEuV5ma8mwPNq4X5yaZHGSkHBph2zWxSni5Q4zZZZ7jLT6Ff3+OH6CY5bHouzHqAfXRVLRL/iRaijLbupl2Hwqkpn1uhh0FjLEiUpZjE4sdQTAWch7GUBd9RwmdkmlIXGLl4BJ90lWEDvKkdeLQjBprMWzlhDPtj3jRJKZEUQMEs9AaRxQyCSy5MjrBI/z6VhcBBi86RPxspV+IZl8lgB/lYhOJBmzGCMIUzRr5HlJwOdJJkZeRiqe2wbaVRqs7HMzgJNkkq3oczwXgjGj2zYmksy2Bam+diMgZJIKh99Z9tocjJVkdvtk6bQXcpVpYUqyMlmzBGtRkpXAiLqEYiMgJIvv/fmd+zUbX5RrJiu2zy2cdmyGkWhmB5tNN+7N2CyLk88GgJRkNlhpwXQk0eR9Ho8kF7uMtg4lma2WU72tQUBJZo2pVFFbEVCS2Wo51dsaBJRk1phKFbUVASWZrZZTva1BQElmjalUUVsRUJLZajnV2xoElGTWmEoVtRUBJZmtllO9rUFASWaNqVRRWxFQktlqOdXbGgSUZNaYShW1FQElma2WU72tQUBJZo2pVFFbEVCS2Wo51dsaBJRk1phKFbUVASWZrZZTva1BQElmjalUUVsRUJLZajnV2xoElGTWmEoVtRUBJZmtllO9rUFASWaNqVRRWxFQktlqOdXbGgSUZNaYShW1FQElma2WU72tQUBJZo2pVFFbEVCS2Wo51dsaBJRk1phKFbUVASUZAH/YR+9wAO/UVjMm6P12iP5BD71XA3h+wu95Xjr1MDjsoT+87InzXNTssheKZP7RPlr3G6jd3MDGzRoa91vonnjYv78CZ20bvbcxIN/2sFNbQe1xH1a5y0kX22sVVCoVVJwaWv3L1d5/3ULtehWNfwxjgC7m14UhmfdiBxtLFVSur2PzwTa2v99E7dYW9v+nj90vHVTvdjCMZ7K3fbS+28T2b3Y5y/AfDVTdDey88oH4mi7Bz4edJqruOnYOL5fcl7C0maZYDJIN93Hvswrc2g56JzGcjvfQ+NjF+v1dbH9TR/1v29iLIr//uoPWk/bFZ0562HvYRL3GbLiLzqEXCPVf76P1fQP1O/fQ6uxj72kbXfLzpIf2kxY6ryOnG3bRfhL9BmB40Mb23Trq3+6i86KD1rN9DHwfg3+20XrWwd6jJuq3mmjRab0+Oo/vofHXOpqPeJ+5Hh+DFy001xxUltbRfBjq7h910f57E427W9h93o/K4gT5fxyh+3ML7ecdtB5son5nC+1DD8NXbWx9XQv060YloHfYQeunPfTDpcM72MPu01Dv3g+rcFbuYZ9Yn3roP99B83Ydmw/30P2tjdZzyyoDE+IZzheAZD4GT2twnXVsH0QeYQDlvdjCCsuqioPVWw2sVytwvtxF/62P/uMNuDc20TETmT9A+46LiruOxrebqK+tovFsgDf9FurVCio3NtC4sw6XMpdqaL/24XWaWF5aDzMLgMGzOtzrdbSPgOHzZjC/u9bAZq0alnhf7KDvDdC+7Ybfq6vYuL2Fzn+/xM5NEmgV9TsbqFZc1H8enK3GH2L/SRPrbgXO55vYfryHP7ot1K9Tr3XUbq7Aqbio/dSHf5og/+A/0LwRlpnLtQbqKyw3XbjuMjbu1LG6VMHK/X148NGNiNQNiDRE5241xO1kgPYtF+7tNgb/8tD9YT3CdjOUV6lg5fsuLlribBllOys/yU6HASmctZ2Ley746D/ZCByv/pSO56H7/Qqcv2yhexI+59Z2cW5L43Wx9RcHy3f38G5ffzrE3t+qqHzaROeYnZSwBK0Ec/oIIvuNZkjWUw/73y0j0OcoyrC3W2FGOmoHhAgc+WQ/dPjPqQvdLgoWJOuBh+E/t7HquKg/M0jG25iZqyTSAD4Dwm0XjsgIsKjCubmLwf/G5QP+wTZWSYLvOhj6od6VyjKanSH8t0ZZzfNaRCSWo2972F5zQgIOO2jecLD+9x7evNrBuuNg41Ev2NMy2FQrVWz+YkatslHq4nrKTzI2L9YcuHfaF/dcp1EE/nwbPYZWkkOc56SLrc8crDyIR10fvSf1IFO5ta2wBBx2sHnDwarcS6f7PNrn/St0dPevEZEifZa/6eDoxRZWHTpxGNf9fgs1NySOf7iD9SWjeeAP0Ko5YWYLMm8F1du7od6GXYPMvLSKrZdeRDgHG9K4YTD4Osw4f/xXTL5kWDdqlESZzvlyB302hKI1rj/qwxciPQzJEzY6DL3dkJisBJxqmLGpYrBXZJBYsL3aApAsjMBOLXJywyHhhWQIS6DQkYIo/LCHN/1dbLijoq6P4Ytd1FlarW3jZff8vd7Lbaz+mxNmE2akTx2s/hBF84PtILrXng7wZ1A21tAK9mrMqjU4TlhWDn5uwL0uvwEIMmgFzhdN7P7SRe8oqeCKMvPHDewdA/5hpNfzKHOcMHM6WP62g1f/HpN/6qHzbZRhSSrO9xn17oZZ6OUWVpeW0fzNCzNedM4M2//J0FvW9Of/ofONIS8os6uorNyLMrNpiHKfl59k8NB9sIpKZQXNn1kSynuxId4EreazkisolyLnGf6yGXTods9FXR+Dl91wsx+UfStBififB2EGqj3twzvex1bQPl8Js0lQApJw0W9fMBuFvwVzLIV7Re/lDmou904sK6PXCixbhUvMsjcdsHwNsq7XR/dFrIEQZWb3ZlTiBqVjlGF9L8jA1aVVbL84Cl9bmPKNDMv3he8IGpV25/aRLPsoh2Xry13Ugj2foXdQGURrYANk6KH/tIFqpRLu1a6g43mVNF4AkrG718XOraipEJVa7td7+PN5E8tGqzl0JDYr3oQb+88MJ6eVgnIrakZEzZKNh114b9kMMeQ7FVSqYTbhfmXni+idFZ3sYweVj6NmynEHzU/lNxfLVXZAWxi8IaHcC68Vhs/vRU2a8Bk2F869dohnZnjoPaqFTZhA3yoaP/XgcU8Vl89gUD0LOO+CDDekzHJGVmJ5WGdACGS6qLoVBOXwibFvOwVYunKPF9y3tIyqE+7VzjVEr9L7L2nuxSBZQJDwXwi9l130XvWDpkXwTw/jHxH+8dk/P7zXPfT6w4svoflvhlc9dA966Jslmz9E/1UPvcNe0AR5l004t/z7oj+Ex3+XUG4Uzf2TAXoHPQw8H95RP5Qp/5g4vuiOgc4HXMPFf6jI3qhhdhxZ+XEt1Fc6NUnyqeOrPgZR5nyHTaCnD6/fQ++1pNWoGqDMYw/e65jeMg/nPuqHur71Mez3MTi5uKZL8vUrm2ZxSHZZEF/IJpcw8amPwWEXew/W4Zj7uEuYWqeYjICSbDJGqe4YlU1SCUl7c9BeZ1nmova4V67/YKbFooD3K8kKaBRVqVwIKMnKZU9dTQERUJIV0CiqUrkQUJKVy566mgIioCQroFFUpXIhoCQrlz11NQVEQElWQKOoSuVCQElWLnvqagqIgJKsgEZRlcqFgJKsXPbU1RQQASVZAY2iKpULASVZueypqykgAkqyAhpFVSoXAkqyctlTV1NABJRkBTSKqlQuBJRk5bKnrqaACCjJCmgUValcCCjJymVPXU0BEVCSFdAoqlK5EPh/xu1EPBbIXrMAAAAASUVORK5CYII=)"
      ]
    },
    {
      "cell_type": "code",
      "metadata": {
        "id": "DTgnBH_JZ8v_"
      },
      "source": [
        "from scipy.stats import chi2\n",
        "chi_square=sum([(o-e)**2./e for o,e in zip(Observed_Values,Expected_Values)])\n",
        "chi_square_statistic=chi_square[0]+chi_square[1]"
      ],
      "execution_count": 11,
      "outputs": []
    },
    {
      "cell_type": "code",
      "metadata": {
        "id": "JRwMb9wHZ8wA",
        "colab": {
          "base_uri": "https://localhost:8080/"
        },
        "outputId": "032f9a6b-6c7f-4a94-b644-a2b59b40feec"
      },
      "source": [
        "print(\"chi-square statistic:-\",chi_square_statistic)"
      ],
      "execution_count": 12,
      "outputs": [
        {
          "output_type": "stream",
          "text": [
            "chi-square statistic:- 0.001934818536627623\n"
          ],
          "name": "stdout"
        }
      ]
    },
    {
      "cell_type": "code",
      "metadata": {
        "id": "U5eui3DCZ8wA",
        "colab": {
          "base_uri": "https://localhost:8080/"
        },
        "outputId": "e0ada4b4-1a19-43ba-8aed-dae2b5c4d1d6"
      },
      "source": [
        "critical_value=chi2.ppf(q=1-alpha,df=ddof)\n",
        "print('critical_value:',critical_value)"
      ],
      "execution_count": 13,
      "outputs": [
        {
          "output_type": "stream",
          "text": [
            "critical_value: 3.841458820694124\n"
          ],
          "name": "stdout"
        }
      ]
    },
    {
      "cell_type": "code",
      "metadata": {
        "id": "wgZ7PTs7Z8wB",
        "colab": {
          "base_uri": "https://localhost:8080/"
        },
        "outputId": "a2d1545c-2980-4580-88ef-69a5bac06ac2"
      },
      "source": [
        "#p-value\n",
        "p_value=1-chi2.cdf(x=chi_square_statistic,df=ddof)\n",
        "print('p-value:',p_value)\n",
        "print('Significance level: ',alpha)\n",
        "print('Degree of Freedom: ',ddof)\n",
        "print('p-value:',p_value)"
      ],
      "execution_count": 14,
      "outputs": [
        {
          "output_type": "stream",
          "text": [
            "p-value: 0.964915107315732\n",
            "Significance level:  0.05\n",
            "Degree of Freedom:  1\n",
            "p-value: 0.964915107315732\n"
          ],
          "name": "stdout"
        }
      ]
    },
    {
      "cell_type": "code",
      "metadata": {
        "id": "h7pFIGKGZ8wC",
        "colab": {
          "base_uri": "https://localhost:8080/"
        },
        "outputId": "34d97bc8-dbde-4fba-90a5-7f4b39d1abb1"
      },
      "source": [
        "if chi_square_statistic>=critical_value:\n",
        "    print(\"Reject H0,There is a relationship between 2 categorical variables\")\n",
        "else:\n",
        "    print(\"Retain H0,There is no relationship between 2 categorical variables\")\n",
        "    \n",
        "if p_value<=alpha:\n",
        "    print(\"Reject H0,There is a relationship between 2 categorical variables\")\n",
        "else:\n",
        "    print(\"Retain H0,There is no relationship between 2 categorical variables\")"
      ],
      "execution_count": 15,
      "outputs": [
        {
          "output_type": "stream",
          "text": [
            "Retain H0,There is no relationship between 2 categorical variables\n",
            "Retain H0,There is no relationship between 2 categorical variables\n"
          ],
          "name": "stdout"
        }
      ]
    },
    {
      "cell_type": "markdown",
      "metadata": {
        "id": "upZ8sr35Z8wZ"
      },
      "source": [
        "## Anova Test(F-Test)\n",
        "The t-test works well when dealing with two groups, but sometimes we want to compare more than two groups at the same time.\n",
        "\n",
        "\n",
        "For example, if we wanted to test whether petal_width age differs based on some categorical variable like species, we have to compare the means of each level or group the variable"
      ]
    },
    {
      "cell_type": "markdown",
      "metadata": {
        "id": "XdR2H2CHZ8wa"
      },
      "source": [
        "### One Way F-test(Anova) :-\n",
        "It tell whether two or more groups are similar or not based on their mean similarity and f-score.\n",
        "\n",
        "Example : there are 3 different category of iris flowers and their petal width and need to check whether all 3 group are similar or not \n"
      ]
    },
    {
      "cell_type": "code",
      "metadata": {
        "id": "efBnWOQeZ8wa"
      },
      "source": [
        "import seaborn as sns\n",
        "df1=sns.load_dataset('iris')"
      ],
      "execution_count": 16,
      "outputs": []
    },
    {
      "cell_type": "code",
      "metadata": {
        "id": "DltHeLY_Z8wb",
        "colab": {
          "base_uri": "https://localhost:8080/",
          "height": 204
        },
        "outputId": "63fa1c44-b6bb-4a9b-cf93-fb841655ce6c"
      },
      "source": [
        "df1.head()"
      ],
      "execution_count": 17,
      "outputs": [
        {
          "output_type": "execute_result",
          "data": {
            "text/html": [
              "<div>\n",
              "<style scoped>\n",
              "    .dataframe tbody tr th:only-of-type {\n",
              "        vertical-align: middle;\n",
              "    }\n",
              "\n",
              "    .dataframe tbody tr th {\n",
              "        vertical-align: top;\n",
              "    }\n",
              "\n",
              "    .dataframe thead th {\n",
              "        text-align: right;\n",
              "    }\n",
              "</style>\n",
              "<table border=\"1\" class=\"dataframe\">\n",
              "  <thead>\n",
              "    <tr style=\"text-align: right;\">\n",
              "      <th></th>\n",
              "      <th>sepal_length</th>\n",
              "      <th>sepal_width</th>\n",
              "      <th>petal_length</th>\n",
              "      <th>petal_width</th>\n",
              "      <th>species</th>\n",
              "    </tr>\n",
              "  </thead>\n",
              "  <tbody>\n",
              "    <tr>\n",
              "      <th>0</th>\n",
              "      <td>5.1</td>\n",
              "      <td>3.5</td>\n",
              "      <td>1.4</td>\n",
              "      <td>0.2</td>\n",
              "      <td>setosa</td>\n",
              "    </tr>\n",
              "    <tr>\n",
              "      <th>1</th>\n",
              "      <td>4.9</td>\n",
              "      <td>3.0</td>\n",
              "      <td>1.4</td>\n",
              "      <td>0.2</td>\n",
              "      <td>setosa</td>\n",
              "    </tr>\n",
              "    <tr>\n",
              "      <th>2</th>\n",
              "      <td>4.7</td>\n",
              "      <td>3.2</td>\n",
              "      <td>1.3</td>\n",
              "      <td>0.2</td>\n",
              "      <td>setosa</td>\n",
              "    </tr>\n",
              "    <tr>\n",
              "      <th>3</th>\n",
              "      <td>4.6</td>\n",
              "      <td>3.1</td>\n",
              "      <td>1.5</td>\n",
              "      <td>0.2</td>\n",
              "      <td>setosa</td>\n",
              "    </tr>\n",
              "    <tr>\n",
              "      <th>4</th>\n",
              "      <td>5.0</td>\n",
              "      <td>3.6</td>\n",
              "      <td>1.4</td>\n",
              "      <td>0.2</td>\n",
              "      <td>setosa</td>\n",
              "    </tr>\n",
              "  </tbody>\n",
              "</table>\n",
              "</div>"
            ],
            "text/plain": [
              "   sepal_length  sepal_width  petal_length  petal_width species\n",
              "0           5.1          3.5           1.4          0.2  setosa\n",
              "1           4.9          3.0           1.4          0.2  setosa\n",
              "2           4.7          3.2           1.3          0.2  setosa\n",
              "3           4.6          3.1           1.5          0.2  setosa\n",
              "4           5.0          3.6           1.4          0.2  setosa"
            ]
          },
          "metadata": {
            "tags": []
          },
          "execution_count": 17
        }
      ]
    },
    {
      "cell_type": "code",
      "metadata": {
        "id": "DrOS1PTRZ8wb"
      },
      "source": [
        "df_anova = df1[['petal_width','species']]"
      ],
      "execution_count": 18,
      "outputs": []
    },
    {
      "cell_type": "code",
      "metadata": {
        "id": "XBJWMqpvZ8wc"
      },
      "source": [
        "grps = pd.unique(df_anova.species.values)"
      ],
      "execution_count": 19,
      "outputs": []
    },
    {
      "cell_type": "code",
      "metadata": {
        "id": "9ikDy5SZZ8wc",
        "colab": {
          "base_uri": "https://localhost:8080/"
        },
        "outputId": "d33a47cf-46d9-42b9-d860-773fb4c967fe"
      },
      "source": [
        "grps"
      ],
      "execution_count": 20,
      "outputs": [
        {
          "output_type": "execute_result",
          "data": {
            "text/plain": [
              "array(['setosa', 'versicolor', 'virginica'], dtype=object)"
            ]
          },
          "metadata": {
            "tags": []
          },
          "execution_count": 20
        }
      ]
    },
    {
      "cell_type": "code",
      "metadata": {
        "id": "7ib-O10iZ8wd"
      },
      "source": [
        "d_data = {grp:df_anova['petal_width'][df_anova.species == grp] for grp in grps}"
      ],
      "execution_count": 21,
      "outputs": []
    },
    {
      "cell_type": "code",
      "metadata": {
        "id": "LjlFYfWXZ8wd",
        "colab": {
          "base_uri": "https://localhost:8080/"
        },
        "outputId": "cb72fb5f-da1e-4320-ac1d-dc3c0befebd8"
      },
      "source": [
        "d_data"
      ],
      "execution_count": 22,
      "outputs": [
        {
          "output_type": "execute_result",
          "data": {
            "text/plain": [
              "{'setosa': 0     0.2\n",
              " 1     0.2\n",
              " 2     0.2\n",
              " 3     0.2\n",
              " 4     0.2\n",
              " 5     0.4\n",
              " 6     0.3\n",
              " 7     0.2\n",
              " 8     0.2\n",
              " 9     0.1\n",
              " 10    0.2\n",
              " 11    0.2\n",
              " 12    0.1\n",
              " 13    0.1\n",
              " 14    0.2\n",
              " 15    0.4\n",
              " 16    0.4\n",
              " 17    0.3\n",
              " 18    0.3\n",
              " 19    0.3\n",
              " 20    0.2\n",
              " 21    0.4\n",
              " 22    0.2\n",
              " 23    0.5\n",
              " 24    0.2\n",
              " 25    0.2\n",
              " 26    0.4\n",
              " 27    0.2\n",
              " 28    0.2\n",
              " 29    0.2\n",
              " 30    0.2\n",
              " 31    0.4\n",
              " 32    0.1\n",
              " 33    0.2\n",
              " 34    0.2\n",
              " 35    0.2\n",
              " 36    0.2\n",
              " 37    0.1\n",
              " 38    0.2\n",
              " 39    0.2\n",
              " 40    0.3\n",
              " 41    0.3\n",
              " 42    0.2\n",
              " 43    0.6\n",
              " 44    0.4\n",
              " 45    0.3\n",
              " 46    0.2\n",
              " 47    0.2\n",
              " 48    0.2\n",
              " 49    0.2\n",
              " Name: petal_width, dtype: float64, 'versicolor': 50    1.4\n",
              " 51    1.5\n",
              " 52    1.5\n",
              " 53    1.3\n",
              " 54    1.5\n",
              " 55    1.3\n",
              " 56    1.6\n",
              " 57    1.0\n",
              " 58    1.3\n",
              " 59    1.4\n",
              " 60    1.0\n",
              " 61    1.5\n",
              " 62    1.0\n",
              " 63    1.4\n",
              " 64    1.3\n",
              " 65    1.4\n",
              " 66    1.5\n",
              " 67    1.0\n",
              " 68    1.5\n",
              " 69    1.1\n",
              " 70    1.8\n",
              " 71    1.3\n",
              " 72    1.5\n",
              " 73    1.2\n",
              " 74    1.3\n",
              " 75    1.4\n",
              " 76    1.4\n",
              " 77    1.7\n",
              " 78    1.5\n",
              " 79    1.0\n",
              " 80    1.1\n",
              " 81    1.0\n",
              " 82    1.2\n",
              " 83    1.6\n",
              " 84    1.5\n",
              " 85    1.6\n",
              " 86    1.5\n",
              " 87    1.3\n",
              " 88    1.3\n",
              " 89    1.3\n",
              " 90    1.2\n",
              " 91    1.4\n",
              " 92    1.2\n",
              " 93    1.0\n",
              " 94    1.3\n",
              " 95    1.2\n",
              " 96    1.3\n",
              " 97    1.3\n",
              " 98    1.1\n",
              " 99    1.3\n",
              " Name: petal_width, dtype: float64, 'virginica': 100    2.5\n",
              " 101    1.9\n",
              " 102    2.1\n",
              " 103    1.8\n",
              " 104    2.2\n",
              " 105    2.1\n",
              " 106    1.7\n",
              " 107    1.8\n",
              " 108    1.8\n",
              " 109    2.5\n",
              " 110    2.0\n",
              " 111    1.9\n",
              " 112    2.1\n",
              " 113    2.0\n",
              " 114    2.4\n",
              " 115    2.3\n",
              " 116    1.8\n",
              " 117    2.2\n",
              " 118    2.3\n",
              " 119    1.5\n",
              " 120    2.3\n",
              " 121    2.0\n",
              " 122    2.0\n",
              " 123    1.8\n",
              " 124    2.1\n",
              " 125    1.8\n",
              " 126    1.8\n",
              " 127    1.8\n",
              " 128    2.1\n",
              " 129    1.6\n",
              " 130    1.9\n",
              " 131    2.0\n",
              " 132    2.2\n",
              " 133    1.5\n",
              " 134    1.4\n",
              " 135    2.3\n",
              " 136    2.4\n",
              " 137    1.8\n",
              " 138    1.8\n",
              " 139    2.1\n",
              " 140    2.4\n",
              " 141    2.3\n",
              " 142    1.9\n",
              " 143    2.3\n",
              " 144    2.5\n",
              " 145    2.3\n",
              " 146    1.9\n",
              " 147    2.0\n",
              " 148    2.3\n",
              " 149    1.8\n",
              " Name: petal_width, dtype: float64}"
            ]
          },
          "metadata": {
            "tags": []
          },
          "execution_count": 22
        }
      ]
    },
    {
      "cell_type": "code",
      "metadata": {
        "id": "T8r6_-u3Z8wf"
      },
      "source": [
        "F, p = stats.f_oneway(d_data['setosa'], d_data['versicolor'], d_data['virginica'])"
      ],
      "execution_count": 23,
      "outputs": []
    },
    {
      "cell_type": "code",
      "metadata": {
        "id": "qAlyDcA2Z8wf",
        "colab": {
          "base_uri": "https://localhost:8080/"
        },
        "outputId": "332a1c4d-f2e6-42ef-ff20-0f1c8c240d49"
      },
      "source": [
        "print(p)"
      ],
      "execution_count": 24,
      "outputs": [
        {
          "output_type": "stream",
          "text": [
            "4.169445839443116e-85\n"
          ],
          "name": "stdout"
        }
      ]
    },
    {
      "cell_type": "code",
      "metadata": {
        "id": "ZidD8oztZ8wg",
        "colab": {
          "base_uri": "https://localhost:8080/"
        },
        "outputId": "846cfc13-f4d3-4268-bf0f-1bb982c575ab"
      },
      "source": [
        "if p<0.05:\n",
        "    print(\"reject null hypothesis\")\n",
        "else:\n",
        "    print(\"accept null hypothesis\")"
      ],
      "execution_count": 25,
      "outputs": [
        {
          "output_type": "stream",
          "text": [
            "reject null hypothesis\n"
          ],
          "name": "stdout"
        }
      ]
    },
    {
      "cell_type": "markdown",
      "metadata": {
        "id": "UiIcFqzeJZkz"
      },
      "source": [
        "-----------"
      ]
    }
  ]
}