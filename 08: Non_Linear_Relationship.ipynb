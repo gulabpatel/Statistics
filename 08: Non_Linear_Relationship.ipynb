{
  "nbformat": 4,
  "nbformat_minor": 0,
  "metadata": {
    "colab": {
      "name": "08: Non Linear Relationship.ipynb",
      "provenance": [],
      "authorship_tag": "ABX9TyMkTQUB5m0pY86oNKYu2Ncp",
      "include_colab_link": true
    },
    "kernelspec": {
      "name": "python3",
      "display_name": "Python 3"
    },
    "language_info": {
      "name": "python"
    }
  },
  "cells": [
    {
      "cell_type": "markdown",
      "metadata": {
        "id": "view-in-github",
        "colab_type": "text"
      },
      "source": [
        "<a href=\"https://colab.research.google.com/github/gulabpatel/Statistics/blob/main/08%3A%20Non_Linear_Relationship.ipynb\" target=\"_parent\"><img src=\"https://colab.research.google.com/assets/colab-badge.svg\" alt=\"Open In Colab\"/></a>"
      ]
    },
    {
      "cell_type": "markdown",
      "metadata": {
        "id": "NpK78oRclCAe"
      },
      "source": [
        "Video walkthrough of the code : https://www.youtube.com/watch?v=3HqdLc09DFY\n",
        "\n",
        "Dataset : https://github.com/gulabpatel/Statistics/tree/main/Dataset"
      ]
    },
    {
      "cell_type": "code",
      "metadata": {
        "id": "69-oFCLxk8Qh"
      },
      "source": [
        "import warnings\n",
        "warnings.simplefilter(action='ignore', category=FutureWarning)\n",
        "warnings.simplefilter(action='ignore', category=Warning)\n",
        "\n",
        "import pandas as pd\n",
        "import numpy as np\n",
        "\n",
        "import seaborn as sns\n",
        "import matplotlib.pyplot as plt\n",
        "\n",
        "%matplotlib inline"
      ],
      "execution_count": 1,
      "outputs": []
    },
    {
      "cell_type": "code",
      "metadata": {
        "colab": {
          "base_uri": "https://localhost:8080/"
        },
        "id": "znk2_6hklBfH",
        "outputId": "27b52ba6-fe17-416e-8b53-6eee47acdd8f"
      },
      "source": [
        "from google.colab import drive\n",
        "drive.mount('/content/drive')"
      ],
      "execution_count": 2,
      "outputs": [
        {
          "output_type": "stream",
          "text": [
            "Drive already mounted at /content/drive; to attempt to forcibly remount, call drive.mount(\"/content/drive\", force_remount=True).\n"
          ],
          "name": "stdout"
        }
      ]
    },
    {
      "cell_type": "code",
      "metadata": {
        "colab": {
          "base_uri": "https://localhost:8080/",
          "height": 379
        },
        "id": "ijq4fAPmlNNT",
        "outputId": "0c26c234-6e59-4164-9568-6ac5929f1a6c"
      },
      "source": [
        "loan_df = pd.read_csv('/content/drive/MyDrive/dataset/loan_analysis_summary.csv')\n",
        "loan_df.sample(10)"
      ],
      "execution_count": 3,
      "outputs": [
        {
          "output_type": "execute_result",
          "data": {
            "text/html": [
              "<div>\n",
              "<style scoped>\n",
              "    .dataframe tbody tr th:only-of-type {\n",
              "        vertical-align: middle;\n",
              "    }\n",
              "\n",
              "    .dataframe tbody tr th {\n",
              "        vertical-align: top;\n",
              "    }\n",
              "\n",
              "    .dataframe thead th {\n",
              "        text-align: right;\n",
              "    }\n",
              "</style>\n",
              "<table border=\"1\" class=\"dataframe\">\n",
              "  <thead>\n",
              "    <tr style=\"text-align: right;\">\n",
              "      <th></th>\n",
              "      <th>fico_score</th>\n",
              "      <th>loan_total</th>\n",
              "      <th>default_total</th>\n",
              "      <th>dti</th>\n",
              "      <th>avg_loan_amnt</th>\n",
              "      <th>median_annual_inc</th>\n",
              "      <th>avg_annual_inc</th>\n",
              "      <th>int_rate</th>\n",
              "      <th>default_rate</th>\n",
              "      <th>actual_default_rate</th>\n",
              "    </tr>\n",
              "  </thead>\n",
              "  <tbody>\n",
              "    <tr>\n",
              "      <th>18</th>\n",
              "      <td>680</td>\n",
              "      <td>37968</td>\n",
              "      <td>3918</td>\n",
              "      <td>19.088208</td>\n",
              "      <td>13607.44969</td>\n",
              "      <td>64000</td>\n",
              "      <td>75615.08576</td>\n",
              "      <td>13.362121</td>\n",
              "      <td>3.032320</td>\n",
              "      <td>0.640402</td>\n",
              "    </tr>\n",
              "    <tr>\n",
              "      <th>8</th>\n",
              "      <td>580</td>\n",
              "      <td>11723</td>\n",
              "      <td>8004</td>\n",
              "      <td>20.742532</td>\n",
              "      <td>15020.67517</td>\n",
              "      <td>62000</td>\n",
              "      <td>73070.84885</td>\n",
              "      <td>14.791581</td>\n",
              "      <td>6.194663</td>\n",
              "      <td>1.308264</td>\n",
              "    </tr>\n",
              "    <tr>\n",
              "      <th>15</th>\n",
              "      <td>650</td>\n",
              "      <td>17249</td>\n",
              "      <td>2310</td>\n",
              "      <td>19.222320</td>\n",
              "      <td>13144.41852</td>\n",
              "      <td>62000</td>\n",
              "      <td>74223.04512</td>\n",
              "      <td>13.750977</td>\n",
              "      <td>1.787815</td>\n",
              "      <td>0.377573</td>\n",
              "    </tr>\n",
              "    <tr>\n",
              "      <th>1</th>\n",
              "      <td>510</td>\n",
              "      <td>8223</td>\n",
              "      <td>7191</td>\n",
              "      <td>19.747810</td>\n",
              "      <td>13889.67226</td>\n",
              "      <td>56000</td>\n",
              "      <td>65446.52263</td>\n",
              "      <td>15.440212</td>\n",
              "      <td>5.565445</td>\n",
              "      <td>1.175378</td>\n",
              "    </tr>\n",
              "    <tr>\n",
              "      <th>22</th>\n",
              "      <td>720</td>\n",
              "      <td>37891</td>\n",
              "      <td>1024</td>\n",
              "      <td>18.534565</td>\n",
              "      <td>14937.35848</td>\n",
              "      <td>68000</td>\n",
              "      <td>80257.22532</td>\n",
              "      <td>11.849898</td>\n",
              "      <td>0.792521</td>\n",
              "      <td>0.167374</td>\n",
              "    </tr>\n",
              "    <tr>\n",
              "      <th>25</th>\n",
              "      <td>750</td>\n",
              "      <td>23225</td>\n",
              "      <td>298</td>\n",
              "      <td>17.818053</td>\n",
              "      <td>15285.38859</td>\n",
              "      <td>69400</td>\n",
              "      <td>81545.86262</td>\n",
              "      <td>10.836394</td>\n",
              "      <td>0.230636</td>\n",
              "      <td>0.048708</td>\n",
              "    </tr>\n",
              "    <tr>\n",
              "      <th>20</th>\n",
              "      <td>700</td>\n",
              "      <td>40425</td>\n",
              "      <td>2027</td>\n",
              "      <td>19.027558</td>\n",
              "      <td>14434.50711</td>\n",
              "      <td>65000</td>\n",
              "      <td>78835.67874</td>\n",
              "      <td>12.641587</td>\n",
              "      <td>1.568788</td>\n",
              "      <td>0.331316</td>\n",
              "    </tr>\n",
              "    <tr>\n",
              "      <th>29</th>\n",
              "      <td>790</td>\n",
              "      <td>12844</td>\n",
              "      <td>92</td>\n",
              "      <td>17.470487</td>\n",
              "      <td>15706.57116</td>\n",
              "      <td>70000</td>\n",
              "      <td>81104.11345</td>\n",
              "      <td>9.542079</td>\n",
              "      <td>0.071203</td>\n",
              "      <td>0.015038</td>\n",
              "    </tr>\n",
              "    <tr>\n",
              "      <th>26</th>\n",
              "      <td>760</td>\n",
              "      <td>19593</td>\n",
              "      <td>230</td>\n",
              "      <td>17.653180</td>\n",
              "      <td>15343.85878</td>\n",
              "      <td>68000</td>\n",
              "      <td>80241.66723</td>\n",
              "      <td>10.547044</td>\n",
              "      <td>0.178008</td>\n",
              "      <td>0.037594</td>\n",
              "    </tr>\n",
              "    <tr>\n",
              "      <th>5</th>\n",
              "      <td>550</td>\n",
              "      <td>12817</td>\n",
              "      <td>10164</td>\n",
              "      <td>20.788260</td>\n",
              "      <td>14864.66412</td>\n",
              "      <td>60000</td>\n",
              "      <td>70157.60817</td>\n",
              "      <td>15.048212</td>\n",
              "      <td>7.866386</td>\n",
              "      <td>1.661319</td>\n",
              "    </tr>\n",
              "  </tbody>\n",
              "</table>\n",
              "</div>"
            ],
            "text/plain": [
              "    fico_score  loan_total  ...  default_rate  actual_default_rate\n",
              "18         680       37968  ...      3.032320             0.640402\n",
              "8          580       11723  ...      6.194663             1.308264\n",
              "15         650       17249  ...      1.787815             0.377573\n",
              "1          510        8223  ...      5.565445             1.175378\n",
              "22         720       37891  ...      0.792521             0.167374\n",
              "25         750       23225  ...      0.230636             0.048708\n",
              "20         700       40425  ...      1.568788             0.331316\n",
              "29         790       12844  ...      0.071203             0.015038\n",
              "26         760       19593  ...      0.178008             0.037594\n",
              "5          550       12817  ...      7.866386             1.661319\n",
              "\n",
              "[10 rows x 10 columns]"
            ]
          },
          "metadata": {
            "tags": []
          },
          "execution_count": 3
        }
      ]
    },
    {
      "cell_type": "code",
      "metadata": {
        "colab": {
          "base_uri": "https://localhost:8080/",
          "height": 111
        },
        "id": "c6Sfb1_NmHP2",
        "outputId": "aeaf8e48-b58d-408f-fa4d-c1b269d8d19a"
      },
      "source": [
        "loan_df[['fico_score', 'loan_total']].corr('spearman')"
      ],
      "execution_count": 4,
      "outputs": [
        {
          "output_type": "execute_result",
          "data": {
            "text/html": [
              "<div>\n",
              "<style scoped>\n",
              "    .dataframe tbody tr th:only-of-type {\n",
              "        vertical-align: middle;\n",
              "    }\n",
              "\n",
              "    .dataframe tbody tr th {\n",
              "        vertical-align: top;\n",
              "    }\n",
              "\n",
              "    .dataframe thead th {\n",
              "        text-align: right;\n",
              "    }\n",
              "</style>\n",
              "<table border=\"1\" class=\"dataframe\">\n",
              "  <thead>\n",
              "    <tr style=\"text-align: right;\">\n",
              "      <th></th>\n",
              "      <th>fico_score</th>\n",
              "      <th>loan_total</th>\n",
              "    </tr>\n",
              "  </thead>\n",
              "  <tbody>\n",
              "    <tr>\n",
              "      <th>fico_score</th>\n",
              "      <td>1.000000</td>\n",
              "      <td>0.043243</td>\n",
              "    </tr>\n",
              "    <tr>\n",
              "      <th>loan_total</th>\n",
              "      <td>0.043243</td>\n",
              "      <td>1.000000</td>\n",
              "    </tr>\n",
              "  </tbody>\n",
              "</table>\n",
              "</div>"
            ],
            "text/plain": [
              "            fico_score  loan_total\n",
              "fico_score    1.000000    0.043243\n",
              "loan_total    0.043243    1.000000"
            ]
          },
          "metadata": {
            "tags": []
          },
          "execution_count": 4
        }
      ]
    },
    {
      "cell_type": "code",
      "metadata": {
        "colab": {
          "base_uri": "https://localhost:8080/",
          "height": 297
        },
        "id": "IXmFAuzSmcXl",
        "outputId": "04f152e7-395a-4d12-d2e0-fcc88b19e6fe"
      },
      "source": [
        "sns.regplot(x='fico_score', y='loan_total', data=loan_df)"
      ],
      "execution_count": 5,
      "outputs": [
        {
          "output_type": "execute_result",
          "data": {
            "text/plain": [
              "<matplotlib.axes._subplots.AxesSubplot at 0x7fa1bfc33850>"
            ]
          },
          "metadata": {
            "tags": []
          },
          "execution_count": 5
        },
        {
          "output_type": "display_data",
          "data": {
            "image/png": "[encoded data removed]",
            "text/plain": [
              "<Figure size 432x288 with 1 Axes>"
            ]
          },
          "metadata": {
            "tags": [],
            "needs_background": "light"
          }
        }
      ]
    },
    {
      "cell_type": "code",
      "metadata": {
        "colab": {
          "base_uri": "https://localhost:8080/",
          "height": 282
        },
        "id": "svDQbR_ing7H",
        "outputId": "e343e0b9-ad83-44f3-e3a9-153d189d4ca5"
      },
      "source": [
        "coeff = np.poly1d(np.polyfit(loan_df['fico_score'], loan_df['loan_total'],5))\n",
        "coeff\n",
        "t = loan_df['fico_score']\n",
        "plt.plot(loan_df['fico_score'], loan_df['loan_total'],'o', t,coeff(t), '.')\n",
        "plt.show"
      ],
      "execution_count": 6,
      "outputs": [
        {
          "output_type": "execute_result",
          "data": {
            "text/plain": [
              "<function matplotlib.pyplot.show>"
            ]
          },
          "metadata": {
            "tags": []
          },
          "execution_count": 6
        },
        {
          "output_type": "display_data",
          "data": {
            "image/png": "[encoded data removed]",
            "text/plain": [
              "<Figure size 432x288 with 1 Axes>"
            ]
          },
          "metadata": {
            "tags": [],
            "needs_background": "light"
          }
        }
      ]
    },
    {
      "cell_type": "code",
      "metadata": {
        "colab": {
          "base_uri": "https://localhost:8080/"
        },
        "id": "29ajKrD4ou5F",
        "outputId": "f7b4ca4f-830d-4894-f9b8-acf747454a1f"
      },
      "source": [
        "coeff"
      ],
      "execution_count": 7,
      "outputs": [
        {
          "output_type": "execute_result",
          "data": {
            "text/plain": [
              "poly1d([ 6.00037793e-07, -1.99259784e-03,  2.61951319e+00, -1.70446336e+03,\n",
              "        5.49180402e+05, -7.01232540e+07])"
            ]
          },
          "metadata": {
            "tags": []
          },
          "execution_count": 7
        }
      ]
    },
    {
      "cell_type": "code",
      "metadata": {
        "colab": {
          "base_uri": "https://localhost:8080/",
          "height": 111
        },
        "id": "NTGCc-sZpoIv",
        "outputId": "b9dcd927-a5f8-416d-a7f4-7f2dc91721c1"
      },
      "source": [
        "loan_df[['dti','loan_total']].corr('spearman')"
      ],
      "execution_count": 8,
      "outputs": [
        {
          "output_type": "execute_result",
          "data": {
            "text/html": [
              "<div>\n",
              "<style scoped>\n",
              "    .dataframe tbody tr th:only-of-type {\n",
              "        vertical-align: middle;\n",
              "    }\n",
              "\n",
              "    .dataframe tbody tr th {\n",
              "        vertical-align: top;\n",
              "    }\n",
              "\n",
              "    .dataframe thead th {\n",
              "        text-align: right;\n",
              "    }\n",
              "</style>\n",
              "<table border=\"1\" class=\"dataframe\">\n",
              "  <thead>\n",
              "    <tr style=\"text-align: right;\">\n",
              "      <th></th>\n",
              "      <th>dti</th>\n",
              "      <th>loan_total</th>\n",
              "    </tr>\n",
              "  </thead>\n",
              "  <tbody>\n",
              "    <tr>\n",
              "      <th>dti</th>\n",
              "      <td>1.000000</td>\n",
              "      <td>0.029344</td>\n",
              "    </tr>\n",
              "    <tr>\n",
              "      <th>loan_total</th>\n",
              "      <td>0.029344</td>\n",
              "      <td>1.000000</td>\n",
              "    </tr>\n",
              "  </tbody>\n",
              "</table>\n",
              "</div>"
            ],
            "text/plain": [
              "                 dti  loan_total\n",
              "dti         1.000000    0.029344\n",
              "loan_total  0.029344    1.000000"
            ]
          },
          "metadata": {
            "tags": []
          },
          "execution_count": 8
        }
      ]
    },
    {
      "cell_type": "code",
      "metadata": {
        "colab": {
          "base_uri": "https://localhost:8080/",
          "height": 296
        },
        "id": "4aDMEUG8p2QR",
        "outputId": "452f4d19-b789-4303-9c6d-dc3ca456898a"
      },
      "source": [
        "sns.regplot(x='dti', y='loan_total', data=loan_df)"
      ],
      "execution_count": 9,
      "outputs": [
        {
          "output_type": "execute_result",
          "data": {
            "text/plain": [
              "<matplotlib.axes._subplots.AxesSubplot at 0x7fa1bf5de8d0>"
            ]
          },
          "metadata": {
            "tags": []
          },
          "execution_count": 9
        },
        {
          "output_type": "display_data",
          "data": {
            "image/png": "[encoded data removed]",
            "text/plain": [
              "<Figure size 432x288 with 1 Axes>"
            ]
          },
          "metadata": {
            "tags": [],
            "needs_background": "light"
          }
        }
      ]
    },
    {
      "cell_type": "code",
      "metadata": {
        "id": "BRThhSDFqF-l"
      },
      "source": [
        "from sklearn.preprocessing import PolynomialFeatures\n",
        "from sklearn.linear_model import LinearRegression"
      ],
      "execution_count": 10,
      "outputs": []
    },
    {
      "cell_type": "code",
      "metadata": {
        "id": "QRA1kZGhrP__"
      },
      "source": [
        "polynomial_features = PolynomialFeatures(degree=4)\n",
        "x_poly = polynomial_features.fit_transform(loan_df[['dti']])"
      ],
      "execution_count": 11,
      "outputs": []
    },
    {
      "cell_type": "code",
      "metadata": {
        "colab": {
          "base_uri": "https://localhost:8080/"
        },
        "id": "jInxY7aqr3uB",
        "outputId": "7a5b3f56-d791-4e63-8132-5ed0deebd50c"
      },
      "source": [
        "model = LinearRegression()\n",
        "model.fit(x_poly, loan_df['loan_total'])"
      ],
      "execution_count": 12,
      "outputs": [
        {
          "output_type": "execute_result",
          "data": {
            "text/plain": [
              "LinearRegression(copy_X=True, fit_intercept=True, n_jobs=None, normalize=False)"
            ]
          },
          "metadata": {
            "tags": []
          },
          "execution_count": 12
        }
      ]
    },
    {
      "cell_type": "code",
      "metadata": {
        "id": "IY0kjo4fsITX"
      },
      "source": [
        "y_pred = model.predict(x_poly)"
      ],
      "execution_count": 13,
      "outputs": []
    },
    {
      "cell_type": "code",
      "metadata": {
        "colab": {
          "base_uri": "https://localhost:8080/"
        },
        "id": "9GhAbTQssRVy",
        "outputId": "f7ad15b4-8ac9-4ade-d277-9ca86b9a94fa"
      },
      "source": [
        "model.coef_"
      ],
      "execution_count": 14,
      "outputs": [
        {
          "output_type": "execute_result",
          "data": {
            "text/plain": [
              "array([ 0.00000000e+00, -1.33678762e+07,  1.11964965e+06, -4.13729904e+04,\n",
              "        5.69311839e+02])"
            ]
          },
          "metadata": {
            "tags": []
          },
          "execution_count": 14
        }
      ]
    },
    {
      "cell_type": "code",
      "metadata": {
        "colab": {
          "base_uri": "https://localhost:8080/"
        },
        "id": "OsX84HgfsXWw",
        "outputId": "8dc3b417-3bdc-4b5e-ae57-5ea25f4b43a7"
      },
      "source": [
        "model.intercept_"
      ],
      "execution_count": 15,
      "outputs": [
        {
          "output_type": "execute_result",
          "data": {
            "text/plain": [
              "59406562.586883076"
            ]
          },
          "metadata": {
            "tags": []
          },
          "execution_count": 15
        }
      ]
    },
    {
      "cell_type": "code",
      "metadata": {
        "colab": {
          "base_uri": "https://localhost:8080/",
          "height": 282
        },
        "id": "v9KqyJudsZSr",
        "outputId": "5c00e28c-c2d9-471e-a089-cb8a1d6a8d0b"
      },
      "source": [
        "plt.scatter(loan_df['dti'], loan_df['loan_total'], color='black')\n",
        "plt.scatter(loan_df['dti'], y_pred, color='blue', linewidth=3)"
      ],
      "execution_count": 16,
      "outputs": [
        {
          "output_type": "execute_result",
          "data": {
            "text/plain": [
              "<matplotlib.collections.PathCollection at 0x7fa1ba43ded0>"
            ]
          },
          "metadata": {
            "tags": []
          },
          "execution_count": 16
        },
        {
          "output_type": "display_data",
          "data": {
            "image/png": "[encoded data removed]",
            "text/plain": [
              "<Figure size 432x288 with 1 Axes>"
            ]
          },
          "metadata": {
            "tags": [],
            "needs_background": "light"
          }
        }
      ]
    },
    {
      "cell_type": "code",
      "metadata": {
        "id": "EPn3YJrDs7XY"
      },
      "source": [
        "##Tunnning\n",
        "\n",
        "from sklearn.linear_model import Ridge\n",
        "from sklearn.pipeline  import make_pipeline"
      ],
      "execution_count": 17,
      "outputs": []
    },
    {
      "cell_type": "code",
      "metadata": {
        "colab": {
          "base_uri": "https://localhost:8080/",
          "height": 265
        },
        "id": "KlD5AECAxaL1",
        "outputId": "f31df5d5-1618-46e7-8bcc-b55b5e7742c7"
      },
      "source": [
        "plt.scatter(loan_df['dti'], loan_df['loan_total'], color='navy', s=30, marker='o', label='training points')\n",
        "\n",
        "for count, degree in enumerate([2,3,4]):\n",
        "  model = make_pipeline(PolynomialFeatures(degree), Ridge())\n",
        "  model.fit(loan_df[['dti']], loan_df['loan_total'])\n",
        "  y_plot = model.predict(loan_df[['dti']])\n",
        "  plt.plot(loan_df['dti'], y_plot, linewidth=3,label='degree %d' % degree)"
      ],
      "execution_count": 20,
      "outputs": [
        {
          "output_type": "display_data",
          "data": {
            "image/png": "[encoded data removed]",
            "text/plain": [
              "<Figure size 432x288 with 1 Axes>"
            ]
          },
          "metadata": {
            "tags": [],
            "needs_background": "light"
          }
        }
      ]
    },
    {
      "cell_type": "code",
      "metadata": {
        "colab": {
          "base_uri": "https://localhost:8080/",
          "height": 265
        },
        "id": "H6eOEGYByJfR",
        "outputId": "6219d040-18b2-4e17-ca98-0399219f38bc"
      },
      "source": [
        "plt.scatter(loan_df['dti'], loan_df['loan_total'], color='navy', s=30, marker='o', label='training points')\n",
        "\n",
        "colors = ['teal', 'yelowgreen', 'gold']\n",
        "lw = 2\n",
        "\n",
        "for count, degree in enumerate([2,3,4,5,6,7,8]):\n",
        "  model = make_pipeline(PolynomialFeatures(degree), Ridge())\n",
        "  model.fit(loan_df[['dti']], loan_df['loan_total'])\n",
        "  y_plot = model.predict(loan_df[['dti']])\n",
        "  plt.plot(loan_df['dti'], y_plot, linewidth=2,label='degree %d' % degree)"
      ],
      "execution_count": 22,
      "outputs": [
        {
          "output_type": "display_data",
          "data": {
            "image/png": "[encoded data removed]",
            "text/plain": [
              "<Figure size 432x288 with 1 Axes>"
            ]
          },
          "metadata": {
            "tags": [],
            "needs_background": "light"
          }
        }
      ]
    }
  ]
}